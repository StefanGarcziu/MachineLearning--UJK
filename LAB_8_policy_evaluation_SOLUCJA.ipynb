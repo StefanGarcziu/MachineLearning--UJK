{
  "nbformat": 4,
  "nbformat_minor": 0,
  "metadata": {
    "colab": {
      "name": "LAB_8_policy_evaluation_SOLUCJA.ipynb",
      "provenance": [],
      "collapsed_sections": []
    },
    "kernelspec": {
      "name": "python3",
      "display_name": "Python 3"
    }
  },
  "cells": [
    {
      "cell_type": "markdown",
      "metadata": {
        "id": "ogbY1kL4kLCT"
      },
      "source": [
        "### **Uczenie Maszynowe, Laboratoria 8 - Programowanie Dynamiczne**\n",
        "### - Ewaluacja Polityki\n",
        "\n",
        "\n",
        "\n",
        "---\n",
        "\n",
        "\n",
        "*Aut. skryptu: Agnieszka Łysak, 10.05.2021*"
      ]
    },
    {
      "cell_type": "markdown",
      "metadata": {
        "id": "ObIz1St2kpo9"
      },
      "source": [
        "*   Wzór nr 1: Iteracyjne Równanie Bellmana:\n",
        "\n",
        "\n",
        "\n",
        "\n",
        "\n"
      ]
    },
    {
      "cell_type": "markdown",
      "metadata": {
        "id": "W2i34ASSl8mH"
      },
      "source": [
        "$$ v(s)_\\pi =  \\sum \\limits _{a} \\pi(a|s) \\sum \\limits _{s'} \\sum \\limits _{r} p(s',r|s,a) [r+\\gamma v_\\pi(s')]$$"
      ]
    },
    {
      "cell_type": "markdown",
      "metadata": {
        "id": "zyQh5efrmPBb"
      },
      "source": [
        "$$↓$$"
      ]
    },
    {
      "cell_type": "markdown",
      "metadata": {
        "id": "BcT9F9ERjsEc"
      },
      "source": [
        "$$ v(s)_{k+1} =  \\sum \\limits _{a} \\pi(a|s) \\sum \\limits _{s'} \\sum \\limits _{r} p(s',r|s,a) [r+\\gamma v_k(s')]$$"
      ]
    },
    {
      "cell_type": "markdown",
      "metadata": {
        "id": "OSS4OPBM7Ncy"
      },
      "source": [
        "*   Wzór nr 2: Obliczanie Delty (różnicy w zmianie wartości v):"
      ]
    },
    {
      "cell_type": "markdown",
      "metadata": {
        "id": "E9_VQSfO6qpe"
      },
      "source": [
        "$$ \\Delta = max_a |v_{k+1}(s) - v_k(s) | $$"
      ]
    },
    {
      "cell_type": "code",
      "metadata": {
        "id": "P8wQZLzSyfZS",
        "colab": {
          "base_uri": "https://localhost:8080/"
        },
        "outputId": "c586d6e3-6f4a-46ab-8872-2d0f085339d6"
      },
      "source": [
        "import numpy as np\n",
        "import matplotlib.pyplot as plt\n",
        "%matplotlib inline\n",
        "import seaborn as sns\n",
        "\n",
        "import gym\n",
        "\n",
        "env = gym.make(\"FrozenLake-v0\", is_slippery=True).env\n",
        "env.reset()\n",
        "env.render()"
      ],
      "execution_count": null,
      "outputs": [
        {
          "output_type": "stream",
          "text": [
            "\n",
            "\u001b[41mS\u001b[0mFFF\n",
            "FHFH\n",
            "FFFH\n",
            "HFFG\n"
          ],
          "name": "stdout"
        }
      ]
    },
    {
      "cell_type": "code",
      "metadata": {
        "colab": {
          "base_uri": "https://localhost:8080/"
        },
        "id": "MiJd5QwWRa4w",
        "outputId": "b5e93229-60b3-408f-c25c-d2e5819fe5bc"
      },
      "source": [
        "env.action_space"
      ],
      "execution_count": null,
      "outputs": [
        {
          "output_type": "execute_result",
          "data": {
            "text/plain": [
              "Discrete(4)"
            ]
          },
          "metadata": {
            "tags": []
          },
          "execution_count": 2
        }
      ]
    },
    {
      "cell_type": "code",
      "metadata": {
        "colab": {
          "base_uri": "https://localhost:8080/"
        },
        "id": "5oyQNsx4RdiB",
        "outputId": "6b2b0420-1900-47dd-b8f0-13a0b5407e17"
      },
      "source": [
        "env.observation_space"
      ],
      "execution_count": null,
      "outputs": [
        {
          "output_type": "execute_result",
          "data": {
            "text/plain": [
              "Discrete(16)"
            ]
          },
          "metadata": {
            "tags": []
          },
          "execution_count": 3
        }
      ]
    },
    {
      "cell_type": "code",
      "metadata": {
        "id": "aLYVuz1sQt4J"
      },
      "source": [
        "n_states = env.observation_space.n\n",
        "n_actions = env.action_space.n"
      ],
      "execution_count": null,
      "outputs": []
    },
    {
      "cell_type": "code",
      "metadata": {
        "id": "-ZTvhzCmOpqg"
      },
      "source": [
        "states = list(range(env.observation_space.n))\n",
        "actions = list(range(env.action_space.n))"
      ],
      "execution_count": null,
      "outputs": []
    },
    {
      "cell_type": "code",
      "metadata": {
        "colab": {
          "base_uri": "https://localhost:8080/"
        },
        "id": "xiCQNZxcOrdX",
        "outputId": "56fb72c1-953f-4cab-d657-234f2c5973bf"
      },
      "source": [
        "states"
      ],
      "execution_count": null,
      "outputs": [
        {
          "output_type": "execute_result",
          "data": {
            "text/plain": [
              "[0, 1, 2, 3, 4, 5, 6, 7, 8, 9, 10, 11, 12, 13, 14, 15]"
            ]
          },
          "metadata": {
            "tags": []
          },
          "execution_count": 6
        }
      ]
    },
    {
      "cell_type": "code",
      "metadata": {
        "colab": {
          "base_uri": "https://localhost:8080/"
        },
        "id": "H0G0WU0aaEmf",
        "outputId": "eed60cbf-d068-48be-dade-795a94ba1ffe"
      },
      "source": [
        "actions"
      ],
      "execution_count": null,
      "outputs": [
        {
          "output_type": "execute_result",
          "data": {
            "text/plain": [
              "[0, 1, 2, 3]"
            ]
          },
          "metadata": {
            "tags": []
          },
          "execution_count": 7
        }
      ]
    },
    {
      "cell_type": "code",
      "metadata": {
        "id": "RTca4pPbVHvb"
      },
      "source": [
        "def initialize_policy(n_states, n_actions):\n",
        "  \n",
        "    policy = np.zeros(shape=(n_states, n_actions)) +  1/n_actions\n",
        "    \n",
        "    return policy\n",
        "\n",
        "policy = initialize_policy(n_states, n_actions)"
      ],
      "execution_count": null,
      "outputs": []
    },
    {
      "cell_type": "code",
      "metadata": {
        "colab": {
          "base_uri": "https://localhost:8080/",
          "height": 606
        },
        "id": "MiLNjCj-Vi0D",
        "outputId": "48160c05-8691-418a-b5cc-b499ca8e4d0c"
      },
      "source": [
        "plt.figure(figsize=(4, 10))\n",
        "sns.heatmap(policy, cmap=\"Blues\", annot=True, cbar=False)\n",
        "plt.xlabel(\"Actions\")\n",
        "plt.ylabel(\"States\")\n",
        "plt.show()"
      ],
      "execution_count": null,
      "outputs": [
        {
          "output_type": "display_data",
          "data": {
            "image/png": "[encoded data removed]",
            "text/plain": [
              "<Figure size 288x720 with 1 Axes>"
            ]
          },
          "metadata": {
            "tags": [],
            "needs_background": "light"
          }
        }
      ]
    },
    {
      "cell_type": "code",
      "metadata": {
        "id": "VzLGK3jQar3q"
      },
      "source": [
        "V = np.zeros(n_states)\n",
        "pi = policy\n",
        "gamma = 1\n",
        "theta = 0.0001"
      ],
      "execution_count": null,
      "outputs": []
    },
    {
      "cell_type": "code",
      "metadata": {
        "colab": {
          "base_uri": "https://localhost:8080/"
        },
        "id": "LtO2w10s2N4M",
        "outputId": "22c9c977-d4c2-48be-bb9f-cdb267f4d439"
      },
      "source": [
        "env.P[0][1]"
      ],
      "execution_count": null,
      "outputs": [
        {
          "output_type": "execute_result",
          "data": {
            "text/plain": [
              "[(0.3333333333333333, 0, 0.0, False),\n",
              " (0.3333333333333333, 4, 0.0, False),\n",
              " (0.3333333333333333, 1, 0.0, False)]"
            ]
          },
          "metadata": {
            "tags": []
          },
          "execution_count": 121
        }
      ]
    },
    {
      "cell_type": "code",
      "metadata": {
        "id": "W3-8eSltYn4q"
      },
      "source": [
        "def bellman_update(env, V, pi, s, gamma):\n",
        "    v = 0.\n",
        "    for a in actions:\n",
        "        for p, s_, r, done in env.P[s][a]:\n",
        "            v += pi[s][a] * p * (r + gamma * V[s_])\n",
        "    V[s] = v\n",
        "\n",
        "    #print(s)\n",
        "    #print(a)\n",
        "    #print(v)\n",
        "    #print(s, V[s])"
      ],
      "execution_count": null,
      "outputs": []
    },
    {
      "cell_type": "code",
      "metadata": {
        "id": "sKyt6oZSYtVj"
      },
      "source": [
        "def evaluate_policy(env, V, pi, gamma, theta):\n",
        "    delta = float('inf')\n",
        "    while delta > theta:\n",
        "        delta = 0\n",
        "        for s in states:\n",
        "            v = V[s]\n",
        "            bellman_update(env, V, pi, s, gamma)\n",
        "            delta = max(delta, abs(v - V[s]))\n",
        "            #print(s, delta)\n",
        "            \n",
        "    return V"
      ],
      "execution_count": null,
      "outputs": []
    },
    {
      "cell_type": "code",
      "metadata": {
        "id": "utg2CwK_azO_"
      },
      "source": [
        "V = evaluate_policy(env, V, pi, gamma, theta)\n",
        "\n",
        "plt.figure(figsize=(8, 8))\n",
        "sns.heatmap(V.reshape(4, 4), cmap=\"Blues\", annot=True, cbar=False)\n",
        "plt.show"
      ],
      "execution_count": null,
      "outputs": []
    },
    {
      "cell_type": "code",
      "metadata": {
        "colab": {
          "base_uri": "https://localhost:8080/"
        },
        "id": "FEzxJVdU8trA",
        "outputId": "7191e1ea-3ef2-4dfb-de45-f84494adcbde"
      },
      "source": [
        "V"
      ],
      "execution_count": null,
      "outputs": [
        {
          "output_type": "execute_result",
          "data": {
            "text/plain": [
              "array([0.01362153, 0.01144634, 0.02081586, 0.01037763, 0.01609442,\n",
              "       0.        , 0.04070908, 0.        , 0.03473223, 0.0881362 ,\n",
              "       0.1420284 , 0.        , 0.        , 0.17579915, 0.43927396,\n",
              "       0.        ])"
            ]
          },
          "metadata": {
            "tags": []
          },
          "execution_count": 82
        }
      ]
    },
    {
      "cell_type": "code",
      "metadata": {
        "id": "TX3Z0aUxd2uB",
        "colab": {
          "base_uri": "https://localhost:8080/"
        },
        "outputId": "7317cc44-516b-46c9-be4b-ec2b0213a51d"
      },
      "source": [
        "arr = np.array([1, 2, 3, 4, 5, 6, 7, 8])\n",
        "\n",
        "print(arr.reshape(2, 4))"
      ],
      "execution_count": null,
      "outputs": [
        {
          "output_type": "stream",
          "text": [
            "[[1 2 3 4]\n",
            " [5 6 7 8]]\n"
          ],
          "name": "stdout"
        }
      ]
    },
    {
      "cell_type": "code",
      "metadata": {
        "id": "2h1gkbRQ8fGW"
      },
      "source": [
        "def bellman_update(env, V, pi, s, gamma):\n",
        "    v = 0\n",
        "    for a in actions:\n",
        "        for p, s_, r, done in env.P[s][a]:\n",
        "            v += pi[s][a] * p * (r + gamma * V[s_])\n",
        "    V[s] = v"
      ],
      "execution_count": null,
      "outputs": []
    },
    {
      "cell_type": "code",
      "metadata": {
        "colab": {
          "base_uri": "https://localhost:8080/",
          "height": 337
        },
        "id": "zdf6IuiBVIZB",
        "outputId": "fff66b04-fa73-4c6e-e0cf-86c1049816f3"
      },
      "source": [
        "plt.figure(figsize=(5, 5))\n",
        "sns.heatmap(V.reshape(4, 4), cmap=\"Blues\", annot=True, cbar=False)"
      ],
      "execution_count": null,
      "outputs": [
        {
          "output_type": "execute_result",
          "data": {
            "text/plain": [
              "<matplotlib.axes._subplots.AxesSubplot at 0x7ffac61f9290>"
            ]
          },
          "metadata": {
            "tags": []
          },
          "execution_count": 127
        },
        {
          "output_type": "display_data",
          "data": {
            "image/png": "[encoded data removed]",
            "text/plain": [
              "<Figure size 360x360 with 1 Axes>"
            ]
          },
          "metadata": {
            "tags": [],
            "needs_background": "light"
          }
        }
      ]
    },
    {
      "cell_type": "code",
      "metadata": {
        "colab": {
          "base_uri": "https://localhost:8080/"
        },
        "id": "iMwG3WZwBJqn",
        "outputId": "118c67ce-36ec-4388-933d-0ce3cd9b1dc3"
      },
      "source": [
        "env.render()"
      ],
      "execution_count": null,
      "outputs": [
        {
          "output_type": "stream",
          "text": [
            "\n",
            "\u001b[41mS\u001b[0mFFF\n",
            "FHFH\n",
            "FFFH\n",
            "HFFG\n"
          ],
          "name": "stdout"
        }
      ]
    },
    {
      "cell_type": "code",
      "metadata": {
        "id": "vp6str1uBLa2"
      },
      "source": [
        "# Źródła:\n",
        "# [1] Richard S. Sutton, Andrew G. Barto, \"Reinforcement Learning: An Introduction\", second edition, The MIT Press, Cambridge, Massachusetts, London, England, 2018, s. 75\n",
        "# [2] Deep Learning Wizard, \"Dynamic Programming\", https://www.deeplearningwizard.com/deep_learning/deep_reinforcement_learning_pytorch/dynamic_programming_frozenlake/"
      ],
      "execution_count": 1,
      "outputs": []
    }
  ]
}