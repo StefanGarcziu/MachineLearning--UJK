{
  "nbformat": 4,
  "nbformat_minor": 0,
  "metadata": {
    "colab": {
      "name": "LAB_2_openai_gym_STARTER.ipynb",
      "provenance": [],
      "collapsed_sections": [],
      "include_colab_link": true
    },
    "kernelspec": {
      "name": "python3",
      "display_name": "Python 3"
    }
  },
  "cells": [
    {
      "cell_type": "markdown",
      "metadata": {
        "id": "view-in-github",
        "colab_type": "text"
      },
      "source": [
        "<a href=\"https://colab.research.google.com/github/StefanGarcziu/MachineLearning--UJK/blob/main/LAB_2_openai_gym_STARTER.ipynb\" target=\"_parent\"><img src=\"https://colab.research.google.com/assets/colab-badge.svg\" alt=\"Open In Colab\"/></a>"
      ]
    },
    {
      "cell_type": "code",
      "metadata": {
        "id": "9RnnVMGXsEqN",
        "colab": {
          "base_uri": "https://localhost:8080/"
        },
        "outputId": "ec5480d2-a566-4b94-ccd8-8df5d5ccdd76"
      },
      "source": [
        "# Rozwiązanie dla renderowania środowiska OpenAI Gym dla Google Colab, źródło:\n",
        "# Yandex Data School, Higher School of Economics, Practical_RL Course, Github, https://github.com/yandexdataschool/Practical_RL/blob/master/setup_colab.sh\n",
        "\n",
        "import sys, os\n",
        "if 'google.colab' in sys.modules and not os.path.exists('.setup_complete'):\n",
        "    !wget -q https://raw.githubusercontent.com/yandexdataschool/Practical_RL/master/setup_colab.sh -O- | bash\n",
        "    !touch .setup_complete\n",
        "\n",
        "if type(os.environ.get(\"DISPLAY\")) is not str or len(os.environ.get(\"DISPLAY\")) == 0:\n",
        "    !bash ../xvfb start\n",
        "    os.environ['DISPLAY'] = ':1'"
      ],
      "execution_count": 1,
      "outputs": [
        {
          "output_type": "stream",
          "text": [
            "Selecting previously unselected package xvfb.\n",
            "(Reading database ... 160975 files and directories currently installed.)\n",
            "Preparing to unpack .../xvfb_2%3a1.19.6-1ubuntu4.8_amd64.deb ...\n",
            "Unpacking xvfb (2:1.19.6-1ubuntu4.8) ...\n",
            "Setting up xvfb (2:1.19.6-1ubuntu4.8) ...\n",
            "Processing triggers for man-db (2.8.3-2ubuntu0.1) ...\n",
            "Starting virtual X frame buffer: Xvfb.\n"
          ],
          "name": "stdout"
        }
      ]
    },
    {
      "cell_type": "code",
      "metadata": {
        "id": "daJTqQrxuexI",
        "colab": {
          "base_uri": "https://localhost:8080/",
          "height": 34
        },
        "outputId": "b96d98b0-0b91-4065-d299-c3292eafaab1"
      },
      "source": [
        "import matplotlib.pyplot as plt\n",
        "%matplotlib inline\n",
        "plt.figure(figsize=(4, 3))\n",
        "\n",
        "from IPython import display\n",
        "display.clear_output(wait=True)"
      ],
      "execution_count": 2,
      "outputs": [
        {
          "output_type": "display_data",
          "data": {
            "text/plain": [
              "<Figure size 288x216 with 0 Axes>"
            ]
          },
          "metadata": {
            "tags": []
          }
        }
      ]
    },
    {
      "cell_type": "code",
      "metadata": {
        "colab": {
          "base_uri": "https://localhost:8080/"
        },
        "id": "k6ot1hleoyqn",
        "outputId": "47aaf869-52da-4d69-b86f-825d1d1130e4"
      },
      "source": [
        "import gym\n",
        " \n",
        "env = gym.make(\"MountainCar-v0\")\n",
        "env.reset()"
      ],
      "execution_count": 3,
      "outputs": [
        {
          "output_type": "execute_result",
          "data": {
            "text/plain": [
              "array([-0.51327426,  0.        ])"
            ]
          },
          "metadata": {
            "tags": []
          },
          "execution_count": 3
        }
      ]
    },
    {
      "cell_type": "code",
      "metadata": {
        "colab": {
          "base_uri": "https://localhost:8080/"
        },
        "id": "QFsdb46cpiuG",
        "outputId": "418c51b0-beda-4e41-a204-49adaee56335"
      },
      "source": [
        "print(env.reset())"
      ],
      "execution_count": 4,
      "outputs": [
        {
          "output_type": "stream",
          "text": [
            "[-0.50521691  0.        ]\n"
          ],
          "name": "stdout"
        }
      ]
    },
    {
      "cell_type": "code",
      "metadata": {
        "colab": {
          "base_uri": "https://localhost:8080/"
        },
        "id": "pJeEWtNjp9J7",
        "outputId": "e3764d3e-6329-456a-f51c-acbf30b25b99"
      },
      "source": [
        "observation0 = env.reset()\n",
        "print(observation0)"
      ],
      "execution_count": 5,
      "outputs": [
        {
          "output_type": "stream",
          "text": [
            "[-0.45283697  0.        ]\n"
          ],
          "name": "stdout"
        }
      ]
    },
    {
      "cell_type": "code",
      "metadata": {
        "colab": {
          "base_uri": "https://localhost:8080/",
          "height": 286
        },
        "id": "iksEzDB1qI59",
        "outputId": "df258240-9184-4a7c-e7bb-5d2729291c07"
      },
      "source": [
        "plt.imshow(env.render('rgb_array'))"
      ],
      "execution_count": 6,
      "outputs": [
        {
          "output_type": "execute_result",
          "data": {
            "text/plain": [
              "<matplotlib.image.AxesImage at 0x7f7295fc9790>"
            ]
          },
          "metadata": {
            "tags": []
          },
          "execution_count": 6
        },
        {
          "output_type": "display_data",
          "data": {
            "image/png": "[encoded data removed]",
            "text/plain": [
              "<Figure size 432x288 with 1 Axes>"
            ]
          },
          "metadata": {
            "tags": [],
            "needs_background": "light"
          }
        }
      ]
    },
    {
      "cell_type": "code",
      "metadata": {
        "colab": {
          "base_uri": "https://localhost:8080/"
        },
        "id": "NJxn0hoOqRyb",
        "outputId": "32db11be-f304-431b-89bf-675327a66d1e"
      },
      "source": [
        "env.reset()\n",
        "\n",
        "for t in range(199):\n",
        "  action = env.action_space.sample()\n",
        "  observation, reward, done, info = env.step(action)\n",
        "  print(t, observation, reward, done)"
      ],
      "execution_count": 7,
      "outputs": [
        {
          "output_type": "stream",
          "text": [
            "0 [-5.87572446e-01 -5.27018195e-04] -1.0 False\n",
            "1 [-5.87622601e-01 -5.01557309e-05] -1.0 False\n",
            "2 [-5.88195525e-01 -5.72924011e-04] -1.0 False\n",
            "3 [-0.587287    0.00090852] -1.0 False\n",
            "4 [-0.58590371  0.00138329] -1.0 False\n",
            "5 [-0.58305586  0.00284786] -1.0 False\n",
            "6 [-0.57876443  0.00429142] -1.0 False\n",
            "7 [-0.57306115  0.00570328] -1.0 False\n",
            "8 [-0.56598827  0.00707289] -1.0 False\n",
            "9 [-0.55759831  0.00838995] -1.0 False\n",
            "10 [-0.54795381  0.00964451] -1.0 False\n",
            "11 [-0.5391268   0.00882701] -1.0 False\n",
            "12 [-0.52918337  0.00994343] -1.0 False\n",
            "13 [-0.52019806  0.00898531] -1.0 False\n",
            "14 [-0.51223826  0.0079598 ] -1.0 False\n",
            "15 [-0.50436364  0.00787462] -1.0 False\n",
            "16 [-0.49563321  0.00873043] -1.0 False\n",
            "17 [-0.48711227  0.00852094] -1.0 False\n",
            "18 [-0.47786444  0.00924783] -1.0 False\n",
            "19 [-0.46795854  0.0099059 ] -1.0 False\n",
            "20 [-0.458468    0.00949054] -1.0 False\n",
            "21 [-0.44846285  0.01000516] -1.0 False\n",
            "22 [-0.43801645  0.0104464 ] -1.0 False\n",
            "23 [-0.42720489  0.01081156] -1.0 False\n",
            "24 [-0.41710625  0.01009864] -1.0 False\n",
            "25 [-0.40779279  0.00931346] -1.0 False\n",
            "26 [-0.39933051  0.00846228] -1.0 False\n",
            "27 [-0.39177879  0.00755171] -1.0 False\n",
            "28 [-0.38619016  0.00558863] -1.0 False\n",
            "29 [-0.38060316  0.00558701] -1.0 False\n",
            "30 [-0.37605603  0.00454713] -1.0 False\n",
            "31 [-0.37257969  0.00347634] -1.0 False\n",
            "32 [-0.37119763  0.00138205] -1.0 False\n",
            "33 [-0.37191919 -0.00072155] -1.0 False\n",
            "34 [-0.37273948 -0.00082029] -1.0 False\n",
            "35 [-0.37465299 -0.00191351] -1.0 False\n",
            "36 [-0.37764678 -0.0029938 ] -1.0 False\n",
            "37 [-0.38070057 -0.00305379] -1.0 False\n",
            "38 [-0.38479358 -0.004093  ] -1.0 False\n",
            "39 [-0.39089779 -0.00610421] -1.0 False\n",
            "40 [-0.39897118 -0.00807339] -1.0 False\n",
            "41 [-0.40895765 -0.00998647] -1.0 False\n",
            "42 [-0.41878708 -0.00982943] -1.0 False\n",
            "43 [-0.42838971 -0.00960263] -1.0 False\n",
            "44 [-0.43969674 -0.01130703] -1.0 False\n",
            "45 [-0.45262641 -0.01292967] -1.0 False\n",
            "46 [-0.46508436 -0.01245795] -1.0 False\n",
            "47 [-0.47797891 -0.01289456] -1.0 False\n",
            "48 [-0.49121455 -0.01323564] -1.0 False\n",
            "49 [-0.50369269 -0.01247814] -1.0 False\n",
            "50 [-0.51632003 -0.01262734] -1.0 False\n",
            "51 [-0.52900197 -0.01268193] -1.0 False\n",
            "52 [-0.54264337 -0.01364141] -1.0 False\n",
            "53 [-0.55614203 -0.01349865] -1.0 False\n",
            "54 [-0.56839699 -0.01225497] -1.0 False\n",
            "55 [-0.58131698 -0.01291999] -1.0 False\n",
            "56 [-0.59380624 -0.01248926] -1.0 False\n",
            "57 [-0.60577284 -0.01196659] -1.0 False\n",
            "58 [-0.61812934 -0.01235651] -1.0 False\n",
            "59 [-0.62878634 -0.010657  ] -1.0 False\n",
            "60 [-0.63866746 -0.00988112] -1.0 False\n",
            "61 [-0.6467026  -0.00803514] -1.0 False\n",
            "62 [-0.6548353  -0.00813271] -1.0 False\n",
            "63 [-0.66300897 -0.00817366] -1.0 False\n",
            "64 [-0.67016727 -0.0071583 ] -1.0 False\n",
            "65 [-0.67626139 -0.00609412] -1.0 False\n",
            "66 [-0.68025015 -0.00398876] -1.0 False\n",
            "67 [-0.6821068  -0.00185665] -1.0 False\n",
            "68 [-0.68381894 -0.00171214] -1.0 False\n",
            "69 [-0.68537516 -0.00155622] -1.0 False\n",
            "70 [-6.84765138e-01  6.10024654e-04] -1.0 False\n",
            "71 [-0.68199291  0.00277222] -1.0 False\n",
            "72 [-0.67907694  0.00291598] -1.0 False\n",
            "73 [-0.6740367   0.00504024] -1.0 False\n",
            "74 [-0.66690609  0.00713061] -1.0 False\n",
            "75 [-0.65773348  0.00917261] -1.0 False\n",
            "76 [-0.6485818   0.00915169] -1.0 False\n",
            "77 [-0.63751455  0.01106725] -1.0 False\n",
            "78 [-0.62460946  0.01290508] -1.0 False\n",
            "79 [-0.61095834  0.01365112] -1.0 False\n",
            "80 [-0.5966595   0.01429884] -1.0 False\n",
            "81 [-0.58181707  0.01484242] -1.0 False\n",
            "82 [-0.56654023  0.01527684] -1.0 False\n",
            "83 [-0.54994221  0.01659801] -1.0 False\n",
            "84 [-0.53214683  0.01779539] -1.0 False\n",
            "85 [-0.51328734  0.01885949] -1.0 False\n",
            "86 [-0.49450518  0.01878217] -1.0 False\n",
            "87 [-0.47494094  0.01956424] -1.0 False\n",
            "88 [-0.45474033  0.0202006 ] -1.0 False\n",
            "89 [-0.43605251  0.01868783] -1.0 False\n",
            "90 [-0.41901375  0.01703875] -1.0 False\n",
            "91 [-0.40274658  0.01626717] -1.0 False\n",
            "92 [-0.38836607  0.01438051] -1.0 False\n",
            "93 [-0.37497222  0.01339386] -1.0 False\n",
            "94 [-0.36265649  0.01231573] -1.0 False\n",
            "95 [-0.35150147  0.01115502] -1.0 False\n",
            "96 [-0.34158061  0.00992087] -1.0 False\n",
            "97 [-0.33295804  0.00862257] -1.0 False\n",
            "98 [-0.32668859  0.00626945] -1.0 False\n",
            "99 [-0.32281156  0.00387703] -1.0 False\n",
            "100 [-0.31935101  0.00346055] -1.0 False\n",
            "101 [-0.31732825  0.00202277] -1.0 False\n",
            "102 [-0.31775565 -0.0004274 ] -1.0 False\n",
            "103 [-0.32063061 -0.00287496] -1.0 False\n",
            "104 [-0.32593549 -0.00530488] -1.0 False\n",
            "105 [-0.33363748 -0.00770199] -1.0 False\n",
            "106 [-0.3426883  -0.00905082] -1.0 False\n",
            "107 [-0.35203032 -0.00934202] -1.0 False\n",
            "108 [-0.36360303 -0.01157271] -1.0 False\n",
            "109 [-0.37533016 -0.01172713] -1.0 False\n",
            "110 [-0.389133   -0.01380284] -1.0 False\n",
            "111 [-0.4039172 -0.0147842] -1.0 False\n",
            "112 [-0.42057985 -0.01666265] -1.0 False\n",
            "113 [-0.43900291 -0.01842305] -1.0 False\n",
            "114 [-0.45805364 -0.01905073] -1.0 False\n",
            "115 [-0.4765928  -0.01853916] -1.0 False\n",
            "116 [-0.49648334 -0.01989054] -1.0 False\n",
            "117 [-0.51757702 -0.02109368] -1.0 False\n",
            "118 [-0.53771585 -0.02013884] -1.0 False\n",
            "119 [-0.55774885 -0.02003299] -1.0 False\n",
            "120 [-0.57752616 -0.01977732] -1.0 False\n",
            "121 [-0.59790078 -0.02037462] -1.0 False\n",
            "122 [-0.61772274 -0.01982196] -1.0 False\n",
            "123 [-0.63784812 -0.02012537] -1.0 False\n",
            "124 [-0.6561333  -0.01828518] -1.0 False\n",
            "125 [-0.67245046 -0.01631716] -1.0 False\n",
            "126 [-0.68768796 -0.01523751] -1.0 False\n",
            "127 [-0.70074391 -0.01305594] -1.0 False\n",
            "128 [-0.71353292 -0.01278901] -1.0 False\n",
            "129 [-0.72497327 -0.01144035] -1.0 False\n",
            "130 [-0.73599352 -0.01102025] -1.0 False\n",
            "131 [-0.74552643 -0.00953291] -1.0 False\n",
            "132 [-0.75351515 -0.00798872] -1.0 False\n",
            "133 [-0.75991301 -0.00639786] -1.0 False\n",
            "134 [-0.7656833  -0.00577028] -1.0 False\n",
            "135 [-0.7707934 -0.0051101] -1.0 False\n",
            "136 [-0.77421486 -0.00342146] -1.0 False\n",
            "137 [-0.77692884 -0.00271399] -1.0 False\n",
            "138 [-0.77892054 -0.0019917 ] -1.0 False\n",
            "139 [-7.79179160e-01 -2.58616699e-04] -1.0 False\n",
            "140 [-7.78703297e-01  4.75863266e-04] -1.0 False\n",
            "141 [-0.77749553  0.00120777] -1.0 False\n",
            "142 [-0.77356239  0.00393314] -1.0 False\n",
            "143 [-0.76792536  0.00563703] -1.0 False\n",
            "144 [-0.76061561  0.00730975] -1.0 False\n",
            "145 [-0.75067428  0.00994133] -1.0 False\n",
            "146 [-0.74015859  0.01051569] -1.0 False\n",
            "147 [-0.72813057  0.01202802] -1.0 False\n",
            "148 [-0.71566303  0.01246755] -1.0 False\n",
            "149 [-0.70083339  0.01482963] -1.0 False\n",
            "150 [-0.68373625  0.01709714] -1.0 False\n",
            "151 [-0.66448375  0.0192525 ] -1.0 False\n",
            "152 [-0.64420579  0.02027796] -1.0 False\n",
            "153 [-0.62204288  0.02216291] -1.0 False\n",
            "154 [-0.59815233  0.02389055] -1.0 False\n",
            "155 [-0.57470728  0.02344505] -1.0 False\n",
            "156 [-0.55088041  0.02382687] -1.0 False\n",
            "157 [-0.52684916  0.02403125] -1.0 False\n",
            "158 [-0.50279354  0.02405563] -1.0 False\n",
            "159 [-0.47789385  0.02489969] -1.0 False\n",
            "160 [-0.45333587  0.02455798] -1.0 False\n",
            "161 [-0.42830097  0.0250349 ] -1.0 False\n",
            "162 [-0.40497111  0.02332986] -1.0 False\n",
            "163 [-0.3815123   0.02345882] -1.0 False\n",
            "164 [-0.35908715  0.02242515] -1.0 False\n",
            "165 [-0.33884636  0.02024079] -1.0 False\n",
            "166 [-0.32092135  0.01792501] -1.0 False\n",
            "167 [-0.30542447  0.01549688] -1.0 False\n",
            "168 [-0.29044955  0.01497493] -1.0 False\n",
            "169 [-0.27708411  0.01336544] -1.0 False\n",
            "170 [-0.26640355  0.01068056] -1.0 False\n",
            "171 [-0.25846617  0.00793738] -1.0 False\n",
            "172 [-0.25131415  0.00715202] -1.0 False\n",
            "173 [-0.24498462  0.00632953] -1.0 False\n",
            "174 [-0.24050974  0.00447488] -1.0 False\n",
            "175 [-0.23791185  0.00259789] -1.0 False\n",
            "176 [-0.23620377  0.00170808] -1.0 False\n",
            "177 [-0.23739385 -0.00119008] -1.0 False\n",
            "178 [-0.24147628 -0.00408243] -1.0 False\n",
            "179 [-0.2484309  -0.00695462] -1.0 False\n",
            "180 [-0.25722275 -0.00879185] -1.0 False\n",
            "181 [-0.26880647 -0.01158372] -1.0 False\n",
            "182 [-0.2811204  -0.01231394] -1.0 False\n",
            "183 [-0.29409673 -0.01297633] -1.0 False\n",
            "184 [-0.30966151 -0.01556479] -1.0 False\n",
            "185 [-0.32772292 -0.01806141] -1.0 False\n",
            "186 [-0.3481703  -0.02044738] -1.0 False\n",
            "187 [-0.36887349 -0.02070319] -1.0 False\n",
            "188 [-0.39169589 -0.0228224 ] -1.0 False\n",
            "189 [-0.41448195 -0.02278606] -1.0 False\n",
            "190 [-0.43907185 -0.0245899 ] -1.0 False\n",
            "191 [-0.46428892 -0.02521708] -1.0 False\n",
            "192 [-0.49094848 -0.02665956] -1.0 False\n",
            "193 [-0.51685253 -0.02590404] -1.0 False\n",
            "194 [-0.54180716 -0.02495464] -1.0 False\n",
            "195 [-0.5656253  -0.02381814] -1.0 False\n",
            "196 [-0.58812908 -0.02250378] -1.0 False\n",
            "197 [-0.6101519  -0.02202282] -1.0 False\n",
            "198 [-0.63053284 -0.02038094] -1.0 False\n"
          ],
          "name": "stdout"
        }
      ]
    },
    {
      "cell_type": "code",
      "metadata": {
        "id": "LNSGle2-sE5T"
      },
      "source": [
        "def policy(observation, T):\n",
        "\n",
        "  actions = {'left': 0, 'stop': 1, 'right': 2}\n",
        "  position, velocity = observation\n",
        "\n",
        "  if position > 1:\n",
        "    actions = actions[\"right\"]\n",
        "  else:\n",
        "    actions = actions[\"left\"]\n",
        " \n",
        "\n",
        "  return action"
      ],
      "execution_count": 8,
      "outputs": []
    },
    {
      "cell_type": "code",
      "metadata": {
        "colab": {
          "base_uri": "https://localhost:8080/",
          "height": 269
        },
        "id": "phsEdf-isp7n",
        "outputId": "1761b4f9-0df8-46ea-8da7-0a7835f4444c"
      },
      "source": [
        "observation - env.reset()\n",
        "\n",
        "for t in range(199):\n",
        "  plt.gca().clear()\n",
        "\n",
        "  actions = policy(observation, t)\n",
        "  observation, reward, done, info  = env.step(actions)\n",
        "\n",
        "  plt.imshow(env.render('rgb_array'))\n",
        "  display.display(plt.gcf())\n",
        "  display.clear_output(wait=True)\n",
        "\n",
        "  if done: \n",
        "    break"
      ],
      "execution_count": 9,
      "outputs": [
        {
          "output_type": "display_data",
          "data": {
            "image/png": "[encoded data removed]",
            "text/plain": [
              "<Figure size 432x288 with 1 Axes>"
            ]
          },
          "metadata": {
            "tags": [],
            "needs_background": "light"
          }
        }
      ]
    },
    {
      "cell_type": "code",
      "metadata": {
        "colab": {
          "base_uri": "https://localhost:8080/"
        },
        "id": "V5ykbZ15ttSn",
        "outputId": "e379082b-ea0e-411d-e7b3-5f8291752d23"
      },
      "source": [
        "observation = env.reset()\n",
        "\n",
        "for t in range(199):\n",
        "  actions = policy(observation, t)\n",
        "  observation, reward, done, info = env.step(actions)\n",
        "  print(t, observation, reward, done)\n",
        "\n",
        "  if done:\n",
        "    break"
      ],
      "execution_count": 10,
      "outputs": [
        {
          "output_type": "stream",
          "text": [
            "0 [-0.45995364  0.00052946] -1.0 False\n",
            "1 [-0.45889862  0.00105501] -1.0 False\n",
            "2 [-0.45732582  0.0015728 ] -1.0 False\n",
            "3 [-0.4552468   0.00207902] -1.0 False\n",
            "4 [-0.45267683  0.00256997] -1.0 False\n",
            "5 [-0.44963477  0.00304206] -1.0 False\n",
            "6 [-0.4461429   0.00349187] -1.0 False\n",
            "7 [-0.44222674  0.00391616] -1.0 False\n",
            "8 [-0.43791482  0.00431192] -1.0 False\n",
            "9 [-0.43323848  0.00467634] -1.0 False\n",
            "10 [-0.42823157  0.00500691] -1.0 False\n",
            "11 [-0.4229302   0.00530137] -1.0 False\n",
            "12 [-0.41737242  0.00555778] -1.0 False\n",
            "13 [-0.41159791  0.0057745 ] -1.0 False\n",
            "14 [-0.4056477   0.00595021] -1.0 False\n",
            "15 [-0.39956378  0.00608393] -1.0 False\n",
            "16 [-0.3933888   0.00617498] -1.0 False\n",
            "17 [-0.38716574  0.00622305] -1.0 False\n",
            "18 [-0.3809376   0.00622814] -1.0 False\n",
            "19 [-0.37474706  0.00619055] -1.0 False\n",
            "20 [-0.36863616  0.00611089] -1.0 False\n",
            "21 [-0.36264608  0.00599009] -1.0 False\n",
            "22 [-0.35681677  0.00582931] -1.0 False\n",
            "23 [-0.35118679  0.00562998] -1.0 False\n",
            "24 [-0.345793    0.00539378] -1.0 False\n",
            "25 [-0.34067042  0.00512259] -1.0 False\n",
            "26 [-0.33585196  0.00481846] -1.0 False\n",
            "27 [-0.33136832  0.00448364] -1.0 False\n",
            "28 [-0.32724782  0.0041205 ] -1.0 False\n",
            "29 [-0.32351625  0.00373157] -1.0 False\n",
            "30 [-0.3201968   0.00331945] -1.0 False\n",
            "31 [-0.31730993  0.00288686] -1.0 False\n",
            "32 [-0.31487335  0.00243658] -1.0 False\n",
            "33 [-0.3129019   0.00197145] -1.0 False\n",
            "34 [-0.31140753  0.00149437] -1.0 False\n",
            "35 [-0.31039926  0.00100826] -1.0 False\n",
            "36 [-0.30988319  0.00051608] -1.0 False\n",
            "37 [-3.09862394e-01  2.07919249e-05] -1.0 False\n",
            "38 [-0.31033701 -0.00047462] -1.0 False\n",
            "39 [-0.31130419 -0.00096718] -1.0 False\n",
            "40 [-0.3127581  -0.00145391] -1.0 False\n",
            "41 [-0.31468997 -0.00193186] -1.0 False\n",
            "42 [-0.31708807 -0.0023981 ] -1.0 False\n",
            "43 [-0.31993781 -0.00284974] -1.0 False\n",
            "44 [-0.32322173 -0.00328392] -1.0 False\n",
            "45 [-0.32691959 -0.00369786] -1.0 False\n",
            "46 [-0.33100843 -0.00408884] -1.0 False\n",
            "47 [-0.33546267 -0.00445424] -1.0 False\n",
            "48 [-0.3402542  -0.00479153] -1.0 False\n",
            "49 [-0.34535251 -0.00509832] -1.0 False\n",
            "50 [-0.35072487 -0.00537236] -1.0 False\n",
            "51 [-0.35633644 -0.00561157] -1.0 False\n",
            "52 [-0.36215049 -0.00581405] -1.0 False\n",
            "53 [-0.36812861 -0.00597812] -1.0 False\n",
            "54 [-0.37423093 -0.00610233] -1.0 False\n",
            "55 [-0.38041641 -0.00618547] -1.0 False\n",
            "56 [-0.38664302 -0.00622662] -1.0 False\n",
            "57 [-0.39286815 -0.00622513] -1.0 False\n",
            "58 [-0.39904882 -0.00618067] -1.0 False\n",
            "59 [-0.40514203 -0.00609321] -1.0 False\n",
            "60 [-0.41110508 -0.00596305] -1.0 False\n",
            "61 [-0.41689591 -0.00579083] -1.0 False\n",
            "62 [-0.42247341 -0.0055775 ] -1.0 False\n",
            "63 [-0.42779777 -0.00532436] -1.0 False\n",
            "64 [-0.43283079 -0.00503302] -1.0 False\n",
            "65 [-0.43753619 -0.0047054 ] -1.0 False\n",
            "66 [-0.44187991 -0.00434372] -1.0 False\n",
            "67 [-0.4458304  -0.00395049] -1.0 False\n",
            "68 [-0.44935888 -0.00352848] -1.0 False\n",
            "69 [-0.45243956 -0.00308068] -1.0 False\n",
            "70 [-0.45504989 -0.00261033] -1.0 False\n",
            "71 [-0.45717072 -0.00212083] -1.0 False\n",
            "72 [-0.45878648 -0.00161575] -1.0 False\n",
            "73 [-0.45988527 -0.00109879] -1.0 False\n",
            "74 [-0.460459   -0.00057373] -1.0 False\n",
            "75 [-4.60503457e-01 -4.44565380e-05] -1.0 False\n",
            "76 [-0.46001831  0.00048515] -1.0 False\n",
            "77 [-0.45900713  0.00101118] -1.0 False\n",
            "78 [-0.45747736  0.00152977] -1.0 False\n",
            "79 [-0.45544025  0.00203711] -1.0 False\n",
            "80 [-0.45291078  0.00252947] -1.0 False\n",
            "81 [-0.4499075   0.00300328] -1.0 False\n",
            "82 [-0.44645242  0.00345508] -1.0 False\n",
            "83 [-0.44257078  0.00388164] -1.0 False\n",
            "84 [-0.43829089  0.00427989] -1.0 False\n",
            "85 [-0.43364384  0.00464705] -1.0 False\n",
            "86 [-0.4286633   0.00498054] -1.0 False\n",
            "87 [-0.42338518  0.00527811] -1.0 False\n",
            "88 [-0.4178474   0.00553778] -1.0 False\n",
            "89 [-0.41208951  0.00575789] -1.0 False\n",
            "90 [-0.40615244  0.00593708] -1.0 False\n",
            "91 [-0.40007809  0.00607434] -1.0 False\n",
            "92 [-0.3939091   0.00616899] -1.0 False\n",
            "93 [-0.38768842  0.00622068] -1.0 False\n",
            "94 [-0.38145906  0.00622936] -1.0 False\n",
            "95 [-0.37526374  0.00619532] -1.0 False\n",
            "96 [-0.36914457  0.00611917] -1.0 False\n",
            "97 [-0.3631428   0.00600177] -1.0 False\n",
            "98 [-0.35729851  0.00584429] -1.0 False\n",
            "99 [-0.35165037  0.00564814] -1.0 False\n",
            "100 [-0.3462354   0.00541496] -1.0 False\n",
            "101 [-0.34108878  0.00514663] -1.0 False\n",
            "102 [-0.3362436   0.00484518] -1.0 False\n",
            "103 [-0.33173076  0.00451284] -1.0 False\n",
            "104 [-0.32757878  0.00415198] -1.0 False\n",
            "105 [-0.32381366  0.00376511] -1.0 False\n",
            "106 [-0.32045883  0.00335484] -1.0 False\n",
            "107 [-0.31753497  0.00292386] -1.0 False\n",
            "108 [-0.31506001  0.00247495] -1.0 False\n",
            "109 [-0.31304905  0.00201096] -1.0 False\n",
            "110 [-0.31151428  0.00153477] -1.0 False\n",
            "111 [-0.31046498  0.0010493 ] -1.0 False\n",
            "112 [-0.30990746  0.00055752] -1.0 False\n",
            "113 [-3.09845088e-01  6.23748956e-05] -1.0 False\n",
            "114 [-0.31027823 -0.00043314] -1.0 False\n",
            "115 [-0.31120428 -0.00092605] -1.0 False\n",
            "116 [-0.31261767 -0.00141339] -1.0 False\n",
            "117 [-0.31450986 -0.00189219] -1.0 False\n",
            "118 [-0.31686938 -0.00235952] -1.0 False\n",
            "119 [-0.31968188 -0.00281249] -1.0 False\n",
            "120 [-0.32293013 -0.00324825] -1.0 False\n",
            "121 [-0.32659412 -0.00366399] -1.0 False\n",
            "122 [-0.33065112 -0.004057  ] -1.0 False\n",
            "123 [-0.33507576 -0.00442464] -1.0 False\n",
            "124 [-0.33984013 -0.00476438] -1.0 False\n",
            "125 [-0.34491395 -0.00507382] -1.0 False\n",
            "126 [-0.35026464 -0.00535069] -1.0 False\n",
            "127 [-0.35585753 -0.00559289] -1.0 False\n",
            "128 [-0.36165605 -0.00579852] -1.0 False\n",
            "129 [-0.36762192 -0.00596587] -1.0 False\n",
            "130 [-0.3737154  -0.00609347] -1.0 False\n",
            "131 [-0.3798955 -0.0061801] -1.0 False\n",
            "132 [-0.3861203 -0.0062248] -1.0 False\n",
            "133 [-0.3923472 -0.0062269] -1.0 False\n",
            "134 [-0.39853325 -0.00618605] -1.0 False\n",
            "135 [-0.40463544 -0.00610219] -1.0 False\n",
            "136 [-0.41061103 -0.00597559] -1.0 False\n",
            "137 [-0.4164179  -0.00580687] -1.0 False\n",
            "138 [-0.42201484 -0.00559694] -1.0 False\n",
            "139 [-0.42736192 -0.00534708] -1.0 False\n",
            "140 [-0.4324208  -0.00505887] -1.0 False\n",
            "141 [-0.43715501 -0.00473421] -1.0 False\n",
            "142 [-0.44153031 -0.0043753 ] -1.0 False\n",
            "143 [-0.44551493 -0.00398461] -1.0 False\n",
            "144 [-0.44907983 -0.0035649 ] -1.0 False\n",
            "145 [-0.45219898 -0.00311915] -1.0 False\n",
            "146 [-0.45484954 -0.00265056] -1.0 False\n",
            "147 [-0.45701207 -0.00216253] -1.0 False\n",
            "148 [-0.45867069 -0.00165862] -1.0 False\n",
            "149 [-0.4598132  -0.00114251] -1.0 False\n",
            "150 [-0.46043118 -0.00061798] -1.0 False\n",
            "151 [-4.60520095e-01 -8.89107712e-05] -1.0 False\n",
            "152 [-4.60079278e-01  4.40817657e-04] -1.0 False\n",
            "153 [-0.45911198  0.0009673 ] -1.0 False\n",
            "154 [-0.45762532  0.00148666] -1.0 False\n",
            "155 [-0.45563024  0.00199508] -1.0 False\n",
            "156 [-0.45314139  0.00248884] -1.0 False\n",
            "157 [-0.45017705  0.00296434] -1.0 False\n",
            "158 [-0.44675893  0.00341812] -1.0 False\n",
            "159 [-0.44291202  0.00384691] -1.0 False\n",
            "160 [-0.43866437  0.00424765] -1.0 False\n",
            "161 [-0.43404686  0.00461751] -1.0 False\n",
            "162 [-0.42909293  0.00495393] -1.0 False\n",
            "163 [-0.42383834  0.00525459] -1.0 False\n",
            "164 [-0.41832084  0.00551751] -1.0 False\n",
            "165 [-0.41257985  0.00574098] -1.0 False\n",
            "166 [-0.4066562   0.00592365] -1.0 False\n",
            "167 [-0.40059174  0.00606446] -1.0 False\n",
            "168 [-0.39442904  0.0061627 ] -1.0 False\n",
            "169 [-0.38821104  0.006218  ] -1.0 False\n",
            "170 [-0.38198077  0.00623028] -1.0 False\n",
            "171 [-0.37578096  0.00619981] -1.0 False\n",
            "172 [-0.3696538   0.00612715] -1.0 False\n",
            "173 [-0.36364063  0.00601318] -1.0 False\n",
            "174 [-0.35778162  0.00585901] -1.0 False\n",
            "175 [-0.35211559  0.00566604] -1.0 False\n",
            "176 [-0.34667969  0.0054359 ] -1.0 False\n",
            "177 [-0.34150926  0.00517043] -1.0 False\n",
            "178 [-0.33663758  0.00487168] -1.0 False\n",
            "179 [-0.33209574  0.00454184] -1.0 False\n",
            "180 [-0.32791246  0.00418328] -1.0 False\n",
            "181 [-0.32411397  0.00379849] -1.0 False\n",
            "182 [-0.32072389  0.00339008] -1.0 False\n",
            "183 [-0.31776316  0.00296073] -1.0 False\n",
            "184 [-0.31524994  0.00251322] -1.0 False\n",
            "185 [-0.31319956  0.00205038] -1.0 False\n",
            "186 [-0.31162445  0.0015751 ] -1.0 False\n",
            "187 [-0.31053415  0.0010903 ] -1.0 False\n",
            "188 [-0.30993522  0.00059893] -1.0 False\n",
            "189 [-3.09831269e-01  1.03955229e-04] -1.0 False\n",
            "190 [-0.31022291 -0.00039164] -1.0 False\n",
            "191 [-0.3111078  -0.00088489] -1.0 False\n",
            "192 [-0.31248061 -0.0013728 ] -1.0 False\n",
            "193 [-0.31433304 -0.00185243] -1.0 False\n",
            "194 [-0.31665388 -0.00232084] -1.0 False\n",
            "195 [-0.31942901 -0.00277513] -1.0 False\n",
            "196 [-0.32264145 -0.00321243] -1.0 False\n",
            "197 [-0.32627141 -0.00362996] -1.0 False\n",
            "198 [-0.33029639 -0.00402498] -1.0 False\n"
          ],
          "name": "stdout"
        }
      ]
    },
    {
      "cell_type": "code",
      "metadata": {
        "id": "S_HPXIxwuLob"
      },
      "source": [
        "def policy(observation, T):\n",
        "\n",
        "  actions = {'left': 0, 'stop': 1, 'right': 2}\n",
        "  position, velocity = observation\n",
        "  lb = min(-0.09 * (position + 0.25) ** 2 + 0.03, 0.3 * (position + 0.9) ** 4 - 0.008)\n",
        "  ub = -0.07 * (position + 0.38) ** 2 + 0.07\n",
        "\n",
        "  if lb < velocity < ub:\n",
        "    return actions[\"right\"]\n",
        "  else:\n",
        "    return actions[\"left\"]\n"
      ],
      "execution_count": 12,
      "outputs": []
    },
    {
      "cell_type": "code",
      "metadata": {
        "colab": {
          "base_uri": "https://localhost:8080/"
        },
        "id": "qu2v-W7dQ2vL",
        "outputId": "ee299902-ad06-4016-ffe9-bd155b1529f3"
      },
      "source": [
        "observation = env.reset()\n",
        "\n",
        "for t in range(199):\n",
        "  actions = policy(observation, t)\n",
        "  observation, reward, done, info = env.step(actions)\n",
        "  print(t, observation, reward, done)\n",
        "\n",
        "  if done:\n",
        "    break"
      ],
      "execution_count": 13,
      "outputs": [
        {
          "output_type": "stream",
          "text": [
            "0 [-0.56974494  0.00135505] -1.0 False\n",
            "1 [-0.5670449   0.00270005] -1.0 False\n",
            "2 [-0.56301993  0.00402497] -1.0 False\n",
            "3 [-0.55769999  0.00531994] -1.0 False\n",
            "4 [-0.55112473  0.00657525] -1.0 False\n",
            "5 [-0.54334327  0.00778146] -1.0 False\n",
            "6 [-0.53441381  0.00892946] -1.0 False\n",
            "7 [-0.52440325  0.01001056] -1.0 False\n",
            "8 [-0.51338666  0.01101659] -1.0 False\n",
            "9 [-0.50144664  0.01194001] -1.0 False\n",
            "10 [-0.48867265  0.012774  ] -1.0 False\n",
            "11 [-0.47516012  0.01351253] -1.0 False\n",
            "12 [-0.4610096   0.01415052] -1.0 False\n",
            "13 [-0.44632575  0.01468385] -1.0 False\n",
            "14 [-0.43121627  0.01510948] -1.0 False\n",
            "15 [-0.41579083  0.01542545] -1.0 False\n",
            "16 [-0.40015992  0.01563091] -1.0 False\n",
            "17 [-0.38443378  0.01572613] -1.0 False\n",
            "18 [-0.36872133  0.01571245] -1.0 False\n",
            "19 [-0.35512911  0.01359222] -1.0 False\n",
            "20 [-0.3437473   0.01138181] -1.0 False\n",
            "21 [-0.33464988  0.00909742] -1.0 False\n",
            "22 [-0.3278949   0.00675498] -1.0 False\n",
            "23 [-0.32352481  0.00437009] -1.0 False\n",
            "24 [-0.32156679  0.00195802] -1.0 False\n",
            "25 [-0.32203292 -0.00046613] -1.0 False\n",
            "26 [-0.32492034 -0.00288742] -1.0 False\n",
            "27 [-0.33021117 -0.00529083] -1.0 False\n",
            "28 [-0.3378724  -0.00766123] -1.0 False\n",
            "29 [-0.34785562 -0.00998322] -1.0 False\n",
            "30 [-0.36009669 -0.01224107] -1.0 False\n",
            "31 [-0.37451544 -0.01441875] -1.0 False\n",
            "32 [-0.39101541 -0.01649997] -1.0 False\n",
            "33 [-0.40948375 -0.01846833] -1.0 False\n",
            "34 [-0.42979132 -0.02030758] -1.0 False\n",
            "35 [-0.4517932  -0.02200188] -1.0 False\n",
            "36 [-0.47532947 -0.02353627] -1.0 False\n",
            "37 [-0.50022649 -0.02489702] -1.0 False\n",
            "38 [-0.52629867 -0.02607217] -1.0 False\n",
            "39 [-0.55335059 -0.02705192] -1.0 False\n",
            "40 [-0.58117967 -0.02782908] -1.0 False\n",
            "41 [-0.60957904 -0.02839937] -1.0 False\n",
            "42 [-0.63834068 -0.02876164] -1.0 False\n",
            "43 [-0.66725866 -0.02891797] -1.0 False\n",
            "44 [-0.69613223 -0.02887357] -1.0 False\n",
            "45 [-0.72476881 -0.02863658] -1.0 False\n",
            "46 [-0.75298655 -0.02821774] -1.0 False\n",
            "47 [-0.78061649 -0.02762994] -1.0 False\n",
            "48 [-0.8075042  -0.02688771] -1.0 False\n",
            "49 [-0.83351089 -0.02600668] -1.0 False\n",
            "50 [-0.85851392 -0.02500303] -1.0 False\n",
            "51 [-0.88240688 -0.02389296] -1.0 False\n",
            "52 [-0.90509918 -0.0226923 ] -1.0 False\n",
            "53 [-0.92651522 -0.02141604] -1.0 False\n",
            "54 [-0.94659332 -0.0200781 ] -1.0 False\n",
            "55 [-0.96528443 -0.01869111] -1.0 False\n",
            "56 [-0.98255064 -0.01726621] -1.0 False\n",
            "57 [-0.99636372 -0.01381308] -1.0 False\n",
            "58 [-1.00670581 -0.01034209] -1.0 False\n",
            "59 [-1.01356633 -0.00686052] -1.0 False\n",
            "60 [-1.01693956 -0.00337323] -1.0 False\n",
            "61 [-1.01682308e+00  1.16476281e-04] -1.0 False\n",
            "62 [-1.01321698  0.0036061 ] -1.0 False\n",
            "63 [-1.00612385  0.00709313] -1.0 False\n",
            "64 [-0.99554968  0.01057417] -1.0 False\n",
            "65 [-0.98150546  0.01404422] -1.0 False\n",
            "66 [-0.96400963  0.01749583] -1.0 False\n",
            "67 [-0.94309126  0.02091838] -1.0 False\n",
            "68 [-0.91879382  0.02429744] -1.0 False\n",
            "69 [-0.89117958  0.02761424] -1.0 False\n",
            "70 [-0.86033423  0.03084536] -1.0 False\n",
            "71 [-0.82637152  0.03396271] -1.0 False\n",
            "72 [-0.78943763  0.03693389] -1.0 False\n",
            "73 [-0.74971468  0.03972295] -1.0 False\n",
            "74 [-0.70742297  0.04229171] -1.0 False\n",
            "75 [-0.6628214   0.04460157] -1.0 False\n",
            "76 [-0.61620576  0.04661564] -1.0 False\n",
            "77 [-0.56790446  0.0483013 ] -1.0 False\n",
            "78 [-0.51827185  0.04963261] -1.0 False\n",
            "79 [-0.46767919  0.05059266] -1.0 False\n",
            "80 [-0.41650396  0.05117523] -1.0 False\n",
            "81 [-0.3651182   0.05138576] -1.0 False\n",
            "82 [-0.31387676  0.05124144] -1.0 False\n",
            "83 [-0.2631065   0.05077026] -1.0 False\n",
            "84 [-0.21309707  0.05000944] -1.0 False\n",
            "85 [-0.16409393  0.04900314] -1.0 False\n",
            "86 [-0.11629393  0.0478    ] -1.0 False\n",
            "87 [-0.06984332  0.04645061] -1.0 False\n",
            "88 [-0.02483803  0.04500529] -1.0 False\n",
            "89 [0.0186742  0.04351223] -1.0 False\n",
            "90 [0.06069035 0.04201615] -1.0 False\n",
            "91 [0.10124782 0.04055747] -1.0 False\n",
            "92 [0.14041973 0.03917191] -1.0 False\n",
            "93 [0.1783102  0.03789047] -1.0 False\n",
            "94 [0.21504992 0.03673971] -1.0 False\n",
            "95 [0.25079211 0.03574219] -1.0 False\n",
            "96 [0.28570913 0.03491702] -1.0 False\n",
            "97 [0.31998962 0.03428049] -1.0 False\n",
            "98 [0.35383625 0.03384663] -1.0 False\n",
            "99 [0.385464   0.03162774] -1.0 False\n",
            "100 [0.41508513 0.02962113] -1.0 False\n",
            "101 [0.4429067  0.02782158] -1.0 False\n",
            "102 [0.46912898 0.02622228] -1.0 False\n",
            "103 [0.49394455 0.02481557] -1.0 False\n",
            "104 [0.51753801 0.02359346] -1.0 True\n"
          ],
          "name": "stdout"
        }
      ]
    },
    {
      "cell_type": "code",
      "metadata": {
        "colab": {
          "base_uri": "https://localhost:8080/",
          "height": 269
        },
        "id": "6_bxwk8yRA2S",
        "outputId": "62762224-988c-4dba-e78c-ad0236658b19"
      },
      "source": [
        "observation = env.reset()\n",
        "\n",
        "for t in range(199):\n",
        "  # Wizualizacja epizodu - resetowanie obrazka [3]:\n",
        "  plt.gca().clear()\n",
        "\n",
        "  # Akcja zostaje wybrana według polityki policy:\n",
        "  action = policy(observation, t)\n",
        "\n",
        "  observation, reward, done, info = env.step(action)\n",
        "\n",
        "  # Wizualizacja epizodu - renderowanie [3]:\n",
        "  plt.imshow(env.render('rgb_array'))\n",
        "  display.display(plt.gcf())\n",
        "  display.clear_output(wait=True)\n",
        "  \n",
        "  if done:\n",
        "    break\n",
        "\n",
        "  #display.clear_output(wait=True)"
      ],
      "execution_count": 14,
      "outputs": [
        {
          "output_type": "display_data",
          "data": {
            "image/png": "[encoded data removed]",
            "text/plain": [
              "<Figure size 432x288 with 1 Axes>"
            ]
          },
          "metadata": {
            "tags": [],
            "needs_background": "light"
          }
        }
      ]
    },
    {
      "cell_type": "code",
      "metadata": {
        "id": "q1MHMU6XRmhq"
      },
      "source": [
        ""
      ],
      "execution_count": null,
      "outputs": []
    }
  ]
}