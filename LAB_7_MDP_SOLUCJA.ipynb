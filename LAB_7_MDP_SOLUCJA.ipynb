{
  "nbformat": 4,
  "nbformat_minor": 0,
  "metadata": {
    "colab": {
      "name": "LAB_6_MDP_SOLUCJA.ipynb",
      "provenance": [],
      "collapsed_sections": []
    },
    "kernelspec": {
      "name": "python3",
      "display_name": "Python 3"
    }
  },
  "cells": [
    {
      "cell_type": "markdown",
      "metadata": {
        "id": "cNx5HtYkqivz"
      },
      "source": [
        "### **Uczenie Maszynowe, Laboratoria 7 - MDP**\n",
        "### - rozwiązywanie MDP metodą Iteracji Funkcji Wartości\n",
        "\n",
        "\n",
        "\n",
        "---\n",
        "\n",
        "\n",
        "*Aut. skryptu: Agnieszka Łysak, 26.04.2021*"
      ]
    },
    {
      "cell_type": "code",
      "metadata": {
        "id": "Q-cBAnFmE-kP"
      },
      "source": [
        "import numpy as np\n",
        "\n",
        "import sys, os\n",
        "if 'google.colab' in sys.modules and not os.path.exists('.setup_complete'):\n",
        "    !wget -q https://raw.githubusercontent.com/yandexdataschool/Practical_RL/coursera/week2_model_based/mdp.py"
      ],
      "execution_count": 21,
      "outputs": []
    },
    {
      "cell_type": "code",
      "metadata": {
        "id": "y9ih63zXKd_j"
      },
      "source": [
        "transition_probs = {\n",
        "    's0': {\n",
        "        'a0': {'s0': 0.5, 's2': 0.5},\n",
        "        'a1': {'s2': 1}\n",
        "    },\n",
        "    's1': {\n",
        "        'a0': {'s0': 0.7, 's1': 0.1, 's2': 0.2},\n",
        "        'a1': {'s1': 0.95, 's2': 0.05}\n",
        "    },\n",
        "    's2': {\n",
        "        'a0': {'s0': 0.4, 's2': 0.6},\n",
        "        'a1': {'s0': 0.3, 's1': 0.3, 's2': 0.4}\n",
        "    }\n",
        "}\n",
        "rewards = {\n",
        "    's1': {'a0': {'s0': +5}},\n",
        "    's2': {'a1': {'s0': -1}},\n",
        "}\n",
        "\n",
        "from mdp import MDP\n",
        "mdp = MDP(transition_probs, rewards, initial_state='s0')"
      ],
      "execution_count": 2,
      "outputs": []
    },
    {
      "cell_type": "code",
      "metadata": {
        "colab": {
          "base_uri": "https://localhost:8080/",
          "height": 35
        },
        "id": "I-7RfFT8LMjC",
        "outputId": "e667b5ed-7127-4936-d525-18046c58cf9d"
      },
      "source": [
        "mdp.reset()"
      ],
      "execution_count": 3,
      "outputs": [
        {
          "output_type": "execute_result",
          "data": {
            "application/vnd.google.colaboratory.intrinsic+json": {
              "type": "string"
            },
            "text/plain": [
              "'s0'"
            ]
          },
          "metadata": {
            "tags": []
          },
          "execution_count": 3
        }
      ]
    },
    {
      "cell_type": "code",
      "metadata": {
        "colab": {
          "base_uri": "https://localhost:8080/"
        },
        "id": "bUfKScimuoeC",
        "outputId": "4ca83e1f-eb0b-4b5f-d5d9-4efdcabc7f88"
      },
      "source": [
        "next_state, reward, done, info = mdp.step('a1')\n",
        "print(next_state, reward, done, info)"
      ],
      "execution_count": 4,
      "outputs": [
        {
          "output_type": "stream",
          "text": [
            "s2 0.0 False {}\n"
          ],
          "name": "stdout"
        }
      ]
    },
    {
      "cell_type": "code",
      "metadata": {
        "colab": {
          "base_uri": "https://localhost:8080/"
        },
        "id": "wgM8z4wZuvYB",
        "outputId": "a9a2f96f-962f-4469-b992-94380f00378b"
      },
      "source": [
        "mdp.get_all_states()"
      ],
      "execution_count": 5,
      "outputs": [
        {
          "output_type": "execute_result",
          "data": {
            "text/plain": [
              "('s0', 's1', 's2')"
            ]
          },
          "metadata": {
            "tags": []
          },
          "execution_count": 5
        }
      ]
    },
    {
      "cell_type": "code",
      "metadata": {
        "colab": {
          "base_uri": "https://localhost:8080/"
        },
        "id": "wbt63nWcuzAh",
        "outputId": "001f0c0f-3283-44ce-c8e8-93e90b83035c"
      },
      "source": [
        "mdp.get_possible_actions('s1')"
      ],
      "execution_count": 6,
      "outputs": [
        {
          "output_type": "execute_result",
          "data": {
            "text/plain": [
              "('a0', 'a1')"
            ]
          },
          "metadata": {
            "tags": []
          },
          "execution_count": 6
        }
      ]
    },
    {
      "cell_type": "code",
      "metadata": {
        "colab": {
          "base_uri": "https://localhost:8080/"
        },
        "id": "At29ZYvbu01F",
        "outputId": "a0857c88-9a11-400f-a1b3-0143fd4e1ef0"
      },
      "source": [
        "mdp.get_next_states('s1', 'a0')"
      ],
      "execution_count": 7,
      "outputs": [
        {
          "output_type": "execute_result",
          "data": {
            "text/plain": [
              "{'s0': 0.7, 's1': 0.1, 's2': 0.2}"
            ]
          },
          "metadata": {
            "tags": []
          },
          "execution_count": 7
        }
      ]
    },
    {
      "cell_type": "code",
      "metadata": {
        "colab": {
          "base_uri": "https://localhost:8080/"
        },
        "id": "MGRxkukou3HJ",
        "outputId": "b7d0bb57-10bb-48ad-f69d-2f0038bbc275"
      },
      "source": [
        "mdp.get_reward('s1', 'a0', 's0')"
      ],
      "execution_count": 8,
      "outputs": [
        {
          "output_type": "execute_result",
          "data": {
            "text/plain": [
              "5"
            ]
          },
          "metadata": {
            "tags": []
          },
          "execution_count": 8
        }
      ]
    },
    {
      "cell_type": "code",
      "metadata": {
        "colab": {
          "base_uri": "https://localhost:8080/"
        },
        "id": "V6cZfyERu4Zk",
        "outputId": "ac022fe2-1710-4781-c421-57d79ce916ac"
      },
      "source": [
        "mdp.get_transition_prob('s1', 'a0', 's0')"
      ],
      "execution_count": 9,
      "outputs": [
        {
          "output_type": "execute_result",
          "data": {
            "text/plain": [
              "0.7"
            ]
          },
          "metadata": {
            "tags": []
          },
          "execution_count": 9
        }
      ]
    },
    {
      "cell_type": "code",
      "metadata": {
        "id": "UoygVJQtOh7j",
        "colab": {
          "base_uri": "https://localhost:8080/",
          "height": 322
        },
        "outputId": "a0195fdd-8932-421c-d29d-fed885b15135"
      },
      "source": [
        "from mdp import has_graphviz\n",
        "from IPython.display import display\n",
        "\n",
        "if has_graphviz:\n",
        "    from mdp import plot_graph\n",
        "    display(plot_graph(mdp))"
      ],
      "execution_count": 10,
      "outputs": [
        {
          "output_type": "display_data",
          "data": {
            "text/plain": [
              "<graphviz.dot.Digraph at 0x7fd598c95fd0>"
            ],
            "image/svg+xml": "<?xml version=\"1.0\" encoding=\"UTF-8\" standalone=\"no\"?>\n<!DOCTYPE svg PUBLIC \"-//W3C//DTD SVG 1.1//EN\"\n \"http://www.w3.org/Graphics/SVG/1.1/DTD/svg11.dtd\">\n<!-- Generated by graphviz version 2.40.1 (20161225.0304)\n -->\n<!-- Title: MDP Pages: 1 -->\n<svg width=\"720pt\" height=\"226pt\"\n viewBox=\"0.00 0.00 720.00 225.64\" xmlns=\"http://www.w3.org/2000/svg\" xmlns:xlink=\"http://www.w3.org/1999/xlink\">\n<g id=\"graph0\" class=\"graph\" transform=\"scale(.7008 .7008) rotate(0) translate(4 318)\">\n<title>MDP</title>\n<polygon fill=\"#ffffff\" stroke=\"transparent\" points=\"-4,4 -4,-318 1023.463,-318 1023.463,4 -4,4\"/>\n<!-- s0 -->\n<g id=\"node1\" class=\"node\">\n<title>s0</title>\n<ellipse fill=\"#85ff75\" stroke=\"#85ff75\" cx=\"40\" cy=\"-116\" rx=\"36\" ry=\"36\"/>\n<ellipse fill=\"none\" stroke=\"#85ff75\" cx=\"40\" cy=\"-116\" rx=\"40\" ry=\"40\"/>\n<text text-anchor=\"middle\" x=\"40\" y=\"-109.8\" font-family=\"Arial\" font-size=\"24.00\" fill=\"#000000\">s0</text>\n</g>\n<!-- s0&#45;a0 -->\n<g id=\"node2\" class=\"node\">\n<title>s0&#45;a0</title>\n<ellipse fill=\"#ffb6c1\" stroke=\"#ffb6c1\" cx=\"193.5772\" cy=\"-160\" rx=\"27.6545\" ry=\"27.6545\"/>\n<text text-anchor=\"middle\" x=\"193.5772\" y=\"-155\" font-family=\"Arial\" font-size=\"20.00\" fill=\"#000000\">a0</text>\n</g>\n<!-- s0&#45;&gt;s0&#45;a0 -->\n<g id=\"edge1\" class=\"edge\">\n<title>s0&#45;&gt;s0&#45;a0</title>\n<path fill=\"none\" stroke=\"#ff0000\" stroke-width=\"2\" d=\"M79.2844,-124.7026C99.8974,-129.5498 125.4811,-136.0095 148,-143 151.327,-144.0328 154.7652,-145.1741 158.1924,-146.3622\"/>\n<polygon fill=\"#ff0000\" stroke=\"#ff0000\" stroke-width=\"2\" points=\"157.1257,-149.698 167.7202,-149.7831 159.4912,-143.1097 157.1257,-149.698\"/>\n</g>\n<!-- s0&#45;a1 -->\n<g id=\"node4\" class=\"node\">\n<title>s0&#45;a1</title>\n<ellipse fill=\"#ffb6c1\" stroke=\"#ffb6c1\" cx=\"193.5772\" cy=\"-233\" rx=\"27.6545\" ry=\"27.6545\"/>\n<text text-anchor=\"middle\" x=\"193.5772\" y=\"-228\" font-family=\"Arial\" font-size=\"20.00\" fill=\"#000000\">a1</text>\n</g>\n<!-- s0&#45;&gt;s0&#45;a1 -->\n<g id=\"edge4\" class=\"edge\">\n<title>s0&#45;&gt;s0&#45;a1</title>\n<path fill=\"none\" stroke=\"#ff0000\" stroke-width=\"2\" d=\"M66.6878,-145.9984C76.104,-155.7862 87.0765,-166.3514 98,-175 117.3546,-190.324 141.0693,-204.7377 160.0344,-215.3632\"/>\n<polygon fill=\"#ff0000\" stroke=\"#ff0000\" stroke-width=\"2\" points=\"158.4757,-218.5005 168.923,-220.2624 161.8547,-212.37 158.4757,-218.5005\"/>\n</g>\n<!-- s0&#45;a0&#45;&gt;s0 -->\n<g id=\"edge2\" class=\"edge\">\n<title>s0&#45;a0&#45;&gt;s0</title>\n<path fill=\"none\" stroke=\"#0000ff\" stroke-dasharray=\"5,2\" d=\"M166.0433,-155.6398C146.7591,-152.2473 120.5165,-146.9481 98,-140 94.1846,-138.8227 90.2733,-137.4907 86.3715,-136.0724\"/>\n<polygon fill=\"#0000ff\" stroke=\"#0000ff\" points=\"87.3439,-132.6975 76.753,-132.4084 84.852,-139.239 87.3439,-132.6975\"/>\n<text text-anchor=\"middle\" x=\"123\" y=\"-158.2\" font-family=\"Arial\" font-size=\"16.00\" fill=\"#000000\">p = 0.5</text>\n</g>\n<!-- s2 -->\n<g id=\"node3\" class=\"node\">\n<title>s2</title>\n<ellipse fill=\"#85ff75\" stroke=\"#85ff75\" cx=\"433.1543\" cy=\"-183\" rx=\"36\" ry=\"36\"/>\n<ellipse fill=\"none\" stroke=\"#85ff75\" cx=\"433.1543\" cy=\"-183\" rx=\"40\" ry=\"40\"/>\n<text text-anchor=\"middle\" x=\"433.1543\" y=\"-176.8\" font-family=\"Arial\" font-size=\"24.00\" fill=\"#000000\">s2</text>\n</g>\n<!-- s0&#45;a0&#45;&gt;s2 -->\n<g id=\"edge3\" class=\"edge\">\n<title>s0&#45;a0&#45;&gt;s2</title>\n<path fill=\"none\" stroke=\"#0000ff\" stroke-dasharray=\"5,2\" d=\"M221.0597,-162.6384C260.5326,-166.4279 333.9353,-173.4747 383.1716,-178.2015\"/>\n<polygon fill=\"#0000ff\" stroke=\"#0000ff\" points=\"383.0017,-181.7012 393.2904,-179.173 383.6707,-174.7333 383.0017,-181.7012\"/>\n<text text-anchor=\"middle\" x=\"307.1543\" y=\"-182.2\" font-family=\"Arial\" font-size=\"16.00\" fill=\"#000000\">p = 0.5</text>\n</g>\n<!-- s2&#45;a0 -->\n<g id=\"node8\" class=\"node\">\n<title>s2&#45;a0</title>\n<ellipse fill=\"#ffb6c1\" stroke=\"#ffb6c1\" cx=\"666.7315\" cy=\"-162\" rx=\"27.6545\" ry=\"27.6545\"/>\n<text text-anchor=\"middle\" x=\"666.7315\" y=\"-157\" font-family=\"Arial\" font-size=\"20.00\" fill=\"#000000\">a0</text>\n</g>\n<!-- s2&#45;&gt;s2&#45;a0 -->\n<g id=\"edge13\" class=\"edge\">\n<title>s2&#45;&gt;s2&#45;a0</title>\n<path fill=\"none\" stroke=\"#ff0000\" stroke-width=\"2\" d=\"M473.2351,-186.9649C511.6217,-189.7355 570.9586,-191.3218 621.1543,-181 624.8123,-180.2478 628.5451,-179.2014 632.2213,-177.9828\"/>\n<polygon fill=\"#ff0000\" stroke=\"#ff0000\" stroke-width=\"2\" points=\"633.5825,-181.2107 641.7302,-174.4383 631.1375,-174.6516 633.5825,-181.2107\"/>\n</g>\n<!-- s2&#45;a1 -->\n<g id=\"node9\" class=\"node\">\n<title>s2&#45;a1</title>\n<ellipse fill=\"#ffb6c1\" stroke=\"#ffb6c1\" cx=\"666.7315\" cy=\"-80\" rx=\"27.6545\" ry=\"27.6545\"/>\n<text text-anchor=\"middle\" x=\"666.7315\" y=\"-75\" font-family=\"Arial\" font-size=\"20.00\" fill=\"#000000\">a1</text>\n</g>\n<!-- s2&#45;&gt;s2&#45;a1 -->\n<g id=\"edge16\" class=\"edge\">\n<title>s2&#45;&gt;s2&#45;a1</title>\n<path fill=\"none\" stroke=\"#ff0000\" stroke-width=\"2\" d=\"M467.3288,-161.7827C475.0423,-157.3286 483.2807,-152.8261 491.1543,-149 538.2751,-126.1024 595.0607,-104.8798 631.0354,-92.179\"/>\n<polygon fill=\"#ff0000\" stroke=\"#ff0000\" stroke-width=\"2\" points=\"632.3234,-95.4365 640.6049,-88.8284 630.0101,-88.8297 632.3234,-95.4365\"/>\n</g>\n<!-- s0&#45;a1&#45;&gt;s2 -->\n<g id=\"edge5\" class=\"edge\">\n<title>s0&#45;a1&#45;&gt;s2</title>\n<path fill=\"none\" stroke=\"#0000ff\" stroke-dasharray=\"5,2\" d=\"M221.1044,-228.5867C256.8082,-222.6933 320.9391,-211.5305 375.1543,-199 378.3093,-198.2708 381.5506,-197.4836 384.8112,-196.6631\"/>\n<polygon fill=\"#0000ff\" stroke=\"#0000ff\" points=\"385.7835,-200.0268 394.5834,-194.1266 384.0248,-193.2513 385.7835,-200.0268\"/>\n<text text-anchor=\"middle\" x=\"307.1543\" y=\"-230.2\" font-family=\"Arial\" font-size=\"16.00\" fill=\"#000000\">p = 1</text>\n</g>\n<!-- s1 -->\n<g id=\"node5\" class=\"node\">\n<title>s1</title>\n<ellipse fill=\"#85ff75\" stroke=\"#85ff75\" cx=\"829.3087\" cy=\"-116\" rx=\"36\" ry=\"36\"/>\n<ellipse fill=\"none\" stroke=\"#85ff75\" cx=\"829.3087\" cy=\"-116\" rx=\"40\" ry=\"40\"/>\n<text text-anchor=\"middle\" x=\"829.3087\" y=\"-109.8\" font-family=\"Arial\" font-size=\"24.00\" fill=\"#000000\">s1</text>\n</g>\n<!-- s1&#45;a0 -->\n<g id=\"node6\" class=\"node\">\n<title>s1&#45;a0</title>\n<ellipse fill=\"#ffb6c1\" stroke=\"#ffb6c1\" cx=\"991.8858\" cy=\"-92\" rx=\"27.6545\" ry=\"27.6545\"/>\n<text text-anchor=\"middle\" x=\"991.8858\" y=\"-87\" font-family=\"Arial\" font-size=\"20.00\" fill=\"#000000\">a0</text>\n</g>\n<!-- s1&#45;&gt;s1&#45;a0 -->\n<g id=\"edge6\" class=\"edge\">\n<title>s1&#45;&gt;s1&#45;a0</title>\n<path fill=\"none\" stroke=\"#ff0000\" stroke-width=\"2\" d=\"M869.2486,-112.1898C891.9249,-109.7844 920.7924,-106.3154 946.3087,-102 949.1542,-101.5187 952.0904,-100.9778 955.0369,-100.403\"/>\n<polygon fill=\"#ff0000\" stroke=\"#ff0000\" stroke-width=\"2\" points=\"955.889,-103.8011 964.9779,-98.3566 954.4775,-96.9449 955.889,-103.8011\"/>\n</g>\n<!-- s1&#45;a1 -->\n<g id=\"node7\" class=\"node\">\n<title>s1&#45;a1</title>\n<ellipse fill=\"#ffb6c1\" stroke=\"#ffb6c1\" cx=\"991.8858\" cy=\"-174\" rx=\"27.6545\" ry=\"27.6545\"/>\n<text text-anchor=\"middle\" x=\"991.8858\" y=\"-169\" font-family=\"Arial\" font-size=\"20.00\" fill=\"#000000\">a1</text>\n</g>\n<!-- s1&#45;&gt;s1&#45;a1 -->\n<g id=\"edge10\" class=\"edge\">\n<title>s1&#45;&gt;s1&#45;a1</title>\n<path fill=\"none\" stroke=\"#ff0000\" stroke-width=\"2\" d=\"M867.494,-127.948C890.4784,-135.3328 920.2423,-145.2373 946.3087,-155 949.8059,-156.3098 953.4327,-157.7241 957.0437,-159.1692\"/>\n<polygon fill=\"#ff0000\" stroke=\"#ff0000\" stroke-width=\"2\" points=\"955.8842,-162.4763 966.4653,-163.0165 958.5305,-155.9957 955.8842,-162.4763\"/>\n</g>\n<!-- s1&#45;a0&#45;&gt;s0 -->\n<g id=\"edge7\" class=\"edge\">\n<title>s1&#45;a0&#45;&gt;s0</title>\n<path fill=\"none\" stroke=\"#0000ff\" stroke-dasharray=\"5,2\" d=\"M972.3647,-72.0374C943.7154,-44.9794 887.3603,0 829.3087,0 193.5772,0 193.5772,0 193.5772,0 142.2271,0 97.1839,-41.8033 69.3807,-75.22\"/>\n<polygon fill=\"#0000ff\" stroke=\"#0000ff\" points=\"66.5993,-73.0932 63.0318,-83.0693 72.0419,-77.4953 66.5993,-73.0932\"/>\n<text text-anchor=\"middle\" x=\"556.1543\" y=\"-5.2\" font-family=\"Arial\" font-size=\"16.00\" fill=\"#000000\">p = 0.7 &#160;reward =5</text>\n</g>\n<!-- s1&#45;a0&#45;&gt;s2 -->\n<g id=\"edge9\" class=\"edge\">\n<title>s1&#45;a0&#45;&gt;s2</title>\n<path fill=\"none\" stroke=\"#0000ff\" stroke-dasharray=\"5,2\" d=\"M976.2683,-115.2719C972.0616,-122.1013 967.7329,-129.6999 964.3087,-137 953.7441,-159.5223 966.2691,-175.1526 946.3087,-190 783.9583,-310.7629 691.4414,-228.7477 491.1543,-200 487.8825,-199.5304 484.5378,-198.919 481.1875,-198.2077\"/>\n<polygon fill=\"#0000ff\" stroke=\"#0000ff\" points=\"481.7276,-194.7383 471.1878,-195.8166 480.0996,-201.5463 481.7276,-194.7383\"/>\n<text text-anchor=\"middle\" x=\"741.8087\" y=\"-258.2\" font-family=\"Arial\" font-size=\"16.00\" fill=\"#000000\">p = 0.2</text>\n</g>\n<!-- s1&#45;a0&#45;&gt;s1 -->\n<g id=\"edge8\" class=\"edge\">\n<title>s1&#45;a0&#45;&gt;s1</title>\n<path fill=\"none\" stroke=\"#0000ff\" stroke-dasharray=\"5,2\" d=\"M965.6405,-83.4352C944.2075,-77.7535 913.319,-72.584 887.3087,-80 881.5406,-81.6446 875.7864,-84.0459 870.2659,-86.8404\"/>\n<polygon fill=\"#0000ff\" stroke=\"#0000ff\" points=\"868.2815,-83.9387 861.2349,-91.8506 871.6774,-90.0599 868.2815,-83.9387\"/>\n<text text-anchor=\"middle\" x=\"916.8087\" y=\"-85.2\" font-family=\"Arial\" font-size=\"16.00\" fill=\"#000000\">p = 0.1</text>\n</g>\n<!-- s1&#45;a1&#45;&gt;s2 -->\n<g id=\"edge12\" class=\"edge\">\n<title>s1&#45;a1&#45;&gt;s2</title>\n<path fill=\"none\" stroke=\"#0000ff\" stroke-dasharray=\"5,2\" d=\"M979.9034,-198.873C972.2373,-211.8113 960.9673,-226.464 946.3087,-234 766.4005,-326.4912 679.6137,-307.5164 491.1543,-234 482.8044,-230.7427 474.8606,-225.7094 467.6802,-220.0496\"/>\n<polygon fill=\"#0000ff\" stroke=\"#0000ff\" points=\"469.5052,-217.0066 459.623,-213.1866 464.9661,-222.3354 469.5052,-217.0066\"/>\n<text text-anchor=\"middle\" x=\"741.8087\" y=\"-301.2\" font-family=\"Arial\" font-size=\"16.00\" fill=\"#000000\">p = 0.05</text>\n</g>\n<!-- s1&#45;a1&#45;&gt;s1 -->\n<g id=\"edge11\" class=\"edge\">\n<title>s1&#45;a1&#45;&gt;s1</title>\n<path fill=\"none\" stroke=\"#0000ff\" stroke-dasharray=\"5,2\" d=\"M964.4796,-170.89C942.9286,-167.8208 912.4497,-162.0831 887.3087,-152 881.8827,-149.8239 876.3943,-147.1497 871.069,-144.2503\"/>\n<polygon fill=\"#0000ff\" stroke=\"#0000ff\" points=\"872.7141,-141.1589 862.3007,-139.2062 869.2235,-147.2265 872.7141,-141.1589\"/>\n<text text-anchor=\"middle\" x=\"916.8087\" y=\"-173.2\" font-family=\"Arial\" font-size=\"16.00\" fill=\"#000000\">p = 0.95</text>\n</g>\n<!-- s2&#45;a0&#45;&gt;s0 -->\n<g id=\"edge14\" class=\"edge\">\n<title>s2&#45;a0&#45;&gt;s0</title>\n<path fill=\"none\" stroke=\"#0000ff\" stroke-dasharray=\"5,2\" d=\"M640.4115,-153.6379C634.1509,-151.8874 627.4576,-150.2085 621.1543,-149 446.1882,-115.4541 399.1567,-130.324 221.1543,-123 177.0766,-121.1864 126.9601,-119.2603 90.6308,-117.8886\"/>\n<polygon fill=\"#0000ff\" stroke=\"#0000ff\" points=\"90.4191,-114.3783 80.2944,-117.4993 90.1556,-121.3733 90.4191,-114.3783\"/>\n<text text-anchor=\"middle\" x=\"307.1543\" y=\"-131.2\" font-family=\"Arial\" font-size=\"16.00\" fill=\"#000000\">p = 0.4</text>\n</g>\n<!-- s2&#45;a0&#45;&gt;s2 -->\n<g id=\"edge15\" class=\"edge\">\n<title>s2&#45;a0&#45;&gt;s2</title>\n<path fill=\"none\" stroke=\"#0000ff\" stroke-dasharray=\"5,2\" d=\"M639.3416,-157.9791C604.5225,-153.6753 542.7351,-148.7496 491.1543,-159 487.066,-159.8125 482.9045,-160.9179 478.7831,-162.2107\"/>\n<polygon fill=\"#0000ff\" stroke=\"#0000ff\" points=\"477.5839,-158.9221 469.2922,-165.5174 479.887,-165.5324 477.5839,-158.9221\"/>\n<text text-anchor=\"middle\" x=\"556.1543\" y=\"-164.2\" font-family=\"Arial\" font-size=\"16.00\" fill=\"#000000\">p = 0.6</text>\n</g>\n<!-- s2&#45;a1&#45;&gt;s0 -->\n<g id=\"edge17\" class=\"edge\">\n<title>s2&#45;a1&#45;&gt;s0</title>\n<path fill=\"none\" stroke=\"#0000ff\" stroke-dasharray=\"5,2\" d=\"M643.5482,-64.3784C636.6374,-60.5416 628.8477,-56.9714 621.1543,-55 456.6448,-12.8443 407.9727,-45.5381 239.1543,-64 175.7418,-70.9348 158.9077,-71.0397 98,-90 93.9106,-91.273 89.7281,-92.7576 85.5746,-94.3605\"/>\n<polygon fill=\"#0000ff\" stroke=\"#0000ff\" points=\"83.9293,-91.2516 75.9933,-98.271 86.5745,-97.7326 83.9293,-91.2516\"/>\n<text text-anchor=\"middle\" x=\"307.1543\" y=\"-69.2\" font-family=\"Arial\" font-size=\"16.00\" fill=\"#000000\">p = 0.3 &#160;reward =&#45;1</text>\n</g>\n<!-- s2&#45;a1&#45;&gt;s2 -->\n<g id=\"edge19\" class=\"edge\">\n<title>s2&#45;a1&#45;&gt;s2</title>\n<path fill=\"none\" stroke=\"#0000ff\" stroke-dasharray=\"5,2\" d=\"M640.4326,-71.0411C604.0521,-60.3658 537.6085,-47.2183 491.1543,-75 469.3384,-88.0469 455.2541,-112.4282 446.4357,-134.7277\"/>\n<polygon fill=\"#0000ff\" stroke=\"#0000ff\" points=\"443.1489,-133.5248 442.9716,-144.1181 449.7163,-135.9475 443.1489,-133.5248\"/>\n<text text-anchor=\"middle\" x=\"556.1543\" y=\"-80.2\" font-family=\"Arial\" font-size=\"16.00\" fill=\"#000000\">p = 0.4</text>\n</g>\n<!-- s2&#45;a1&#45;&gt;s1 -->\n<g id=\"edge18\" class=\"edge\">\n<title>s2&#45;a1&#45;&gt;s1</title>\n<path fill=\"none\" stroke=\"#0000ff\" stroke-dasharray=\"5,2\" d=\"M693.9433,-86.0256C717.3708,-91.2132 751.7657,-98.8294 780.0218,-105.0862\"/>\n<polygon fill=\"#0000ff\" stroke=\"#0000ff\" points=\"779.6023,-108.5781 790.1225,-107.3229 781.1157,-101.7436 779.6023,-108.5781\"/>\n<text text-anchor=\"middle\" x=\"741.8087\" y=\"-108.2\" font-family=\"Arial\" font-size=\"16.00\" fill=\"#000000\">p = 0.3</text>\n</g>\n</g>\n</svg>\n"
          },
          "metadata": {
            "tags": []
          }
        }
      ]
    },
    {
      "cell_type": "code",
      "metadata": {
        "colab": {
          "base_uri": "https://localhost:8080/"
        },
        "id": "haYTue-EP2qZ",
        "outputId": "cc4eac6c-9eeb-4c16-b6f7-909781230dc1"
      },
      "source": [
        "import random\n",
        "\n",
        "for t in range(200):\n",
        "  actions = ['a0', 'a1']\n",
        "  action = random.choice(actions)\n",
        "  observation, reward, done, info = mdp.step(action)\n",
        "  print(t, observation, reward, done)"
      ],
      "execution_count": 11,
      "outputs": [
        {
          "output_type": "stream",
          "text": [
            "0 s2 0.0 False\n",
            "1 s2 0.0 False\n",
            "2 s2 0.0 False\n",
            "3 s0 0.0 False\n",
            "4 s2 0.0 False\n",
            "5 s0 -1 False\n",
            "6 s2 0.0 False\n",
            "7 s2 0.0 False\n",
            "8 s2 0.0 False\n",
            "9 s2 0.0 False\n",
            "10 s0 -1 False\n",
            "11 s2 0.0 False\n",
            "12 s1 0.0 False\n",
            "13 s1 0.0 False\n",
            "14 s0 5 False\n",
            "15 s2 0.0 False\n",
            "16 s2 0.0 False\n",
            "17 s0 -1 False\n",
            "18 s2 0.0 False\n",
            "19 s1 0.0 False\n",
            "20 s1 0.0 False\n",
            "21 s1 0.0 False\n",
            "22 s0 5 False\n",
            "23 s0 0.0 False\n",
            "24 s2 0.0 False\n",
            "25 s1 0.0 False\n",
            "26 s1 0.0 False\n",
            "27 s0 5 False\n",
            "28 s2 0.0 False\n",
            "29 s2 0.0 False\n",
            "30 s2 0.0 False\n",
            "31 s1 0.0 False\n",
            "32 s1 0.0 False\n",
            "33 s1 0.0 False\n",
            "34 s2 0.0 False\n",
            "35 s2 0.0 False\n",
            "36 s0 0.0 False\n",
            "37 s0 0.0 False\n",
            "38 s2 0.0 False\n",
            "39 s2 0.0 False\n",
            "40 s0 0.0 False\n",
            "41 s0 0.0 False\n",
            "42 s2 0.0 False\n",
            "43 s2 0.0 False\n",
            "44 s2 0.0 False\n",
            "45 s2 0.0 False\n",
            "46 s2 0.0 False\n",
            "47 s2 0.0 False\n",
            "48 s0 -1 False\n",
            "49 s2 0.0 False\n",
            "50 s1 0.0 False\n",
            "51 s0 5 False\n",
            "52 s2 0.0 False\n",
            "53 s2 0.0 False\n",
            "54 s1 0.0 False\n",
            "55 s0 5 False\n",
            "56 s2 0.0 False\n",
            "57 s0 0.0 False\n",
            "58 s2 0.0 False\n",
            "59 s1 0.0 False\n",
            "60 s1 0.0 False\n",
            "61 s2 0.0 False\n",
            "62 s0 0.0 False\n",
            "63 s2 0.0 False\n",
            "64 s0 -1 False\n",
            "65 s2 0.0 False\n",
            "66 s1 0.0 False\n",
            "67 s0 5 False\n",
            "68 s2 0.0 False\n",
            "69 s0 0.0 False\n",
            "70 s2 0.0 False\n",
            "71 s2 0.0 False\n",
            "72 s2 0.0 False\n",
            "73 s1 0.0 False\n",
            "74 s1 0.0 False\n",
            "75 s1 0.0 False\n",
            "76 s0 5 False\n",
            "77 s2 0.0 False\n",
            "78 s2 0.0 False\n",
            "79 s2 0.0 False\n",
            "80 s0 0.0 False\n",
            "81 s2 0.0 False\n",
            "82 s2 0.0 False\n",
            "83 s2 0.0 False\n",
            "84 s2 0.0 False\n",
            "85 s2 0.0 False\n",
            "86 s0 -1 False\n",
            "87 s2 0.0 False\n",
            "88 s2 0.0 False\n",
            "89 s2 0.0 False\n",
            "90 s2 0.0 False\n",
            "91 s2 0.0 False\n",
            "92 s0 -1 False\n",
            "93 s2 0.0 False\n",
            "94 s0 0.0 False\n",
            "95 s2 0.0 False\n",
            "96 s0 0.0 False\n",
            "97 s2 0.0 False\n",
            "98 s2 0.0 False\n",
            "99 s0 0.0 False\n",
            "100 s2 0.0 False\n",
            "101 s2 0.0 False\n",
            "102 s1 0.0 False\n",
            "103 s0 5 False\n",
            "104 s0 0.0 False\n",
            "105 s0 0.0 False\n",
            "106 s0 0.0 False\n",
            "107 s0 0.0 False\n",
            "108 s2 0.0 False\n",
            "109 s0 0.0 False\n",
            "110 s2 0.0 False\n",
            "111 s0 -1 False\n",
            "112 s0 0.0 False\n",
            "113 s0 0.0 False\n",
            "114 s2 0.0 False\n",
            "115 s2 0.0 False\n",
            "116 s2 0.0 False\n",
            "117 s0 0.0 False\n",
            "118 s2 0.0 False\n",
            "119 s0 0.0 False\n",
            "120 s2 0.0 False\n",
            "121 s2 0.0 False\n",
            "122 s2 0.0 False\n",
            "123 s0 0.0 False\n",
            "124 s0 0.0 False\n",
            "125 s0 0.0 False\n",
            "126 s2 0.0 False\n",
            "127 s2 0.0 False\n",
            "128 s2 0.0 False\n",
            "129 s2 0.0 False\n",
            "130 s2 0.0 False\n",
            "131 s0 -1 False\n",
            "132 s2 0.0 False\n",
            "133 s2 0.0 False\n",
            "134 s1 0.0 False\n",
            "135 s0 5 False\n",
            "136 s2 0.0 False\n",
            "137 s0 -1 False\n",
            "138 s2 0.0 False\n",
            "139 s0 0.0 False\n",
            "140 s2 0.0 False\n",
            "141 s2 0.0 False\n",
            "142 s0 -1 False\n",
            "143 s0 0.0 False\n",
            "144 s0 0.0 False\n",
            "145 s2 0.0 False\n",
            "146 s1 0.0 False\n",
            "147 s1 0.0 False\n",
            "148 s1 0.0 False\n",
            "149 s1 0.0 False\n",
            "150 s0 5 False\n",
            "151 s2 0.0 False\n",
            "152 s2 0.0 False\n",
            "153 s0 0.0 False\n",
            "154 s0 0.0 False\n",
            "155 s2 0.0 False\n",
            "156 s0 0.0 False\n",
            "157 s2 0.0 False\n",
            "158 s0 0.0 False\n",
            "159 s2 0.0 False\n",
            "160 s2 0.0 False\n",
            "161 s2 0.0 False\n",
            "162 s2 0.0 False\n",
            "163 s2 0.0 False\n",
            "164 s1 0.0 False\n",
            "165 s0 5 False\n",
            "166 s2 0.0 False\n",
            "167 s1 0.0 False\n",
            "168 s1 0.0 False\n",
            "169 s0 5 False\n",
            "170 s2 0.0 False\n",
            "171 s2 0.0 False\n",
            "172 s2 0.0 False\n",
            "173 s2 0.0 False\n",
            "174 s0 0.0 False\n",
            "175 s2 0.0 False\n",
            "176 s0 0.0 False\n",
            "177 s0 0.0 False\n",
            "178 s2 0.0 False\n",
            "179 s2 0.0 False\n",
            "180 s2 0.0 False\n",
            "181 s2 0.0 False\n",
            "182 s0 -1 False\n",
            "183 s2 0.0 False\n",
            "184 s0 -1 False\n",
            "185 s2 0.0 False\n",
            "186 s1 0.0 False\n",
            "187 s0 5 False\n",
            "188 s2 0.0 False\n",
            "189 s2 0.0 False\n",
            "190 s2 0.0 False\n",
            "191 s0 0.0 False\n",
            "192 s2 0.0 False\n",
            "193 s2 0.0 False\n",
            "194 s2 0.0 False\n",
            "195 s0 -1 False\n",
            "196 s0 0.0 False\n",
            "197 s0 0.0 False\n",
            "198 s2 0.0 False\n",
            "199 s2 0.0 False\n"
          ],
          "name": "stdout"
        }
      ]
    },
    {
      "cell_type": "code",
      "metadata": {
        "id": "Lj2v8AunGC3W",
        "colab": {
          "base_uri": "https://localhost:8080/"
        },
        "outputId": "9fbc1cc1-061a-4469-ddc0-9e03baedadf6"
      },
      "source": [
        "state = mdp.reset()\n",
        "\n",
        "for t in range(200):\n",
        "\n",
        "  action = random.choice(mdp.get_possible_actions(state))\n",
        "  observation, reward, done, info = mdp.step(action)\n",
        "  state = observation\n",
        "\n",
        "  print(t, observation, reward, done)"
      ],
      "execution_count": 12,
      "outputs": [
        {
          "output_type": "stream",
          "text": [
            "0 s2 0.0 False\n",
            "1 s2 0.0 False\n",
            "2 s0 -1 False\n",
            "3 s2 0.0 False\n",
            "4 s1 0.0 False\n",
            "5 s1 0.0 False\n",
            "6 s2 0.0 False\n",
            "7 s2 0.0 False\n",
            "8 s2 0.0 False\n",
            "9 s2 0.0 False\n",
            "10 s2 0.0 False\n",
            "11 s2 0.0 False\n",
            "12 s2 0.0 False\n",
            "13 s2 0.0 False\n",
            "14 s0 -1 False\n",
            "15 s2 0.0 False\n",
            "16 s2 0.0 False\n",
            "17 s0 0.0 False\n",
            "18 s0 0.0 False\n",
            "19 s0 0.0 False\n",
            "20 s2 0.0 False\n",
            "21 s0 0.0 False\n",
            "22 s2 0.0 False\n",
            "23 s2 0.0 False\n",
            "24 s0 0.0 False\n",
            "25 s0 0.0 False\n",
            "26 s2 0.0 False\n",
            "27 s1 0.0 False\n",
            "28 s1 0.0 False\n",
            "29 s1 0.0 False\n",
            "30 s0 5 False\n",
            "31 s2 0.0 False\n",
            "32 s0 -1 False\n",
            "33 s2 0.0 False\n",
            "34 s2 0.0 False\n",
            "35 s0 0.0 False\n",
            "36 s2 0.0 False\n",
            "37 s1 0.0 False\n",
            "38 s1 0.0 False\n",
            "39 s1 0.0 False\n",
            "40 s1 0.0 False\n",
            "41 s1 0.0 False\n",
            "42 s0 5 False\n",
            "43 s2 0.0 False\n",
            "44 s2 0.0 False\n",
            "45 s0 0.0 False\n",
            "46 s2 0.0 False\n",
            "47 s0 0.0 False\n",
            "48 s0 0.0 False\n",
            "49 s0 0.0 False\n",
            "50 s2 0.0 False\n",
            "51 s2 0.0 False\n",
            "52 s2 0.0 False\n",
            "53 s2 0.0 False\n",
            "54 s2 0.0 False\n",
            "55 s2 0.0 False\n",
            "56 s2 0.0 False\n",
            "57 s0 0.0 False\n",
            "58 s2 0.0 False\n",
            "59 s2 0.0 False\n",
            "60 s0 0.0 False\n",
            "61 s2 0.0 False\n",
            "62 s2 0.0 False\n",
            "63 s2 0.0 False\n",
            "64 s2 0.0 False\n",
            "65 s2 0.0 False\n",
            "66 s2 0.0 False\n",
            "67 s0 -1 False\n",
            "68 s0 0.0 False\n",
            "69 s2 0.0 False\n",
            "70 s2 0.0 False\n",
            "71 s0 -1 False\n",
            "72 s0 0.0 False\n",
            "73 s2 0.0 False\n",
            "74 s1 0.0 False\n",
            "75 s1 0.0 False\n",
            "76 s1 0.0 False\n",
            "77 s0 5 False\n",
            "78 s0 0.0 False\n",
            "79 s2 0.0 False\n",
            "80 s0 0.0 False\n",
            "81 s2 0.0 False\n",
            "82 s2 0.0 False\n",
            "83 s2 0.0 False\n",
            "84 s2 0.0 False\n",
            "85 s2 0.0 False\n",
            "86 s2 0.0 False\n",
            "87 s2 0.0 False\n",
            "88 s0 -1 False\n",
            "89 s2 0.0 False\n",
            "90 s0 0.0 False\n",
            "91 s0 0.0 False\n",
            "92 s0 0.0 False\n",
            "93 s2 0.0 False\n",
            "94 s2 0.0 False\n",
            "95 s2 0.0 False\n",
            "96 s1 0.0 False\n",
            "97 s0 5 False\n",
            "98 s2 0.0 False\n",
            "99 s2 0.0 False\n",
            "100 s0 0.0 False\n",
            "101 s2 0.0 False\n",
            "102 s2 0.0 False\n",
            "103 s0 0.0 False\n",
            "104 s2 0.0 False\n",
            "105 s2 0.0 False\n",
            "106 s0 -1 False\n",
            "107 s0 0.0 False\n",
            "108 s2 0.0 False\n",
            "109 s0 0.0 False\n",
            "110 s0 0.0 False\n",
            "111 s2 0.0 False\n",
            "112 s0 0.0 False\n",
            "113 s0 0.0 False\n",
            "114 s2 0.0 False\n",
            "115 s2 0.0 False\n",
            "116 s0 0.0 False\n",
            "117 s2 0.0 False\n",
            "118 s2 0.0 False\n",
            "119 s0 -1 False\n",
            "120 s2 0.0 False\n",
            "121 s2 0.0 False\n",
            "122 s1 0.0 False\n",
            "123 s1 0.0 False\n",
            "124 s2 0.0 False\n",
            "125 s0 -1 False\n",
            "126 s2 0.0 False\n",
            "127 s2 0.0 False\n",
            "128 s2 0.0 False\n",
            "129 s0 -1 False\n",
            "130 s0 0.0 False\n",
            "131 s2 0.0 False\n",
            "132 s0 -1 False\n",
            "133 s2 0.0 False\n",
            "134 s0 0.0 False\n",
            "135 s0 0.0 False\n",
            "136 s0 0.0 False\n",
            "137 s2 0.0 False\n",
            "138 s0 -1 False\n",
            "139 s2 0.0 False\n",
            "140 s0 -1 False\n",
            "141 s2 0.0 False\n",
            "142 s2 0.0 False\n",
            "143 s2 0.0 False\n",
            "144 s0 -1 False\n",
            "145 s2 0.0 False\n",
            "146 s0 -1 False\n",
            "147 s2 0.0 False\n",
            "148 s2 0.0 False\n",
            "149 s2 0.0 False\n",
            "150 s2 0.0 False\n",
            "151 s0 -1 False\n",
            "152 s2 0.0 False\n",
            "153 s0 0.0 False\n",
            "154 s2 0.0 False\n",
            "155 s2 0.0 False\n",
            "156 s0 -1 False\n",
            "157 s0 0.0 False\n",
            "158 s2 0.0 False\n",
            "159 s2 0.0 False\n",
            "160 s2 0.0 False\n",
            "161 s1 0.0 False\n",
            "162 s1 0.0 False\n",
            "163 s1 0.0 False\n",
            "164 s1 0.0 False\n",
            "165 s0 5 False\n",
            "166 s2 0.0 False\n",
            "167 s0 0.0 False\n",
            "168 s2 0.0 False\n",
            "169 s2 0.0 False\n",
            "170 s0 0.0 False\n",
            "171 s2 0.0 False\n",
            "172 s2 0.0 False\n",
            "173 s1 0.0 False\n",
            "174 s1 0.0 False\n",
            "175 s0 5 False\n",
            "176 s2 0.0 False\n",
            "177 s2 0.0 False\n",
            "178 s2 0.0 False\n",
            "179 s0 0.0 False\n",
            "180 s2 0.0 False\n",
            "181 s2 0.0 False\n",
            "182 s2 0.0 False\n",
            "183 s2 0.0 False\n",
            "184 s2 0.0 False\n",
            "185 s2 0.0 False\n",
            "186 s0 -1 False\n",
            "187 s2 0.0 False\n",
            "188 s1 0.0 False\n",
            "189 s2 0.0 False\n",
            "190 s0 0.0 False\n",
            "191 s2 0.0 False\n",
            "192 s0 -1 False\n",
            "193 s2 0.0 False\n",
            "194 s0 -1 False\n",
            "195 s0 0.0 False\n",
            "196 s2 0.0 False\n",
            "197 s1 0.0 False\n",
            "198 s1 0.0 False\n",
            "199 s1 0.0 False\n"
          ],
          "name": "stdout"
        }
      ]
    },
    {
      "cell_type": "code",
      "metadata": {
        "id": "oeQHQNXpdrnK"
      },
      "source": [
        "def get_action_value(mdp, state_values, state, action, gamma):\n",
        "  Q = 0.\n",
        "\n",
        "  for next_state in mdp.get_next_states(state, action):\n",
        "    \n",
        "    prob = mdp.get_transition_prob(state, action, next_state)\n",
        "    reward = mdp.get_reward(state, action, next_state)\n",
        "    Q += prob * (reward + (gamma * state_values[next_state]))\n",
        "\n",
        "  return Q"
      ],
      "execution_count": 14,
      "outputs": []
    },
    {
      "cell_type": "code",
      "metadata": {
        "id": "sbQnGmDjduPa"
      },
      "source": [
        "def get_new_state_value(mdp, state_values, state, gamma):\n",
        "  \n",
        "  if mdp.is_terminal(state):\n",
        "    return 0\n",
        "\n",
        "  return max([get_action_value(mdp, state_values, state, action, gamma) for action in mdp.get_possible_actions(state)])"
      ],
      "execution_count": 15,
      "outputs": []
    },
    {
      "cell_type": "code",
      "metadata": {
        "colab": {
          "base_uri": "https://localhost:8080/"
        },
        "id": "Lj70hTlVduR6",
        "outputId": "619338ea-f861-4c54-a342-ea3915f7d9e7"
      },
      "source": [
        "gamma = 0.9\n",
        "num_iter = 100\n",
        "min_diff = 0.001\n",
        "\n",
        "state_values = {s: 0 for s in mdp.get_all_states()}\n",
        "\n",
        "for t in range(num_iter):\n",
        "\n",
        "    new_state_values = {state: get_new_state_value(mdp, state_values, state, gamma) for state in mdp.get_all_states()}\n",
        "\n",
        "    diff = max(abs(new_state_values[s] - state_values[s]) for s in mdp.get_all_states())\n",
        "\n",
        "    print(t, diff, state_values)\n",
        "\n",
        "    state_values = new_state_values\n",
        "\n",
        "    if diff < min_diff:\n",
        "        break"
      ],
      "execution_count": 16,
      "outputs": [
        {
          "output_type": "stream",
          "text": [
            "0 3.5 {'s0': 0, 's1': 0, 's2': 0}\n",
            "1 0.645 {'s0': 0.0, 's1': 3.5, 's2': 0.0}\n",
            "2 0.5805 {'s0': 0.0, 's1': 3.815, 's2': 0.645}\n",
            "3 0.4358204999999997 {'s0': 0.5805, 's1': 3.95945, 's2': 0.9622499999999998}\n",
            "4 0.306344025 {'s0': 0.8660249999999998, 's1': 4.3952705, 's2': 1.2721965}\n",
            "5 0.2757096225 {'s0': 1.14497685, 's1': 4.670165464999999, 's2': 1.578540525}\n",
            "6 0.24347110252050008 {'s0': 1.4206864725, 's1': 4.92578760185, 's2': 1.8383630140499996}\n",
            "7 0.21419250410938506 {'s0': 1.6545267126449996, 's1': 5.1692587043705, 's2': 2.0753586851324997}\n",
            "8 0.19277325369844678 {'s0': 1.8678228166192496, 's1': 5.3811496756835435, 's2': 2.2895511892418847}\n",
            "9 0.1732710404848179 {'s0': 2.0605960703176964, 's1': 5.573151059345186, 's2': 2.4814610010488325}\n",
            "10 0.15568887156157007 {'s0': 2.2333149009439492, 's1': 5.746422099830004, 's2': 2.654437685386558}\n",
            "11 0.14011998440541307 {'s0': 2.388993916847902, 's1': 5.901965159948969, 's2': 2.810126556948128}\n",
            "12 0.12609868065532925 {'s0': 2.5291139012533153, 's1': 6.042065812260248, 's2': 2.950204511236481}\n",
            "13 0.11347887191158268 {'s0': 2.655184060112833, 's1': 6.168164492915578, 's2': 3.0762921466937954}\n",
            "14 0.10212977069740337 {'s0': 2.768662932024416, 's1': 6.28163334863837, 's2': 3.189769282127437}\n",
            "15 0.09191619309277144 {'s0': 2.8707923539146933, 's1': 6.383763119335773, 's2': 3.2918969373448297}\n",
            "16 0.08272434408924179 {'s0': 2.962707243610347, 's1': 6.475679312428545, 's2': 3.383812875221765}\n",
            "17 0.07445181377756604 {'s0': 3.0454315876995888, 's1': 6.558403019133006, 's2': 3.466537005210337}\n",
            "18 0.0670065510908322 {'s0': 3.1198833046893033, 's1': 6.632854832910572, 's2': 3.540988665720522}\n",
            "19 0.06030589598174885 {'s0': 3.18688979914847, 's1': 6.699861376745906, 's2': 3.607995216811354}\n",
            "20 0.05427530000887337 {'s0': 3.2471956951302188, 's1': 6.760167236396711, 's2': 3.668301095543569}\n",
            "21 0.04884776406550273 {'s0': 3.301470985989212, 's1': 6.8144425364055845, 's2': 3.7225763859079564}\n",
            "22 0.04396298765895246 {'s0': 3.3503187473171607, 's1': 6.863290298913139, 's2': 3.771424149973459}\n",
            "23 0.03956668851645695 {'s0': 3.394281734976113, 's1': 6.907253284707217, 's2': 3.815387136472626}\n",
            "24 0.035610019288667694 {'s0': 3.4338484228253634, 's1': 6.946819973223674, 's2': 3.854953824444644}\n",
            "25 0.032049017359800924 {'s0': 3.46945844200018, 's1': 6.982429992370146, 's2': 3.890563843733312}\n",
            "26 0.028844115603770426 {'s0': 3.501507459359981, 's1': 7.014479009645422, 's2': 3.92261286102398}\n",
            "27 0.025959704022050722 {'s0': 3.5303515749215824, 's1': 7.043323125249192, 's2': 3.9514569766000918}\n",
            "28 0.02336373361984556 {'s0': 3.5563112789400826, 's1': 7.06928282926104, 's2': 3.9774166806221425}\n",
            "29 0.02102736025690799 {'s0': 3.579675012559928, 's1': 7.092646562877732, 's2': 4.000780414238275}\n",
            "30 0.018924624230127307 {'s0': 3.6007023728144474, 's1': 7.11367392313464, 's2': 4.021807774493947}\n",
            "31 0.017032161807114754 {'s0': 3.6196269970445525, 's1': 7.132598547364131, 's2': 4.040732398724074}\n",
            "32 0.01532894562636411 {'s0': 3.6366591588516672, 's1': 7.1496307091711735, 's2': 4.057764560531011}\n",
            "33 0.01379605106368853 {'s0': 3.6519881044779097, 's1': 7.164959654797538, 's2': 4.073093506157331}\n",
            "34 0.012416445957314615 {'s0': 3.665784155541598, 's1': 7.17875570586118, 's2': 4.08688955722101}\n",
            "35 0.011174801361580222 {'s0': 3.6782006014989093, 's1': 7.191172151818495, 's2': 4.099306003178314}\n",
            "36 0.010057321225420246 {'s0': 3.689375402860483, 's1': 7.202346953180075, 's2': 4.1104808045398915}\n",
            "37 0.009051589102877955 {'s0': 3.6994327240859026, 's1': 7.2124042744054915, 's2': 4.120538125765312}\n",
            "38 0.008146430192589982 {'s0': 3.7084843131887806, 's1': 7.221455863508369, 's2': 4.129589714868189}\n",
            "39 0.007331787173331605 {'s0': 3.71663074338137, 's1': 7.2296022937009585, 's2': 4.137736145060779}\n",
            "40 0.006598608455997912 {'s0': 3.723962530554701, 's1': 7.23693408087429, 's2': 4.1450679322341095}\n",
            "41 0.005938747610398032 {'s0': 3.7305611390106987, 's1': 7.243532689330287, 's2': 4.151666540690107}\n",
            "42 0.005344872849359028 {'s0': 3.7364998866210968, 's1': 7.249471436940684, 's2': 4.157605288300505}\n",
            "43 0.004810385564422592 {'s0': 3.741844759470454, 's1': 7.254816309790043, 's2': 4.162950161149863}\n",
            "44 0.0043293470079799334 {'s0': 3.7466551450348766, 's1': 7.259626695354465, 's2': 4.167760546714285}\n",
            "45 0.0038964123071822954 {'s0': 3.7509844920428566, 's1': 7.2639560423624445, 's2': 4.172089893722265}\n",
            "46 0.0035067710764642435 {'s0': 3.7548809043500384, 's1': 7.267852454669627, 's2': 4.175986306029447}\n",
            "47 0.0031560939688173306 {'s0': 3.7583876754265026, 's1': 7.271359225746091, 's2': 4.179493077105911}\n",
            "48 0.0028404845719371963 {'s0': 3.76154376939532, 's1': 7.274515319714908, 's2': 4.182649171074728}\n",
            "49 0.002556436114742766 {'s0': 3.7643842539672554, 's1': 7.277355804286845, 's2': 4.1854896556466645}\n",
            "50 0.002300792503268312 {'s0': 3.766940690081998, 's1': 7.279912240401586, 's2': 4.188046091761406}\n",
            "51 0.0020707132529409478 {'s0': 3.769241482585266, 's1': 7.282213032904854, 's2': 4.190346884264674}\n",
            "52 0.0018636419276472083 {'s0': 3.7713121958382065, 's1': 7.284283746157795, 's2': 4.192417597517615}\n",
            "53 0.0016772777348825763 {'s0': 3.7731758377658533, 's1': 7.286147388085443, 's2': 4.194281239445262}\n",
            "54 0.0015095499613941854 {'s0': 3.774853115500736, 's1': 7.287824665820324, 's2': 4.195958517180144}\n",
            "55 0.0013585949652545892 {'s0': 3.7763626654621296, 's1': 7.289334215781718, 's2': 4.197468067141537}\n",
            "56 0.001222735468729752 {'s0': 3.7777212604273838, 's1': 7.290692810746973, 's2': 4.198826662106792}\n",
            "57 0.0011004619218564216 {'s0': 3.778943995896113, 's1': 7.2919155462157015, 's2': 4.200049397575522}\n",
            "58 0.000990415729670957 {'s0': 3.7800444578179695, 's1': 7.293016008137558, 's2': 4.201149859497378}\n"
          ],
          "name": "stdout"
        }
      ]
    },
    {
      "cell_type": "code",
      "metadata": {
        "colab": {
          "base_uri": "https://localhost:8080/",
          "height": 261
        },
        "id": "zBpR8Xjtd42Q",
        "outputId": "98f62c0a-4bdd-43d9-f343-5d79af50e045"
      },
      "source": [
        "if has_graphviz:\n",
        "  from mdp import plot_graph_with_state_values\n",
        "  display(plot_graph_with_state_values(mdp, state_values))"
      ],
      "execution_count": 17,
      "outputs": [
        {
          "output_type": "display_data",
          "data": {
            "text/plain": [
              "<graphviz.dot.Digraph at 0x7fd598ca47d0>"
            ],
            "image/svg+xml": "<?xml version=\"1.0\" encoding=\"UTF-8\" standalone=\"no\"?>\n<!DOCTYPE svg PUBLIC \"-//W3C//DTD SVG 1.1//EN\"\n \"http://www.w3.org/Graphics/SVG/1.1/DTD/svg11.dtd\">\n<!-- Generated by graphviz version 2.40.1 (20161225.0304)\n -->\n<!-- Title: MDP Pages: 1 -->\n<svg width=\"720pt\" height=\"180pt\"\n viewBox=\"0.00 0.00 720.00 180.00\" xmlns=\"http://www.w3.org/2000/svg\" xmlns:xlink=\"http://www.w3.org/1999/xlink\">\n<g id=\"graph0\" class=\"graph\" transform=\"scale(.5807 .5807) rotate(0) translate(4 306)\">\n<title>MDP</title>\n<polygon fill=\"#ffffff\" stroke=\"transparent\" points=\"-4,4 -4,-306 1235.9697,-306 1235.9697,4 -4,4\"/>\n<!-- s0 -->\n<g id=\"node1\" class=\"node\">\n<title>s0</title>\n<ellipse fill=\"#85ff75\" stroke=\"#85ff75\" cx=\"75.4178\" cy=\"-110\" rx=\"71.34\" ry=\"71.34\"/>\n<ellipse fill=\"none\" stroke=\"#85ff75\" cx=\"75.4178\" cy=\"-110\" rx=\"75.3357\" ry=\"75.3357\"/>\n<text text-anchor=\"middle\" x=\"75.4178\" y=\"-116.8\" font-family=\"Arial\" font-size=\"24.00\" fill=\"#000000\">s0</text>\n<text text-anchor=\"middle\" x=\"75.4178\" y=\"-90.8\" font-family=\"Arial\" font-size=\"24.00\" fill=\"#000000\">V =3.78</text>\n</g>\n<!-- s0&#45;a0 -->\n<g id=\"node2\" class=\"node\">\n<title>s0&#45;a0</title>\n<ellipse fill=\"#ffb6c1\" stroke=\"#ffb6c1\" cx=\"264.4127\" cy=\"-154\" rx=\"27.6545\" ry=\"27.6545\"/>\n<text text-anchor=\"middle\" x=\"264.4127\" y=\"-149\" font-family=\"Arial\" font-size=\"20.00\" fill=\"#000000\">a0</text>\n</g>\n<!-- s0&#45;&gt;s0&#45;a0 -->\n<g id=\"edge1\" class=\"edge\">\n<title>s0&#45;&gt;s0&#45;a0</title>\n<path fill=\"none\" stroke=\"#ff0000\" stroke-width=\"2\" d=\"M150.0418,-121.5517C172.3516,-125.6738 196.7464,-130.8498 218.8356,-137 222.1916,-137.9344 225.6494,-139.009 229.0891,-140.1545\"/>\n<polygon fill=\"#ff0000\" stroke=\"#ff0000\" stroke-width=\"2\" points=\"228.0406,-143.4958 238.6354,-143.5124 230.3634,-136.8925 228.0406,-143.4958\"/>\n</g>\n<!-- s0&#45;a1 -->\n<g id=\"node4\" class=\"node\">\n<title>s0&#45;a1</title>\n<ellipse fill=\"#ffb6c1\" stroke=\"#ffb6c1\" cx=\"264.4127\" cy=\"-227\" rx=\"27.6545\" ry=\"27.6545\"/>\n<text text-anchor=\"middle\" x=\"264.4127\" y=\"-222\" font-family=\"Arial\" font-size=\"20.00\" fill=\"#000000\">a1</text>\n</g>\n<!-- s0&#45;&gt;s0&#45;a1 -->\n<g id=\"edge4\" class=\"edge\">\n<title>s0&#45;&gt;s0&#45;a1</title>\n<path fill=\"none\" stroke=\"#ff0000\" stroke-width=\"2\" d=\"M139.6666,-149.7741C170.7367,-169.0085 206.684,-191.2622 231.9855,-206.9255\"/>\n<polygon fill=\"#ff0000\" stroke=\"#ff0000\" stroke-width=\"2\" points=\"230.4518,-210.0924 240.7967,-212.3802 234.1364,-204.1406 230.4518,-210.0924\"/>\n</g>\n<!-- s0&#45;a0&#45;&gt;s0 -->\n<g id=\"edge2\" class=\"edge\">\n<title>s0&#45;a0&#45;&gt;s0</title>\n<path fill=\"none\" stroke=\"#0000ff\" stroke-dasharray=\"5,2\" d=\"M237.1503,-148.6361C217.9906,-144.7832 191.7853,-139.3463 168.8356,-134 165.4299,-133.2066 161.9583,-132.383 158.4541,-131.5393\"/>\n<polygon fill=\"#0000ff\" stroke=\"#0000ff\" points=\"159.0645,-128.0857 148.52,-129.117 157.4062,-134.8864 159.0645,-128.0857\"/>\n<text text-anchor=\"middle\" x=\"193.8356\" y=\"-150.2\" font-family=\"Arial\" font-size=\"16.00\" fill=\"#000000\">p = 0.5</text>\n</g>\n<!-- s2 -->\n<g id=\"node3\" class=\"node\">\n<title>s2</title>\n<ellipse fill=\"#85ff75\" stroke=\"#85ff75\" cx=\"539.4077\" cy=\"-201\" rx=\"71.34\" ry=\"71.34\"/>\n<ellipse fill=\"none\" stroke=\"#85ff75\" cx=\"539.4077\" cy=\"-201\" rx=\"75.3357\" ry=\"75.3357\"/>\n<text text-anchor=\"middle\" x=\"539.4077\" y=\"-207.8\" font-family=\"Arial\" font-size=\"24.00\" fill=\"#000000\">s2</text>\n<text text-anchor=\"middle\" x=\"539.4077\" y=\"-181.8\" font-family=\"Arial\" font-size=\"24.00\" fill=\"#000000\">V =4.20</text>\n</g>\n<!-- s0&#45;a0&#45;&gt;s2 -->\n<g id=\"edge3\" class=\"edge\">\n<title>s0&#45;a0&#45;&gt;s2</title>\n<path fill=\"none\" stroke=\"#0000ff\" stroke-dasharray=\"5,2\" d=\"M291.7857,-158.6784C329.5283,-165.129 399.2192,-177.0401 455.0746,-186.5864\"/>\n<polygon fill=\"#0000ff\" stroke=\"#0000ff\" points=\"454.5292,-190.0439 464.9759,-188.2787 455.7085,-183.144 454.5292,-190.0439\"/>\n<text text-anchor=\"middle\" x=\"377.9899\" y=\"-190.2\" font-family=\"Arial\" font-size=\"16.00\" fill=\"#000000\">p = 0.5</text>\n</g>\n<!-- s2&#45;a0 -->\n<g id=\"node8\" class=\"node\">\n<title>s2&#45;a0</title>\n<ellipse fill=\"#ffb6c1\" stroke=\"#ffb6c1\" cx=\"808.4026\" cy=\"-162\" rx=\"27.6545\" ry=\"27.6545\"/>\n<text text-anchor=\"middle\" x=\"808.4026\" y=\"-157\" font-family=\"Arial\" font-size=\"20.00\" fill=\"#000000\">a0</text>\n</g>\n<!-- s2&#45;&gt;s2&#45;a0 -->\n<g id=\"edge13\" class=\"edge\">\n<title>s2&#45;&gt;s2&#45;a0</title>\n<path fill=\"none\" stroke=\"#ff0000\" stroke-width=\"2\" d=\"M614.8219,-199.9637C658.5781,-197.9516 714.4325,-192.9516 762.8255,-181 766.451,-180.1046 770.1625,-178.9638 773.8255,-177.6869\"/>\n<polygon fill=\"#ff0000\" stroke=\"#ff0000\" stroke-width=\"2\" points=\"775.222,-180.9003 783.3168,-174.0647 772.7261,-174.3603 775.222,-180.9003\"/>\n</g>\n<!-- s2&#45;a1 -->\n<g id=\"node9\" class=\"node\">\n<title>s2&#45;a1</title>\n<ellipse fill=\"#ffb6c1\" stroke=\"#ffb6c1\" cx=\"808.4026\" cy=\"-80\" rx=\"27.6545\" ry=\"27.6545\"/>\n<text text-anchor=\"middle\" x=\"808.4026\" y=\"-75\" font-family=\"Arial\" font-size=\"20.00\" fill=\"#000000\">a1</text>\n</g>\n<!-- s2&#45;&gt;s2&#45;a1 -->\n<g id=\"edge16\" class=\"edge\">\n<title>s2&#45;&gt;s2&#45;a1</title>\n<path fill=\"none\" stroke=\"#ff0000\" stroke-width=\"2\" d=\"M604.9248,-163.0956C614.1915,-158.1569 623.678,-153.3197 632.8255,-149 680.0632,-126.6928 736.597,-105.3969 772.5049,-92.5119\"/>\n<polygon fill=\"#ff0000\" stroke=\"#ff0000\" stroke-width=\"2\" points=\"773.8159,-95.7604 782.0609,-89.1069 771.4662,-89.1665 773.8159,-95.7604\"/>\n</g>\n<!-- s0&#45;a1&#45;&gt;s2 -->\n<g id=\"edge5\" class=\"edge\">\n<title>s0&#45;a1&#45;&gt;s2</title>\n<path fill=\"none\" stroke=\"#0000ff\" stroke-dasharray=\"5,2\" d=\"M292.0394,-224.388C329.608,-220.836 398.4925,-214.3231 454.0473,-209.0706\"/>\n<polygon fill=\"#0000ff\" stroke=\"#0000ff\" points=\"454.6288,-212.5313 464.2549,-208.1055 453.9698,-205.5624 454.6288,-212.5313\"/>\n<text text-anchor=\"middle\" x=\"377.9899\" y=\"-227.2\" font-family=\"Arial\" font-size=\"16.00\" fill=\"#000000\">p = 1</text>\n</g>\n<!-- s1 -->\n<g id=\"node5\" class=\"node\">\n<title>s1</title>\n<ellipse fill=\"#85ff75\" stroke=\"#85ff75\" cx=\"1006.3976\" cy=\"-110\" rx=\"71.34\" ry=\"71.34\"/>\n<ellipse fill=\"none\" stroke=\"#85ff75\" cx=\"1006.3976\" cy=\"-110\" rx=\"75.3357\" ry=\"75.3357\"/>\n<text text-anchor=\"middle\" x=\"1006.3976\" y=\"-116.8\" font-family=\"Arial\" font-size=\"24.00\" fill=\"#000000\">s1</text>\n<text text-anchor=\"middle\" x=\"1006.3976\" y=\"-90.8\" font-family=\"Arial\" font-size=\"24.00\" fill=\"#000000\">V =7.29</text>\n</g>\n<!-- s1&#45;a0 -->\n<g id=\"node6\" class=\"node\">\n<title>s1&#45;a0</title>\n<ellipse fill=\"#ffb6c1\" stroke=\"#ffb6c1\" cx=\"1204.3925\" cy=\"-86\" rx=\"27.6545\" ry=\"27.6545\"/>\n<text text-anchor=\"middle\" x=\"1204.3925\" y=\"-81\" font-family=\"Arial\" font-size=\"20.00\" fill=\"#000000\">a0</text>\n</g>\n<!-- s1&#45;&gt;s1&#45;a0 -->\n<g id=\"edge6\" class=\"edge\">\n<title>s1&#45;&gt;s1&#45;a0</title>\n<path fill=\"none\" stroke=\"#ff0000\" stroke-width=\"2\" d=\"M1081.8245,-104.9414C1106.4481,-102.792 1133.8691,-99.867 1158.8154,-96 1161.6673,-95.5579 1164.608,-95.0452 1167.5577,-94.4901\"/>\n<polygon fill=\"#ff0000\" stroke=\"#ff0000\" stroke-width=\"2\" points=\"1168.3959,-97.8916 1177.5047,-92.4805 1167.0096,-91.0302 1168.3959,-97.8916\"/>\n</g>\n<!-- s1&#45;a1 -->\n<g id=\"node7\" class=\"node\">\n<title>s1&#45;a1</title>\n<ellipse fill=\"#ffb6c1\" stroke=\"#ffb6c1\" cx=\"1204.3925\" cy=\"-168\" rx=\"27.6545\" ry=\"27.6545\"/>\n<text text-anchor=\"middle\" x=\"1204.3925\" y=\"-163\" font-family=\"Arial\" font-size=\"20.00\" fill=\"#000000\">a1</text>\n</g>\n<!-- s1&#45;&gt;s1&#45;a1 -->\n<g id=\"edge10\" class=\"edge\">\n<title>s1&#45;&gt;s1&#45;a1</title>\n<path fill=\"none\" stroke=\"#ff0000\" stroke-width=\"2\" d=\"M1080.285,-126.6245C1105.4323,-132.8839 1133.5592,-140.5536 1158.8154,-149 1162.3571,-150.1844 1166.0131,-151.5159 1169.6422,-152.9102\"/>\n<polygon fill=\"#ff0000\" stroke=\"#ff0000\" stroke-width=\"2\" points=\"1168.5033,-156.2242 1179.0879,-156.6893 1171.1036,-149.7251 1168.5033,-156.2242\"/>\n</g>\n<!-- s1&#45;a0&#45;&gt;s0 -->\n<g id=\"edge7\" class=\"edge\">\n<title>s1&#45;a0&#45;&gt;s0</title>\n<path fill=\"none\" stroke=\"#0000ff\" stroke-dasharray=\"5,2\" d=\"M1182.2939,-69.2142C1147.0785,-44.1866 1075.1673,0 1006.3976,0 264.4127,0 264.4127,0 264.4127,0 218.0189,0 172.8518,-25.0656 138.3119,-51.2663\"/>\n<polygon fill=\"#0000ff\" stroke=\"#0000ff\" points=\"135.9504,-48.6693 130.2146,-57.5773 140.2535,-54.1905 135.9504,-48.6693\"/>\n<text text-anchor=\"middle\" x=\"697.8255\" y=\"-5.2\" font-family=\"Arial\" font-size=\"16.00\" fill=\"#000000\">p = 0.7 &#160;reward =5</text>\n</g>\n<!-- s1&#45;a0&#45;&gt;s2 -->\n<g id=\"edge9\" class=\"edge\">\n<title>s1&#45;a0&#45;&gt;s2</title>\n<path fill=\"none\" stroke=\"#0000ff\" stroke-dasharray=\"5,2\" d=\"M1188.831,-109.2984C1184.6252,-116.1282 1180.283,-123.7204 1176.8154,-131 1166.4783,-152.7008 1177.307,-166.643 1158.8154,-182 1132.1704,-204.1281 1116.3061,-190.8386 1081.8154,-194 921.0073,-208.7395 732.2763,-206.8744 625.1716,-204.0356\"/>\n<polygon fill=\"#0000ff\" stroke=\"#0000ff\" points=\"625.1574,-200.534 615.0651,-203.7584 624.9653,-207.5314 625.1574,-200.534\"/>\n<text text-anchor=\"middle\" x=\"883.4798\" y=\"-210.2\" font-family=\"Arial\" font-size=\"16.00\" fill=\"#000000\">p = 0.2</text>\n</g>\n<!-- s1&#45;a0&#45;&gt;s1 -->\n<g id=\"edge8\" class=\"edge\">\n<title>s1&#45;a0&#45;&gt;s1</title>\n<path fill=\"none\" stroke=\"#0000ff\" stroke-dasharray=\"5,2\" d=\"M1177.6279,-77.7289C1171.5049,-76.1802 1164.9825,-74.7983 1158.8154,-74 1132.8101,-70.6339 1125.5954,-69.2045 1099.8154,-74 1095.0975,-74.8776 1090.3107,-75.9846 1085.5247,-77.2614\"/>\n<polygon fill=\"#0000ff\" stroke=\"#0000ff\" points=\"1084.3549,-73.9563 1075.7243,-80.1014 1086.3033,-80.6797 1084.3549,-73.9563\"/>\n<text text-anchor=\"middle\" x=\"1129.3154\" y=\"-79.2\" font-family=\"Arial\" font-size=\"16.00\" fill=\"#000000\">p = 0.1</text>\n</g>\n<!-- s1&#45;a1&#45;&gt;s2 -->\n<g id=\"edge12\" class=\"edge\">\n<title>s1&#45;a1&#45;&gt;s2</title>\n<path fill=\"none\" stroke=\"#0000ff\" stroke-dasharray=\"5,2\" d=\"M1193.8963,-193.6607C1186.4396,-208.2806 1174.8815,-225.3606 1158.8154,-234 985.6698,-327.1078 744.4831,-270.642 620.3459,-230.5798\"/>\n<polygon fill=\"#0000ff\" stroke=\"#0000ff\" points=\"621.1143,-227.1487 610.5217,-227.3644 618.9369,-233.8014 621.1143,-227.1487\"/>\n<text text-anchor=\"middle\" x=\"883.4798\" y=\"-289.2\" font-family=\"Arial\" font-size=\"16.00\" fill=\"#000000\">p = 0.05</text>\n</g>\n<!-- s1&#45;a1&#45;&gt;s1 -->\n<g id=\"edge11\" class=\"edge\">\n<title>s1&#45;a1&#45;&gt;s1</title>\n<path fill=\"none\" stroke=\"#0000ff\" stroke-dasharray=\"5,2\" d=\"M1177.0095,-163.4822C1155.7364,-159.675 1125.6126,-153.6305 1099.8154,-146 1095.2632,-144.6535 1090.6189,-143.1846 1085.9542,-141.6346\"/>\n<polygon fill=\"#0000ff\" stroke=\"#0000ff\" points=\"1086.9678,-138.2822 1076.3732,-138.3526 1084.6993,-144.9045 1086.9678,-138.2822\"/>\n<text text-anchor=\"middle\" x=\"1129.3154\" y=\"-165.2\" font-family=\"Arial\" font-size=\"16.00\" fill=\"#000000\">p = 0.95</text>\n</g>\n<!-- s2&#45;a0&#45;&gt;s0 -->\n<g id=\"edge14\" class=\"edge\">\n<title>s2&#45;a0&#45;&gt;s0</title>\n<path fill=\"none\" stroke=\"#0000ff\" stroke-dasharray=\"5,2\" d=\"M781.8131,-153.7554C744.8155,-142.7605 675.5071,-123.8837 614.8255,-117 455.2597,-98.8988 267.4528,-101.9055 160.8228,-105.8648\"/>\n<polygon fill=\"#0000ff\" stroke=\"#0000ff\" points=\"160.6195,-102.3699 150.7608,-106.2503 160.8875,-109.3648 160.6195,-102.3699\"/>\n<text text-anchor=\"middle\" x=\"377.9899\" y=\"-110.2\" font-family=\"Arial\" font-size=\"16.00\" fill=\"#000000\">p = 0.4</text>\n</g>\n<!-- s2&#45;a0&#45;&gt;s2 -->\n<g id=\"edge15\" class=\"edge\">\n<title>s2&#45;a0&#45;&gt;s2</title>\n<path fill=\"none\" stroke=\"#0000ff\" stroke-dasharray=\"5,2\" d=\"M780.9615,-157.7311C746.0889,-153.1684 684.2457,-147.9725 632.8255,-159 627.3921,-160.1652 621.8932,-161.6718 616.4257,-163.4191\"/>\n<polygon fill=\"#0000ff\" stroke=\"#0000ff\" points=\"614.9468,-160.227 606.6392,-166.8023 617.234,-166.8429 614.9468,-160.227\"/>\n<text text-anchor=\"middle\" x=\"697.8255\" y=\"-164.2\" font-family=\"Arial\" font-size=\"16.00\" fill=\"#000000\">p = 0.6</text>\n</g>\n<!-- s2&#45;a1&#45;&gt;s0 -->\n<g id=\"edge17\" class=\"edge\">\n<title>s2&#45;a1&#45;&gt;s0</title>\n<path fill=\"none\" stroke=\"#0000ff\" stroke-dasharray=\"5,2\" d=\"M784.6101,-65.3779C777.8173,-61.9398 770.2406,-58.765 762.8255,-57 706.618,-43.6213 690.6032,-56.9105 632.8255,-57 489.3425,-57.2222 452.858,-44.7288 309.9899,-58 246.4727,-63.9002 230.9925,-69.6559 168.8356,-84 165.2191,-84.8346 161.5326,-85.7183 157.8151,-86.6364\"/>\n<polygon fill=\"#0000ff\" stroke=\"#0000ff\" points=\"156.7651,-83.2917 147.9287,-89.1371 158.4817,-90.0779 156.7651,-83.2917\"/>\n<text text-anchor=\"middle\" x=\"377.9899\" y=\"-63.2\" font-family=\"Arial\" font-size=\"16.00\" fill=\"#000000\">p = 0.3 &#160;reward =&#45;1</text>\n</g>\n<!-- s2&#45;a1&#45;&gt;s2 -->\n<g id=\"edge19\" class=\"edge\">\n<title>s2&#45;a1&#45;&gt;s2</title>\n<path fill=\"none\" stroke=\"#0000ff\" stroke-dasharray=\"5,2\" d=\"M782.0304,-71.8505C746.1437,-62.3444 680.8994,-50.7969 632.8255,-75 619.9871,-81.4635 601.8515,-104.0224 584.9706,-128.3031\"/>\n<polygon fill=\"#0000ff\" stroke=\"#0000ff\" points=\"582.0636,-126.3536 579.3034,-136.5826 587.84,-130.3075 582.0636,-126.3536\"/>\n<text text-anchor=\"middle\" x=\"697.8255\" y=\"-80.2\" font-family=\"Arial\" font-size=\"16.00\" fill=\"#000000\">p = 0.4</text>\n</g>\n<!-- s2&#45;a1&#45;&gt;s1 -->\n<g id=\"edge18\" class=\"edge\">\n<title>s2&#45;a1&#45;&gt;s1</title>\n<path fill=\"none\" stroke=\"#0000ff\" stroke-dasharray=\"5,2\" d=\"M835.933,-84.1714C858.2731,-87.5563 891.0101,-92.5166 921.8382,-97.1876\"/>\n<polygon fill=\"#0000ff\" stroke=\"#0000ff\" points=\"921.3531,-100.654 931.7646,-98.6917 922.4018,-93.733 921.3531,-100.654\"/>\n<text text-anchor=\"middle\" x=\"883.4798\" y=\"-100.2\" font-family=\"Arial\" font-size=\"16.00\" fill=\"#000000\">p = 0.3</text>\n</g>\n</g>\n</svg>\n"
          },
          "metadata": {
            "tags": []
          }
        }
      ]
    },
    {
      "cell_type": "code",
      "metadata": {
        "id": "-4_mvxtXd44y"
      },
      "source": [
        "def get_optimal_action(mdp, state_values, state, gamma):\n",
        "    if mdp.is_terminal(state):\n",
        "        return None\n",
        "    \n",
        "    action_values = [get_action_value(mdp, state_values, state, action, gamma) for action in mdp.get_possible_actions(state)]\n",
        "    argmax_index = np.argmax(action_values)\n",
        "    return mdp.get_possible_actions(state)[argmax_index]"
      ],
      "execution_count": 18,
      "outputs": []
    },
    {
      "cell_type": "code",
      "metadata": {
        "colab": {
          "base_uri": "https://localhost:8080/",
          "height": 281
        },
        "id": "n94Asimod9ZN",
        "outputId": "3d22c064-62c6-48c1-983c-67d001a76d53"
      },
      "source": [
        "if has_graphviz:\n",
        "    from mdp import plot_graph_optimal_strategy_and_state_values\n",
        "    display(plot_graph_optimal_strategy_and_state_values(mdp, state_values, get_action_value))"
      ],
      "execution_count": 19,
      "outputs": [
        {
          "output_type": "display_data",
          "data": {
            "text/plain": [
              "<graphviz.dot.Digraph at 0x7fd598c9b9d0>"
            ],
            "image/svg+xml": "<?xml version=\"1.0\" encoding=\"UTF-8\" standalone=\"no\"?>\n<!DOCTYPE svg PUBLIC \"-//W3C//DTD SVG 1.1//EN\"\n \"http://www.w3.org/Graphics/SVG/1.1/DTD/svg11.dtd\">\n<!-- Generated by graphviz version 2.40.1 (20161225.0304)\n -->\n<!-- Title: MDP Pages: 1 -->\n<svg width=\"720pt\" height=\"195pt\"\n viewBox=\"0.00 0.00 720.00 195.10\" xmlns=\"http://www.w3.org/2000/svg\" xmlns:xlink=\"http://www.w3.org/1999/xlink\">\n<g id=\"graph0\" class=\"graph\" transform=\"scale(.5807 .5807) rotate(0) translate(4 332)\">\n<title>MDP</title>\n<polygon fill=\"#ffffff\" stroke=\"transparent\" points=\"-4,4 -4,-332 1235.9697,-332 1235.9697,4 -4,4\"/>\n<!-- s0 -->\n<g id=\"node1\" class=\"node\">\n<title>s0</title>\n<ellipse fill=\"#85ff75\" stroke=\"#85ff75\" cx=\"75.4178\" cy=\"-129\" rx=\"71.34\" ry=\"71.34\"/>\n<ellipse fill=\"none\" stroke=\"#85ff75\" cx=\"75.4178\" cy=\"-129\" rx=\"75.3357\" ry=\"75.3357\"/>\n<text text-anchor=\"middle\" x=\"75.4178\" y=\"-135.8\" font-family=\"Arial\" font-size=\"24.00\" fill=\"#000000\">s0</text>\n<text text-anchor=\"middle\" x=\"75.4178\" y=\"-109.8\" font-family=\"Arial\" font-size=\"24.00\" fill=\"#000000\">V =3.78</text>\n</g>\n<!-- s0&#45;a0 -->\n<g id=\"node2\" class=\"node\">\n<title>s0&#45;a0</title>\n<ellipse fill=\"#ffb6c1\" stroke=\"#ffb6c1\" cx=\"264.4127\" cy=\"-160\" rx=\"27.6545\" ry=\"27.6545\"/>\n<text text-anchor=\"middle\" x=\"264.4127\" y=\"-155\" font-family=\"Arial\" font-size=\"20.00\" fill=\"#000000\">a0</text>\n</g>\n<!-- s0&#45;&gt;s0&#45;a0 -->\n<g id=\"edge1\" class=\"edge\">\n<title>s0&#45;&gt;s0&#45;a0</title>\n<path fill=\"none\" stroke=\"#ff0000\" stroke-width=\"2\" d=\"M150.82,-132.6638C172.9292,-134.7295 197.0203,-137.9574 218.8356,-143 222.2297,-143.7846 225.7134,-144.7577 229.1697,-145.8382\"/>\n<polygon fill=\"#ff0000\" stroke=\"#ff0000\" stroke-width=\"2\" points=\"228.1459,-149.1869 238.7404,-149.1004 230.4043,-142.5612 228.1459,-149.1869\"/>\n</g>\n<!-- s0&#45;a1 -->\n<g id=\"node4\" class=\"node\">\n<title>s0&#45;a1</title>\n<ellipse fill=\"#ffb6c1\" stroke=\"#ffb6c1\" cx=\"264.4127\" cy=\"-233\" rx=\"27.6545\" ry=\"27.6545\"/>\n<text text-anchor=\"middle\" x=\"264.4127\" y=\"-228\" font-family=\"Arial\" font-size=\"20.00\" fill=\"#000000\">a1</text>\n</g>\n<!-- s0&#45;&gt;s0&#45;a1 -->\n<g id=\"edge4\" class=\"edge\">\n<title>s0&#45;&gt;s0&#45;a1</title>\n<path fill=\"none\" stroke=\"#ff0000\" stroke-width=\"2\" d=\"M144.1839,-160.3181C174.8806,-176.6544 209.4986,-196.1656 233.6776,-210.9495\"/>\n<polygon fill=\"#ff0000\" stroke=\"#ff0000\" stroke-width=\"2\" points=\"232.0615,-214.0659 242.4033,-216.3676 235.7541,-208.119 232.0615,-214.0659\"/>\n</g>\n<!-- s0&#45;&gt;s0&#45;a1 -->\n<g id=\"edge20\" class=\"edge\">\n<title>s0&#45;&gt;s0&#45;a1</title>\n<path fill=\"none\" stroke=\"#00ff00\" stroke-width=\"6\" d=\"M138.6131,-170.1846C168.6814,-187.4079 203.5164,-206.2437 228.8952,-218.8652\"/>\n<polygon fill=\"#00ff00\" stroke=\"#00ff00\" stroke-width=\"6\" points=\"226.8393,-223.704 238.1291,-223.382 231.453,-214.2719 226.8393,-223.704\"/>\n</g>\n<!-- s0&#45;a0&#45;&gt;s0 -->\n<g id=\"edge2\" class=\"edge\">\n<title>s0&#45;a0&#45;&gt;s0</title>\n<path fill=\"none\" stroke=\"#0000ff\" stroke-dasharray=\"5,2\" d=\"M236.77,-155.4659C216.4311,-152.1298 187.6218,-147.4043 159.9627,-142.8675\"/>\n<polygon fill=\"#0000ff\" stroke=\"#0000ff\" points=\"160.277,-139.3724 149.8423,-141.2075 159.1439,-146.2801 160.277,-139.3724\"/>\n<text text-anchor=\"middle\" x=\"193.8356\" y=\"-158.2\" font-family=\"Arial\" font-size=\"16.00\" fill=\"#000000\">p = 0.5</text>\n</g>\n<!-- s2 -->\n<g id=\"node3\" class=\"node\">\n<title>s2</title>\n<ellipse fill=\"#85ff75\" stroke=\"#85ff75\" cx=\"539.4077\" cy=\"-207\" rx=\"71.34\" ry=\"71.34\"/>\n<ellipse fill=\"none\" stroke=\"#85ff75\" cx=\"539.4077\" cy=\"-207\" rx=\"75.3357\" ry=\"75.3357\"/>\n<text text-anchor=\"middle\" x=\"539.4077\" y=\"-213.8\" font-family=\"Arial\" font-size=\"24.00\" fill=\"#000000\">s2</text>\n<text text-anchor=\"middle\" x=\"539.4077\" y=\"-187.8\" font-family=\"Arial\" font-size=\"24.00\" fill=\"#000000\">V =4.20</text>\n</g>\n<!-- s0&#45;a0&#45;&gt;s2 -->\n<g id=\"edge3\" class=\"edge\">\n<title>s0&#45;a0&#45;&gt;s2</title>\n<path fill=\"none\" stroke=\"#0000ff\" stroke-dasharray=\"5,2\" d=\"M291.7857,-164.6784C329.5283,-171.129 399.2192,-183.0401 455.0746,-192.5864\"/>\n<polygon fill=\"#0000ff\" stroke=\"#0000ff\" points=\"454.5292,-196.0439 464.9759,-194.2787 455.7085,-189.144 454.5292,-196.0439\"/>\n<text text-anchor=\"middle\" x=\"377.9899\" y=\"-196.2\" font-family=\"Arial\" font-size=\"16.00\" fill=\"#000000\">p = 0.5</text>\n</g>\n<!-- s2&#45;a0 -->\n<g id=\"node8\" class=\"node\">\n<title>s2&#45;a0</title>\n<ellipse fill=\"#ffb6c1\" stroke=\"#ffb6c1\" cx=\"808.4026\" cy=\"-181\" rx=\"27.6545\" ry=\"27.6545\"/>\n<text text-anchor=\"middle\" x=\"808.4026\" y=\"-176\" font-family=\"Arial\" font-size=\"20.00\" fill=\"#000000\">a0</text>\n</g>\n<!-- s2&#45;&gt;s2&#45;a0 -->\n<g id=\"edge13\" class=\"edge\">\n<title>s2&#45;&gt;s2&#45;a0</title>\n<path fill=\"none\" stroke=\"#ff0000\" stroke-width=\"2\" d=\"M614.9001,-210.6232C658.559,-211.1522 714.2902,-209.1402 762.8255,-199 766.4532,-198.2421 770.166,-197.2209 773.83,-196.048\"/>\n<polygon fill=\"#ff0000\" stroke=\"#ff0000\" stroke-width=\"2\" points=\"775.0775,-199.3191 783.3224,-192.6654 772.7278,-192.7252 775.0775,-199.3191\"/>\n</g>\n<!-- s2&#45;a1 -->\n<g id=\"node9\" class=\"node\">\n<title>s2&#45;a1</title>\n<ellipse fill=\"#ffb6c1\" stroke=\"#ffb6c1\" cx=\"808.4026\" cy=\"-108\" rx=\"27.6545\" ry=\"27.6545\"/>\n<text text-anchor=\"middle\" x=\"808.4026\" y=\"-103\" font-family=\"Arial\" font-size=\"20.00\" fill=\"#000000\">a1</text>\n</g>\n<!-- s2&#45;&gt;s2&#45;a1 -->\n<g id=\"edge16\" class=\"edge\">\n<title>s2&#45;&gt;s2&#45;a1</title>\n<path fill=\"none\" stroke=\"#ff0000\" stroke-width=\"2\" d=\"M605.5834,-170.6707C614.7064,-166.952 623.978,-163.3338 632.8255,-160 680.0976,-142.1874 735.2112,-123.3493 770.8988,-113.4589\"/>\n<polygon fill=\"#ff0000\" stroke=\"#ff0000\" stroke-width=\"2\" points=\"772.1115,-116.758 780.8731,-110.8012 770.3091,-109.994 772.1115,-116.758\"/>\n</g>\n<!-- s2&#45;&gt;s2&#45;a1 -->\n<g id=\"edge22\" class=\"edge\">\n<title>s2&#45;&gt;s2&#45;a1</title>\n<path fill=\"none\" stroke=\"#00ff00\" stroke-width=\"6\" d=\"M611.9356,-186.03C618.9761,-183.2921 626.026,-180.5621 632.8255,-178 681.9566,-159.4869 739.5581,-139.8661 775.0173,-125.7132\"/>\n<polygon fill=\"#00ff00\" stroke=\"#00ff00\" stroke-width=\"6\" points=\"777.1388,-130.5177 784.406,-121.8718 773.1626,-120.7996 777.1388,-130.5177\"/>\n</g>\n<!-- s0&#45;a1&#45;&gt;s2 -->\n<g id=\"edge5\" class=\"edge\">\n<title>s0&#45;a1&#45;&gt;s2</title>\n<path fill=\"none\" stroke=\"#0000ff\" stroke-dasharray=\"5,2\" d=\"M292.0394,-230.388C329.608,-226.836 398.4925,-220.3231 454.0473,-215.0706\"/>\n<polygon fill=\"#0000ff\" stroke=\"#0000ff\" points=\"454.6288,-218.5313 464.2549,-214.1055 453.9698,-211.5624 454.6288,-218.5313\"/>\n<text text-anchor=\"middle\" x=\"377.9899\" y=\"-233.2\" font-family=\"Arial\" font-size=\"16.00\" fill=\"#000000\">p = 1</text>\n</g>\n<!-- s1 -->\n<g id=\"node5\" class=\"node\">\n<title>s1</title>\n<ellipse fill=\"#85ff75\" stroke=\"#85ff75\" cx=\"1006.3976\" cy=\"-127\" rx=\"71.34\" ry=\"71.34\"/>\n<ellipse fill=\"none\" stroke=\"#85ff75\" cx=\"1006.3976\" cy=\"-127\" rx=\"75.3357\" ry=\"75.3357\"/>\n<text text-anchor=\"middle\" x=\"1006.3976\" y=\"-133.8\" font-family=\"Arial\" font-size=\"24.00\" fill=\"#000000\">s1</text>\n<text text-anchor=\"middle\" x=\"1006.3976\" y=\"-107.8\" font-family=\"Arial\" font-size=\"24.00\" fill=\"#000000\">V =7.29</text>\n</g>\n<!-- s1&#45;a0 -->\n<g id=\"node6\" class=\"node\">\n<title>s1&#45;a0</title>\n<ellipse fill=\"#ffb6c1\" stroke=\"#ffb6c1\" cx=\"1204.3925\" cy=\"-126\" rx=\"27.6545\" ry=\"27.6545\"/>\n<text text-anchor=\"middle\" x=\"1204.3925\" y=\"-121\" font-family=\"Arial\" font-size=\"20.00\" fill=\"#000000\">a0</text>\n</g>\n<!-- s1&#45;&gt;s1&#45;a0 -->\n<g id=\"edge6\" class=\"edge\">\n<title>s1&#45;&gt;s1&#45;a0</title>\n<path fill=\"none\" stroke=\"#ff0000\" stroke-width=\"2\" d=\"M1081.5333,-120.0479C1110.6936,-119.4593 1142.791,-119.6794 1166.8638,-120.7636\"/>\n<polygon fill=\"#ff0000\" stroke=\"#ff0000\" stroke-width=\"2\" points=\"1166.8164,-124.266 1176.9881,-121.3019 1167.1881,-117.2758 1166.8164,-124.266\"/>\n</g>\n<!-- s1&#45;&gt;s1&#45;a0 -->\n<g id=\"edge21\" class=\"edge\">\n<title>s1&#45;&gt;s1&#45;a0</title>\n<path fill=\"none\" stroke=\"#00ff00\" stroke-width=\"6\" d=\"M1081.8158,-133.196C1110.9459,-133.4841 1142.968,-132.9369 1166.9755,-131.6093\"/>\n<polygon fill=\"#00ff00\" stroke=\"#00ff00\" stroke-width=\"6\" points=\"1167.4242,-136.8415 1177.0717,-130.9688 1166.7593,-126.3625 1167.4242,-136.8415\"/>\n</g>\n<!-- s1&#45;a1 -->\n<g id=\"node7\" class=\"node\">\n<title>s1&#45;a1</title>\n<ellipse fill=\"#ffb6c1\" stroke=\"#ffb6c1\" cx=\"1204.3925\" cy=\"-199\" rx=\"27.6545\" ry=\"27.6545\"/>\n<text text-anchor=\"middle\" x=\"1204.3925\" y=\"-194\" font-family=\"Arial\" font-size=\"20.00\" fill=\"#000000\">a1</text>\n</g>\n<!-- s1&#45;&gt;s1&#45;a1 -->\n<g id=\"edge10\" class=\"edge\">\n<title>s1&#45;&gt;s1&#45;a1</title>\n<path fill=\"none\" stroke=\"#ff0000\" stroke-width=\"2\" d=\"M1078.7002,-149.4071C1104.2325,-157.7887 1133.0046,-167.7707 1158.8154,-178 1162.536,-179.4746 1166.3889,-181.0961 1170.2069,-182.7644\"/>\n<polygon fill=\"#ff0000\" stroke=\"#ff0000\" stroke-width=\"2\" points=\"1168.9737,-186.0473 1179.53,-186.9507 1171.8411,-179.6615 1168.9737,-186.0473\"/>\n</g>\n<!-- s1&#45;a0&#45;&gt;s0 -->\n<g id=\"edge7\" class=\"edge\">\n<title>s1&#45;a0&#45;&gt;s0</title>\n<path fill=\"none\" stroke=\"#0000ff\" stroke-dasharray=\"5,2\" d=\"M1186.6295,-104.6258C1154.6247,-68.6775 1083.4043,0 1006.3976,0 264.4127,0 264.4127,0 264.4127,0 213.8145,0 166.7816,-31.9319 132.2912,-64.0217\"/>\n<polygon fill=\"#0000ff\" stroke=\"#0000ff\" points=\"129.4957,-61.852 124.6848,-71.2915 134.3323,-66.9124 129.4957,-61.852\"/>\n<text text-anchor=\"middle\" x=\"697.8255\" y=\"-5.2\" font-family=\"Arial\" font-size=\"16.00\" fill=\"#000000\">p = 0.7 &#160;reward =5</text>\n</g>\n<!-- s1&#45;a0&#45;&gt;s2 -->\n<g id=\"edge9\" class=\"edge\">\n<title>s1&#45;a0&#45;&gt;s2</title>\n<path fill=\"none\" stroke=\"#0000ff\" stroke-dasharray=\"5,2\" d=\"M1186.2939,-147.3217C1182.8566,-151.9759 1179.5005,-157.0077 1176.8154,-162 1165.2308,-183.5388 1178.6492,-199.6911 1158.8154,-214 1075.7438,-273.9311 773.3181,-240.7927 623.9949,-219.9111\"/>\n<polygon fill=\"#0000ff\" stroke=\"#0000ff\" points=\"624.3401,-216.4252 613.9489,-218.4924 623.3612,-223.3564 624.3401,-216.4252\"/>\n<text text-anchor=\"middle\" x=\"883.4798\" y=\"-252.2\" font-family=\"Arial\" font-size=\"16.00\" fill=\"#000000\">p = 0.2</text>\n</g>\n<!-- s1&#45;a0&#45;&gt;s1 -->\n<g id=\"edge8\" class=\"edge\">\n<title>s1&#45;a0&#45;&gt;s1</title>\n<path fill=\"none\" stroke=\"#0000ff\" stroke-dasharray=\"5,2\" d=\"M1179.9971,-112.4222C1173.3281,-109.3675 1165.9638,-106.5676 1158.8154,-105 1136.2942,-100.0611 1111.6499,-100.9463 1088.8687,-104.2922\"/>\n<polygon fill=\"#0000ff\" stroke=\"#0000ff\" points=\"1088.1923,-100.8562 1078.8904,-105.9283 1089.325,-107.764 1088.1923,-100.8562\"/>\n<text text-anchor=\"middle\" x=\"1129.3154\" y=\"-110.2\" font-family=\"Arial\" font-size=\"16.00\" fill=\"#000000\">p = 0.1</text>\n</g>\n<!-- s1&#45;a1&#45;&gt;s2 -->\n<g id=\"edge12\" class=\"edge\">\n<title>s1&#45;a1&#45;&gt;s2</title>\n<path fill=\"none\" stroke=\"#0000ff\" stroke-dasharray=\"5,2\" d=\"M1190.4281,-223.0003C1182.6454,-233.9578 1171.8786,-245.843 1158.8154,-252 947.353,-351.6676 860.1322,-306.6042 632.8255,-252 627.0505,-250.6127 621.2125,-248.8356 615.4236,-246.7922\"/>\n<polygon fill=\"#0000ff\" stroke=\"#0000ff\" points=\"616.3388,-243.3961 605.7474,-243.1237 613.8572,-249.9415 616.3388,-243.3961\"/>\n<text text-anchor=\"middle\" x=\"883.4798\" y=\"-315.2\" font-family=\"Arial\" font-size=\"16.00\" fill=\"#000000\">p = 0.05</text>\n</g>\n<!-- s1&#45;a1&#45;&gt;s1 -->\n<g id=\"edge11\" class=\"edge\">\n<title>s1&#45;a1&#45;&gt;s1</title>\n<path fill=\"none\" stroke=\"#0000ff\" stroke-dasharray=\"5,2\" d=\"M1176.7419,-194.9875C1155.3251,-191.3892 1125.1382,-185.2373 1099.8154,-176 1093.8312,-173.8171 1087.7487,-171.3229 1081.7051,-168.6422\"/>\n<polygon fill=\"#0000ff\" stroke=\"#0000ff\" points=\"1082.807,-165.2964 1072.2596,-164.2942 1079.8799,-171.6551 1082.807,-165.2964\"/>\n<text text-anchor=\"middle\" x=\"1129.3154\" y=\"-197.2\" font-family=\"Arial\" font-size=\"16.00\" fill=\"#000000\">p = 0.95</text>\n</g>\n<!-- s2&#45;a0&#45;&gt;s0 -->\n<g id=\"edge14\" class=\"edge\">\n<title>s2&#45;a0&#45;&gt;s0</title>\n<path fill=\"none\" stroke=\"#0000ff\" stroke-dasharray=\"5,2\" d=\"M782.6497,-170.6505C746.0641,-156.5601 676.6133,-132.0576 614.8255,-123 455.7136,-99.6755 267.3695,-110.34 160.5923,-119.8913\"/>\n<polygon fill=\"#0000ff\" stroke=\"#0000ff\" points=\"160.1578,-116.4163 150.5174,-120.8109 160.7942,-123.3873 160.1578,-116.4163\"/>\n<text text-anchor=\"middle\" x=\"377.9899\" y=\"-116.2\" font-family=\"Arial\" font-size=\"16.00\" fill=\"#000000\">p = 0.4</text>\n</g>\n<!-- s2&#45;a0&#45;&gt;s2 -->\n<g id=\"edge15\" class=\"edge\">\n<title>s2&#45;a0&#45;&gt;s2</title>\n<path fill=\"none\" stroke=\"#0000ff\" stroke-dasharray=\"5,2\" d=\"M780.832,-177.3694C746.0849,-173.4801 684.6367,-168.8848 632.8255,-177 628.7076,-177.645 624.5235,-178.4407 620.3234,-179.3525\"/>\n<polygon fill=\"#0000ff\" stroke=\"#0000ff\" points=\"619.4423,-175.9643 610.5179,-181.6744 621.0553,-182.776 619.4423,-175.9643\"/>\n<text text-anchor=\"middle\" x=\"697.8255\" y=\"-182.2\" font-family=\"Arial\" font-size=\"16.00\" fill=\"#000000\">p = 0.6</text>\n</g>\n<!-- s2&#45;a1&#45;&gt;s0 -->\n<g id=\"edge17\" class=\"edge\">\n<title>s2&#45;a1&#45;&gt;s0</title>\n<path fill=\"none\" stroke=\"#0000ff\" stroke-dasharray=\"5,2\" d=\"M783.9868,-94.1164C777.318,-90.9136 769.9588,-87.8939 762.8255,-86 568.0752,-34.2928 510.6524,-45.6736 309.9899,-64 246.4637,-69.8018 229.984,-71.8312 168.8356,-90 163.9591,-91.4489 158.9912,-93.0688 154.0147,-94.8024\"/>\n<polygon fill=\"#0000ff\" stroke=\"#0000ff\" points=\"152.6682,-91.5674 144.4559,-98.2614 155.0502,-98.1497 152.6682,-91.5674\"/>\n<text text-anchor=\"middle\" x=\"377.9899\" y=\"-69.2\" font-family=\"Arial\" font-size=\"16.00\" fill=\"#000000\">p = 0.3 &#160;reward =&#45;1</text>\n</g>\n<!-- s2&#45;a1&#45;&gt;s2 -->\n<g id=\"edge19\" class=\"edge\">\n<title>s2&#45;a1&#45;&gt;s2</title>\n<path fill=\"none\" stroke=\"#0000ff\" stroke-dasharray=\"5,2\" d=\"M781.724,-100.0918C746.0547,-91.0362 681.6602,-80.0831 632.8255,-102 615.7336,-109.6708 600.4908,-122.1856 587.5255,-135.9487\"/>\n<polygon fill=\"#0000ff\" stroke=\"#0000ff\" points=\"584.6403,-133.923 580.5596,-143.7005 589.8469,-138.6018 584.6403,-133.923\"/>\n<text text-anchor=\"middle\" x=\"697.8255\" y=\"-107.2\" font-family=\"Arial\" font-size=\"16.00\" fill=\"#000000\">p = 0.4</text>\n</g>\n<!-- s2&#45;a1&#45;&gt;s1 -->\n<g id=\"edge18\" class=\"edge\">\n<title>s2&#45;a1&#45;&gt;s1</title>\n<path fill=\"none\" stroke=\"#0000ff\" stroke-dasharray=\"5,2\" d=\"M835.933,-110.6419C857.9855,-112.7581 890.1688,-115.8464 920.6465,-118.7711\"/>\n<polygon fill=\"#0000ff\" stroke=\"#0000ff\" points=\"920.6112,-122.2838 930.8999,-119.7551 921.28,-115.3158 920.6112,-122.2838\"/>\n<text text-anchor=\"middle\" x=\"883.4798\" y=\"-123.2\" font-family=\"Arial\" font-size=\"16.00\" fill=\"#000000\">p = 0.3</text>\n</g>\n</g>\n</svg>\n"
          },
          "metadata": {
            "tags": []
          }
        }
      ]
    },
    {
      "cell_type": "code",
      "metadata": {
        "colab": {
          "base_uri": "https://localhost:8080/"
        },
        "id": "QY76l-9md-jX",
        "outputId": "35532e48-096b-4d5e-dc02-8ef465cdb050"
      },
      "source": [
        "s = mdp.reset()\n",
        "mdp.render()\n",
        "\n",
        "for t in range(100):\n",
        "    a = get_optimal_action(mdp, state_values, s, gamma)\n",
        "    s, r, done, _ = mdp.step(a)\n",
        "    print(t, a, r)\n",
        "    mdp.render()\n",
        "    \n",
        "    if done:\n",
        "        break"
      ],
      "execution_count": 22,
      "outputs": [
        {
          "output_type": "stream",
          "text": [
            "Currently at s0\n",
            "0 a1 0.0\n",
            "Currently at s2\n",
            "1 a1 0.0\n",
            "Currently at s1\n",
            "2 a0 0.0\n",
            "Currently at s2\n",
            "3 a1 0.0\n",
            "Currently at s2\n",
            "4 a1 0.0\n",
            "Currently at s2\n",
            "5 a1 0.0\n",
            "Currently at s2\n",
            "6 a1 -1\n",
            "Currently at s0\n",
            "7 a1 0.0\n",
            "Currently at s2\n",
            "8 a1 0.0\n",
            "Currently at s2\n",
            "9 a1 0.0\n",
            "Currently at s1\n",
            "10 a0 5\n",
            "Currently at s0\n",
            "11 a1 0.0\n",
            "Currently at s2\n",
            "12 a1 -1\n",
            "Currently at s0\n",
            "13 a1 0.0\n",
            "Currently at s2\n",
            "14 a1 -1\n",
            "Currently at s0\n",
            "15 a1 0.0\n",
            "Currently at s2\n",
            "16 a1 0.0\n",
            "Currently at s2\n",
            "17 a1 0.0\n",
            "Currently at s2\n",
            "18 a1 0.0\n",
            "Currently at s2\n",
            "19 a1 0.0\n",
            "Currently at s2\n",
            "20 a1 -1\n",
            "Currently at s0\n",
            "21 a1 0.0\n",
            "Currently at s2\n",
            "22 a1 -1\n",
            "Currently at s0\n",
            "23 a1 0.0\n",
            "Currently at s2\n",
            "24 a1 0.0\n",
            "Currently at s1\n",
            "25 a0 5\n",
            "Currently at s0\n",
            "26 a1 0.0\n",
            "Currently at s2\n",
            "27 a1 -1\n",
            "Currently at s0\n",
            "28 a1 0.0\n",
            "Currently at s2\n",
            "29 a1 0.0\n",
            "Currently at s1\n",
            "30 a0 5\n",
            "Currently at s0\n",
            "31 a1 0.0\n",
            "Currently at s2\n",
            "32 a1 0.0\n",
            "Currently at s2\n",
            "33 a1 0.0\n",
            "Currently at s1\n",
            "34 a0 5\n",
            "Currently at s0\n",
            "35 a1 0.0\n",
            "Currently at s2\n",
            "36 a1 0.0\n",
            "Currently at s1\n",
            "37 a0 0.0\n",
            "Currently at s2\n",
            "38 a1 -1\n",
            "Currently at s0\n",
            "39 a1 0.0\n",
            "Currently at s2\n",
            "40 a1 -1\n",
            "Currently at s0\n",
            "41 a1 0.0\n",
            "Currently at s2\n",
            "42 a1 0.0\n",
            "Currently at s1\n",
            "43 a0 0.0\n",
            "Currently at s2\n",
            "44 a1 -1\n",
            "Currently at s0\n",
            "45 a1 0.0\n",
            "Currently at s2\n",
            "46 a1 0.0\n",
            "Currently at s1\n",
            "47 a0 5\n",
            "Currently at s0\n",
            "48 a1 0.0\n",
            "Currently at s2\n",
            "49 a1 -1\n",
            "Currently at s0\n",
            "50 a1 0.0\n",
            "Currently at s2\n",
            "51 a1 -1\n",
            "Currently at s0\n",
            "52 a1 0.0\n",
            "Currently at s2\n",
            "53 a1 -1\n",
            "Currently at s0\n",
            "54 a1 0.0\n",
            "Currently at s2\n",
            "55 a1 0.0\n",
            "Currently at s2\n",
            "56 a1 -1\n",
            "Currently at s0\n",
            "57 a1 0.0\n",
            "Currently at s2\n",
            "58 a1 0.0\n",
            "Currently at s2\n",
            "59 a1 0.0\n",
            "Currently at s1\n",
            "60 a0 5\n",
            "Currently at s0\n",
            "61 a1 0.0\n",
            "Currently at s2\n",
            "62 a1 0.0\n",
            "Currently at s2\n",
            "63 a1 0.0\n",
            "Currently at s2\n",
            "64 a1 0.0\n",
            "Currently at s2\n",
            "65 a1 -1\n",
            "Currently at s0\n",
            "66 a1 0.0\n",
            "Currently at s2\n",
            "67 a1 0.0\n",
            "Currently at s1\n",
            "68 a0 0.0\n",
            "Currently at s2\n",
            "69 a1 -1\n",
            "Currently at s0\n",
            "70 a1 0.0\n",
            "Currently at s2\n",
            "71 a1 0.0\n",
            "Currently at s2\n",
            "72 a1 0.0\n",
            "Currently at s2\n",
            "73 a1 0.0\n",
            "Currently at s2\n",
            "74 a1 0.0\n",
            "Currently at s1\n",
            "75 a0 5\n",
            "Currently at s0\n",
            "76 a1 0.0\n",
            "Currently at s2\n",
            "77 a1 0.0\n",
            "Currently at s2\n",
            "78 a1 0.0\n",
            "Currently at s1\n",
            "79 a0 0.0\n",
            "Currently at s1\n",
            "80 a0 5\n",
            "Currently at s0\n",
            "81 a1 0.0\n",
            "Currently at s2\n",
            "82 a1 0.0\n",
            "Currently at s2\n",
            "83 a1 -1\n",
            "Currently at s0\n",
            "84 a1 0.0\n",
            "Currently at s2\n",
            "85 a1 0.0\n",
            "Currently at s2\n",
            "86 a1 -1\n",
            "Currently at s0\n",
            "87 a1 0.0\n",
            "Currently at s2\n",
            "88 a1 0.0\n",
            "Currently at s2\n",
            "89 a1 0.0\n",
            "Currently at s2\n",
            "90 a1 0.0\n",
            "Currently at s2\n",
            "91 a1 -1\n",
            "Currently at s0\n",
            "92 a1 0.0\n",
            "Currently at s2\n",
            "93 a1 0.0\n",
            "Currently at s1\n",
            "94 a0 0.0\n",
            "Currently at s2\n",
            "95 a1 0.0\n",
            "Currently at s1\n",
            "96 a0 5\n",
            "Currently at s0\n",
            "97 a1 0.0\n",
            "Currently at s2\n",
            "98 a1 0.0\n",
            "Currently at s2\n",
            "99 a1 0.0\n",
            "Currently at s1\n"
          ],
          "name": "stdout"
        }
      ]
    },
    {
      "cell_type": "code",
      "metadata": {
        "colab": {
          "base_uri": "https://localhost:8080/"
        },
        "id": "eW8PQgAneA4d",
        "outputId": "c48da7c0-30f5-443b-d11d-91bf44e42b9f"
      },
      "source": [
        "mdp.render()"
      ],
      "execution_count": 23,
      "outputs": [
        {
          "output_type": "stream",
          "text": [
            "Currently at s1\n"
          ],
          "name": "stdout"
        }
      ]
    },
    {
      "cell_type": "code",
      "metadata": {
        "colab": {
          "base_uri": "https://localhost:8080/",
          "height": 186
        },
        "id": "bTK86vlMeGNn",
        "outputId": "7ec3786f-1fbf-430a-9a6e-f04273762267"
      },
      "source": [
        "transition_probs = {\n",
        "    'S_start': {\n",
        "        'a': {'S_1': 1.0},\n",
        "        'b': {'S_2': 1.0}\n",
        "    },\n",
        "\n",
        "    'S_goal': {\n",
        "    },\n",
        "    \n",
        "    'S_1': {\n",
        "        'a': {'S_3': 1.0}\n",
        "    },\n",
        "    \n",
        "    'S_2': {\n",
        "        'b': {'S_3': 1.0}\n",
        "        },\n",
        "    \n",
        "    'S_3': {\n",
        "        'a': {'S_goal': 1.0},\n",
        "        'b': {'S_goal': 1.0}\n",
        "    }\n",
        "}\n",
        "rewards = {\n",
        "    'S_3': {'a': {'S_goal': +100}},\n",
        "    'S_1': {'a': {'S_3': +10}},\n",
        "    'S_2': {'b': {'S_3': -10}}\n",
        "}\n",
        "\n",
        "\n",
        "mdp = MDP(transition_probs, rewards, initial_state='S_start')\n",
        "display(plot_graph(mdp))"
      ],
      "execution_count": 24,
      "outputs": [
        {
          "output_type": "display_data",
          "data": {
            "text/plain": [
              "<graphviz.dot.Digraph at 0x7fd598bc1f90>"
            ],
            "image/svg+xml": "<?xml version=\"1.0\" encoding=\"UTF-8\" standalone=\"no\"?>\n<!DOCTYPE svg PUBLIC \"-//W3C//DTD SVG 1.1//EN\"\n \"http://www.w3.org/Graphics/SVG/1.1/DTD/svg11.dtd\">\n<!-- Generated by graphviz version 2.40.1 (20161225.0304)\n -->\n<!-- Title: MDP Pages: 1 -->\n<svg width=\"720pt\" height=\"124pt\"\n viewBox=\"0.00 0.00 720.00 123.64\" xmlns=\"http://www.w3.org/2000/svg\" xmlns:xlink=\"http://www.w3.org/1999/xlink\">\n<g id=\"graph0\" class=\"graph\" transform=\"scale(.6647 .6647) rotate(0) translate(4 182)\">\n<title>MDP</title>\n<polygon fill=\"#ffffff\" stroke=\"transparent\" points=\"-4,4 -4,-182 1079.1536,-182 1079.1536,4 -4,4\"/>\n<!-- S_start -->\n<g id=\"node1\" class=\"node\">\n<title>S_start</title>\n<ellipse fill=\"#85ff75\" stroke=\"#85ff75\" cx=\"56.7522\" cy=\"-97\" rx=\"52.5229\" ry=\"52.5229\"/>\n<ellipse fill=\"none\" stroke=\"#85ff75\" cx=\"56.7522\" cy=\"-97\" rx=\"56.5055\" ry=\"56.5055\"/>\n<text text-anchor=\"middle\" x=\"56.7522\" y=\"-90.8\" font-family=\"Arial\" font-size=\"24.00\" fill=\"#000000\">S_start</text>\n</g>\n<!-- S_start&#45;a -->\n<g id=\"node2\" class=\"node\">\n<title>S_start&#45;a</title>\n<ellipse fill=\"#ffb6c1\" stroke=\"#ffb6c1\" cx=\"171.7176\" cy=\"-130\" rx=\"21.4286\" ry=\"21.4286\"/>\n<text text-anchor=\"middle\" x=\"171.7176\" y=\"-125\" font-family=\"Arial\" font-size=\"20.00\" fill=\"#000000\">a</text>\n</g>\n<!-- S_start&#45;&gt;S_start&#45;a -->\n<g id=\"edge1\" class=\"edge\">\n<title>S_start&#45;&gt;S_start&#45;a</title>\n<path fill=\"none\" stroke=\"#ff0000\" stroke-width=\"2\" d=\"M111.5413,-112.7268C121.794,-115.6698 132.1613,-118.6456 141.3345,-121.2788\"/>\n<polygon fill=\"#ff0000\" stroke=\"#ff0000\" stroke-width=\"2\" points=\"140.5368,-124.691 151.1144,-124.086 142.4682,-117.9627 140.5368,-124.691\"/>\n</g>\n<!-- S_start&#45;b -->\n<g id=\"node4\" class=\"node\">\n<title>S_start&#45;b</title>\n<ellipse fill=\"#ffb6c1\" stroke=\"#ffb6c1\" cx=\"171.7176\" cy=\"-68\" rx=\"21.4286\" ry=\"21.4286\"/>\n<text text-anchor=\"middle\" x=\"171.7176\" y=\"-63\" font-family=\"Arial\" font-size=\"20.00\" fill=\"#000000\">b</text>\n</g>\n<!-- S_start&#45;&gt;S_start&#45;b -->\n<g id=\"edge3\" class=\"edge\">\n<title>S_start&#45;&gt;S_start&#45;b</title>\n<path fill=\"none\" stroke=\"#ff0000\" stroke-width=\"2\" d=\"M111.8778,-83.0946C121.9014,-80.5661 132.0206,-78.0136 141.0138,-75.745\"/>\n<polygon fill=\"#ff0000\" stroke=\"#ff0000\" stroke-width=\"2\" points=\"142.1402,-79.0706 150.9804,-73.231 140.4281,-72.2832 142.1402,-79.0706\"/>\n</g>\n<!-- S_1 -->\n<g id=\"node3\" class=\"node\">\n<title>S_1</title>\n<ellipse fill=\"#85ff75\" stroke=\"#85ff75\" cx=\"318.9308\" cy=\"-138\" rx=\"36\" ry=\"36\"/>\n<ellipse fill=\"none\" stroke=\"#85ff75\" cx=\"318.9308\" cy=\"-138\" rx=\"40\" ry=\"40\"/>\n<text text-anchor=\"middle\" x=\"318.9308\" y=\"-131.8\" font-family=\"Arial\" font-size=\"24.00\" fill=\"#000000\">S_1</text>\n</g>\n<!-- S_start&#45;a&#45;&gt;S_1 -->\n<g id=\"edge2\" class=\"edge\">\n<title>S_start&#45;a&#45;&gt;S_1</title>\n<path fill=\"none\" stroke=\"#0000ff\" stroke-dasharray=\"5,2\" d=\"M193.1237,-131.1633C212.906,-132.2383 243.0522,-133.8765 268.8756,-135.2799\"/>\n<polygon fill=\"#0000ff\" stroke=\"#0000ff\" points=\"268.7211,-138.7765 278.8964,-135.8244 269.101,-131.7868 268.7211,-138.7765\"/>\n<text text-anchor=\"middle\" x=\"235.9308\" y=\"-139.2\" font-family=\"Arial\" font-size=\"16.00\" fill=\"#000000\">p = 1.0</text>\n</g>\n<!-- S_1&#45;a -->\n<g id=\"node7\" class=\"node\">\n<title>S_1&#45;a</title>\n<ellipse fill=\"#ffb6c1\" stroke=\"#ffb6c1\" cx=\"417.144\" cy=\"-133\" rx=\"21.4286\" ry=\"21.4286\"/>\n<text text-anchor=\"middle\" x=\"417.144\" y=\"-128\" font-family=\"Arial\" font-size=\"20.00\" fill=\"#000000\">a</text>\n</g>\n<!-- S_1&#45;&gt;S_1&#45;a -->\n<g id=\"edge5\" class=\"edge\">\n<title>S_1&#45;&gt;S_1&#45;a</title>\n<path fill=\"none\" stroke=\"#ff0000\" stroke-width=\"2\" d=\"M359.1613,-135.9519C368.0262,-135.5006 377.2904,-135.0289 385.7458,-134.5985\"/>\n<polygon fill=\"#ff0000\" stroke=\"#ff0000\" stroke-width=\"2\" points=\"386.1234,-138.0839 395.9324,-134.0799 385.7674,-131.0929 386.1234,-138.0839\"/>\n</g>\n<!-- S_2 -->\n<g id=\"node5\" class=\"node\">\n<title>S_2</title>\n<ellipse fill=\"#85ff75\" stroke=\"#85ff75\" cx=\"318.9308\" cy=\"-40\" rx=\"36\" ry=\"36\"/>\n<ellipse fill=\"none\" stroke=\"#85ff75\" cx=\"318.9308\" cy=\"-40\" rx=\"40\" ry=\"40\"/>\n<text text-anchor=\"middle\" x=\"318.9308\" y=\"-33.8\" font-family=\"Arial\" font-size=\"24.00\" fill=\"#000000\">S_2</text>\n</g>\n<!-- S_start&#45;b&#45;&gt;S_2 -->\n<g id=\"edge4\" class=\"edge\">\n<title>S_start&#45;b&#45;&gt;S_2</title>\n<path fill=\"none\" stroke=\"#0000ff\" stroke-dasharray=\"5,2\" d=\"M192.8097,-63.9883C212.7427,-60.197 243.3967,-54.3666 269.4921,-49.4033\"/>\n<polygon fill=\"#0000ff\" stroke=\"#0000ff\" points=\"270.4375,-52.7863 279.6073,-47.4793 269.1295,-45.9096 270.4375,-52.7863\"/>\n<text text-anchor=\"middle\" x=\"235.9308\" y=\"-66.2\" font-family=\"Arial\" font-size=\"16.00\" fill=\"#000000\">p = 1.0</text>\n</g>\n<!-- S_2&#45;b -->\n<g id=\"node9\" class=\"node\">\n<title>S_2&#45;b</title>\n<ellipse fill=\"#ffb6c1\" stroke=\"#ffb6c1\" cx=\"417.144\" cy=\"-68\" rx=\"21.4286\" ry=\"21.4286\"/>\n<text text-anchor=\"middle\" x=\"417.144\" y=\"-63\" font-family=\"Arial\" font-size=\"20.00\" fill=\"#000000\">b</text>\n</g>\n<!-- S_2&#45;&gt;S_2&#45;b -->\n<g id=\"edge7\" class=\"edge\">\n<title>S_2&#45;&gt;S_2&#45;b</title>\n<path fill=\"none\" stroke=\"#ff0000\" stroke-width=\"2\" d=\"M357.4654,-50.986C367.1487,-53.7466 377.4078,-56.6714 386.6381,-59.3029\"/>\n<polygon fill=\"#ff0000\" stroke=\"#ff0000\" stroke-width=\"2\" points=\"385.9602,-62.7491 396.5366,-62.125 387.8794,-56.0173 385.9602,-62.7491\"/>\n</g>\n<!-- S_goal -->\n<g id=\"node6\" class=\"node\">\n<title>S_goal</title>\n<ellipse fill=\"#85ff75\" stroke=\"#85ff75\" cx=\"1018.9686\" cy=\"-97\" rx=\"52.3574\" ry=\"52.3574\"/>\n<ellipse fill=\"none\" stroke=\"#85ff75\" cx=\"1018.9686\" cy=\"-97\" rx=\"56.3706\" ry=\"56.3706\"/>\n<text text-anchor=\"middle\" x=\"1018.9686\" y=\"-90.8\" font-family=\"Arial\" font-size=\"24.00\" fill=\"#000000\">S_goal</text>\n</g>\n<!-- S_3 -->\n<g id=\"node8\" class=\"node\">\n<title>S_3</title>\n<ellipse fill=\"#85ff75\" stroke=\"#85ff75\" cx=\"659.3572\" cy=\"-97\" rx=\"36\" ry=\"36\"/>\n<ellipse fill=\"none\" stroke=\"#85ff75\" cx=\"659.3572\" cy=\"-97\" rx=\"40\" ry=\"40\"/>\n<text text-anchor=\"middle\" x=\"659.3572\" y=\"-90.8\" font-family=\"Arial\" font-size=\"24.00\" fill=\"#000000\">S_3</text>\n</g>\n<!-- S_1&#45;a&#45;&gt;S_3 -->\n<g id=\"edge6\" class=\"edge\">\n<title>S_1&#45;a&#45;&gt;S_3</title>\n<path fill=\"none\" stroke=\"#0000ff\" stroke-dasharray=\"5,2\" d=\"M438.2152,-129.8682C476.0888,-124.2391 556.6254,-112.269 609.3417,-104.4338\"/>\n<polygon fill=\"#0000ff\" stroke=\"#0000ff\" points=\"610.1164,-107.8572 619.4932,-102.925 609.0873,-100.9332 610.1164,-107.8572\"/>\n<text text-anchor=\"middle\" x=\"528.8572\" y=\"-131.2\" font-family=\"Arial\" font-size=\"16.00\" fill=\"#000000\">p = 1.0 &#160;reward =10</text>\n</g>\n<!-- S_3&#45;a -->\n<g id=\"node10\" class=\"node\">\n<title>S_3&#45;a</title>\n<ellipse fill=\"#ffb6c1\" stroke=\"#ffb6c1\" cx=\"757.5705\" cy=\"-128\" rx=\"21.4286\" ry=\"21.4286\"/>\n<text text-anchor=\"middle\" x=\"757.5705\" y=\"-123\" font-family=\"Arial\" font-size=\"20.00\" fill=\"#000000\">a</text>\n</g>\n<!-- S_3&#45;&gt;S_3&#45;a -->\n<g id=\"edge9\" class=\"edge\">\n<title>S_3&#45;&gt;S_3&#45;a</title>\n<path fill=\"none\" stroke=\"#ff0000\" stroke-width=\"2\" d=\"M697.6103,-109.0742C707.4987,-112.1954 718.0053,-115.5117 727.4152,-118.4818\"/>\n<polygon fill=\"#ff0000\" stroke=\"#ff0000\" stroke-width=\"2\" points=\"726.5246,-121.8708 737.1144,-121.5432 728.6316,-115.1955 726.5246,-121.8708\"/>\n</g>\n<!-- S_3&#45;b -->\n<g id=\"node11\" class=\"node\">\n<title>S_3&#45;b</title>\n<ellipse fill=\"#ffb6c1\" stroke=\"#ffb6c1\" cx=\"757.5705\" cy=\"-68\" rx=\"21.4286\" ry=\"21.4286\"/>\n<text text-anchor=\"middle\" x=\"757.5705\" y=\"-63\" font-family=\"Arial\" font-size=\"20.00\" fill=\"#000000\">b</text>\n</g>\n<!-- S_3&#45;&gt;S_3&#45;b -->\n<g id=\"edge11\" class=\"edge\">\n<title>S_3&#45;&gt;S_3&#45;b</title>\n<path fill=\"none\" stroke=\"#ff0000\" stroke-width=\"2\" d=\"M697.8918,-85.6217C707.6793,-82.7317 718.0549,-79.668 727.3619,-76.9199\"/>\n<polygon fill=\"#ff0000\" stroke=\"#ff0000\" stroke-width=\"2\" points=\"728.3636,-80.2736 736.963,-74.0849 726.3812,-73.5601 728.3636,-80.2736\"/>\n</g>\n<!-- S_2&#45;b&#45;&gt;S_3 -->\n<g id=\"edge8\" class=\"edge\">\n<title>S_2&#45;b&#45;&gt;S_3</title>\n<path fill=\"none\" stroke=\"#0000ff\" stroke-dasharray=\"5,2\" d=\"M438.5474,-68.6625C473.0225,-69.9713 542.9034,-73.6238 601.3572,-83 604.3793,-83.4847 607.4763,-84.0441 610.5909,-84.6544\"/>\n<polygon fill=\"#0000ff\" stroke=\"#0000ff\" points=\"610.0204,-88.1109 620.5272,-86.7478 611.4636,-81.2613 610.0204,-88.1109\"/>\n<text text-anchor=\"middle\" x=\"528.8572\" y=\"-88.2\" font-family=\"Arial\" font-size=\"16.00\" fill=\"#000000\">p = 1.0 &#160;reward =&#45;10</text>\n</g>\n<!-- S_3&#45;a&#45;&gt;S_goal -->\n<g id=\"edge10\" class=\"edge\">\n<title>S_3&#45;a&#45;&gt;S_goal</title>\n<path fill=\"none\" stroke=\"#0000ff\" stroke-dasharray=\"5,2\" d=\"M778.9618,-125.4631C816.5179,-121.0092 895.7452,-111.6134 952.9157,-104.8334\"/>\n<polygon fill=\"#0000ff\" stroke=\"#0000ff\" points=\"953.4429,-108.2955 962.9611,-103.6421 952.6185,-101.3442 953.4429,-108.2955\"/>\n<text text-anchor=\"middle\" x=\"870.7837\" y=\"-127.2\" font-family=\"Arial\" font-size=\"16.00\" fill=\"#000000\">p = 1.0 &#160;reward =100</text>\n</g>\n<!-- S_3&#45;b&#45;&gt;S_goal -->\n<g id=\"edge12\" class=\"edge\">\n<title>S_3&#45;b&#45;&gt;S_goal</title>\n<path fill=\"none\" stroke=\"#0000ff\" stroke-dasharray=\"5,2\" d=\"M778.9874,-68.9722C813.8517,-70.7216 884.9964,-74.9866 944.7837,-83 947.6456,-83.3836 950.5644,-83.8049 953.5091,-84.2545\"/>\n<polygon fill=\"#0000ff\" stroke=\"#0000ff\" points=\"953.1456,-87.741 963.5755,-85.8787 954.2607,-80.8304 953.1456,-87.741\"/>\n<text text-anchor=\"middle\" x=\"870.7837\" y=\"-88.2\" font-family=\"Arial\" font-size=\"16.00\" fill=\"#000000\">p = 1.0</text>\n</g>\n</g>\n</svg>\n"
          },
          "metadata": {
            "tags": []
          }
        }
      ]
    },
    {
      "cell_type": "code",
      "metadata": {
        "colab": {
          "base_uri": "https://localhost:8080/"
        },
        "id": "Ihz_cPtReGP-",
        "outputId": "4c104ea9-88e0-43e9-c2f6-1b2be9da785c"
      },
      "source": [
        "gamma = 0.99\n",
        "num_iter = 100\n",
        "min_diff = 0.0001\n",
        "\n",
        "state_values = {s: 0 for s in mdp.get_all_states()}\n",
        "\n",
        "for t in range(num_iter):\n",
        "\n",
        "    new_state_values = {state: get_new_state_value(mdp, state_values, state, gamma) for state in mdp.get_all_states()}\n",
        "\n",
        "    diff = max(abs(new_state_values[s] - state_values[s]) for s in mdp.get_all_states())\n",
        "\n",
        "    print(t, diff, state_values)\n",
        "\n",
        "    state_values = new_state_values\n",
        "\n",
        "    if diff < min_diff:\n",
        "        break"
      ],
      "execution_count": 25,
      "outputs": [
        {
          "output_type": "stream",
          "text": [
            "0 100.0 {'S_start': 0, 'S_goal': 0, 'S_1': 0, 'S_2': 0, 'S_3': 0}\n",
            "1 99.0 {'S_start': 0.0, 'S_goal': 0, 'S_1': 10.0, 'S_2': -10.0, 'S_3': 100.0}\n",
            "2 98.00999999999999 {'S_start': 9.9, 'S_goal': 0, 'S_1': 109.0, 'S_2': 89.0, 'S_3': 100.0}\n",
            "3 0.0 {'S_start': 107.91, 'S_goal': 0, 'S_1': 109.0, 'S_2': 89.0, 'S_3': 100.0}\n"
          ],
          "name": "stdout"
        }
      ]
    },
    {
      "cell_type": "code",
      "metadata": {
        "colab": {
          "base_uri": "https://localhost:8080/"
        },
        "id": "Ub0lbO2FeGST",
        "outputId": "38defa11-dd83-464b-afd4-456b18e12139"
      },
      "source": [
        "s = mdp.reset()\n",
        "mdp.render()\n",
        "\n",
        "for t in range(100):\n",
        "    a = get_optimal_action(mdp, state_values, s, gamma)\n",
        "    s, r, done, _ = mdp.step(a)\n",
        "    print(t, a, r)\n",
        "    mdp.render()\n",
        "    \n",
        "    if done:\n",
        "        break"
      ],
      "execution_count": 26,
      "outputs": [
        {
          "output_type": "stream",
          "text": [
            "Currently at S_start\n",
            "0 a 0.0\n",
            "Currently at S_1\n",
            "1 a 10\n",
            "Currently at S_3\n",
            "2 a 100\n",
            "Currently at S_goal\n"
          ],
          "name": "stdout"
        }
      ]
    },
    {
      "cell_type": "code",
      "metadata": {
        "id": "0qumuj4ZqvNp"
      },
      "source": [
        "# Źródła:\n",
        "# [1] Yandex Data School, \"Markov Decision Process\", Github, https://github.com/yandexdataschool/Practical_RL/blob/master/week01_intro/crossentropy_method.ipynb"
      ],
      "execution_count": 13,
      "outputs": []
    }
  ]
}