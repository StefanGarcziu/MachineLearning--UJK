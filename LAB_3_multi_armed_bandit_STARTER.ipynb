{
  "nbformat": 4,
  "nbformat_minor": 0,
  "metadata": {
    "colab": {
      "name": "LAB_3_multi_armed_bandit_STARTER.ipynb",
      "provenance": [],
      "collapsed_sections": [],
      "include_colab_link": true
    },
    "kernelspec": {
      "name": "python3",
      "display_name": "Python 3"
    }
  },
  "cells": [
    {
      "cell_type": "markdown",
      "metadata": {
        "id": "view-in-github",
        "colab_type": "text"
      },
      "source": [
        "<a href=\"https://colab.research.google.com/github/StefanGarcziu/MachineLearning--UJK/blob/main/LAB_3_multi_armed_bandit_STARTER.ipynb\" target=\"_parent\"><img src=\"https://colab.research.google.com/assets/colab-badge.svg\" alt=\"Open In Colab\"/></a>"
      ]
    },
    {
      "cell_type": "code",
      "metadata": {
        "id": "ABngBrP7TxHY"
      },
      "source": [
        "import matplotlib.pyplot as plt\n",
        "import numpy as np"
      ],
      "execution_count": 1,
      "outputs": []
    },
    {
      "cell_type": "code",
      "metadata": {
        "id": "3zfcQ-4xnbys"
      },
      "source": [
        "NUM_TRIALS = 10000\n",
        "BANDIT_PROBABILITIES = [0.2, 0.5, 0.75]\n",
        "EPSILON = 0.025"
      ],
      "execution_count": 51,
      "outputs": []
    },
    {
      "cell_type": "code",
      "metadata": {
        "id": "sXr-iO8AnxnD"
      },
      "source": [
        "class Bandit_greedy:\n",
        "  def __init__(self, q):\n",
        "    self.q = q\n",
        "    self.q_estimate = 0\n",
        "    self.N = 0.\n",
        "\n",
        "  def pull(self):\n",
        "    return np.random.random() < self.q\n",
        "\n",
        "  def update(self, r):\n",
        "    self.N += 1.\n",
        "    self.q_estimate = ((self.N - 1) * self.q_estimate + r) / self.N"
      ],
      "execution_count": 32,
      "outputs": []
    },
    {
      "cell_type": "code",
      "metadata": {
        "colab": {
          "base_uri": "https://localhost:8080/",
          "height": 370
        },
        "id": "cUR65lbZuikc",
        "outputId": "bdb2bfbb-7c93-416e-e3e0-55043503375c"
      },
      "source": [
        "def experiment_greedy():\n",
        "  bandits = [Bandit_greedy(q) for q in BANDIT_PROBABILITIES]\n",
        "  rewards = np.zeros(NUM_TRIALS)\n",
        "\n",
        "  for i in range(NUM_TRIALS):\n",
        "    j = np.argmax([b.q_estimate for b in bandits])\n",
        "    r = bandits[j].pull()\n",
        "    rewards[i] = r\n",
        "    bandits[j].update(r)\n",
        "\n",
        "  for b in bandits:\n",
        "    print(\"mean estimate:\", b.q_estimate)\n",
        "    \n",
        "  print(\"total reward earned:\", rewards.sum())\n",
        "  print(\"overall win rate:\", rewards.sum() / NUM_TRIALS)\n",
        "  print(\"num times selected each bandit:\", [b.N for b in bandits])\n",
        "\n",
        "  cumulative_rewards = np.cumsum(rewards)\n",
        "  win_rates = cumulative_rewards / (np.arange(NUM_TRIALS) + 1)\n",
        "  plt.ylim([0, 1])\n",
        "  plt.plot(win_rates)\n",
        "  plt.plot(np.ones(NUM_TRIALS)*np.max(BANDIT_PROBABILITIES))\n",
        "  plt.show()\n",
        "\n",
        "if __name__ == \"__main__\":\n",
        "  experiment_greedy()"
      ],
      "execution_count": 33,
      "outputs": [
        {
          "output_type": "stream",
          "text": [
            "mean estimate: 0.2008000000000002\n",
            "mean estimate: 0\n",
            "mean estimate: 0\n",
            "total reward earned: 2008.0\n",
            "overall win rate: 0.2008\n",
            "num times selected each bandit: [10000.0, 0.0, 0.0]\n"
          ],
          "name": "stdout"
        },
        {
          "output_type": "display_data",
          "data": {
            "image/png": "[encoded data removed]",
            "text/plain": [
              "<Figure size 432x288 with 1 Axes>"
            ]
          },
          "metadata": {
            "tags": [],
            "needs_background": "light"
          }
        }
      ]
    },
    {
      "cell_type": "code",
      "metadata": {
        "id": "RLn3kJJEvLra"
      },
      "source": [
        ""
      ],
      "execution_count": null,
      "outputs": []
    },
    {
      "cell_type": "code",
      "metadata": {
        "id": "vprPJy350lMp"
      },
      "source": [
        "class Bandit_optimistic:\n",
        "  def __init__(self, q):\n",
        "    self.q = q\n",
        "    self.q_estimate = 5\n",
        "    self.N = 0.\n",
        "\n",
        "  def pull(self):\n",
        "    return np.random.random() < self.q\n",
        "\n",
        "  def update(self, r):\n",
        "    self.N += 1.\n",
        "    self.q_estimate = ((self.N - 1) * self.q_estimate + r) / self.N"
      ],
      "execution_count": 34,
      "outputs": []
    },
    {
      "cell_type": "code",
      "metadata": {
        "colab": {
          "base_uri": "https://localhost:8080/",
          "height": 370
        },
        "id": "wdq-gk2N0olg",
        "outputId": "6bdd8ce3-63c9-41d1-d03f-711d1f5e7267"
      },
      "source": [
        "def experiment_optimistic():\n",
        "  bandits = [Bandit_optimistic(q) for q in BANDIT_PROBABILITIES]\n",
        "  rewards = np.zeros(NUM_TRIALS)\n",
        "\n",
        "  for i in range(NUM_TRIALS):\n",
        "    j = np.argmax([b.q_estimate for b in bandits])\n",
        "    r = bandits[j].pull()\n",
        "    rewards[i] = r\n",
        "    bandits[j].update(r)\n",
        "\n",
        "  for b in bandits:\n",
        "    print(\"mean estimate:\", b.q_estimate)\n",
        "    \n",
        "  print(\"total reward earned:\", rewards.sum())\n",
        "  print(\"overall win rate:\", rewards.sum() / NUM_TRIALS)\n",
        "  print(\"num times selected each bandit:\", [b.N for b in bandits])\n",
        "\n",
        "  cumulative_rewards = np.cumsum(rewards)\n",
        "  win_rates = cumulative_rewards / (np.arange(NUM_TRIALS) + 1)\n",
        "  plt.ylim([0, 1])\n",
        "  plt.plot(win_rates)\n",
        "  plt.plot(np.ones(NUM_TRIALS)*np.max(BANDIT_PROBABILITIES))\n",
        "  plt.show()\n",
        "\n",
        "if __name__ == \"__main__\":\n",
        "  experiment_optimistic()"
      ],
      "execution_count": 35,
      "outputs": [
        {
          "output_type": "stream",
          "text": [
            "mean estimate: 0.0\n",
            "mean estimate: 0.0\n",
            "mean estimate: 0.7468493698739755\n",
            "total reward earned: 7467.0\n",
            "overall win rate: 0.7467\n",
            "num times selected each bandit: [1.0, 1.0, 9998.0]\n"
          ],
          "name": "stdout"
        },
        {
          "output_type": "display_data",
          "data": {
            "image/png": "[encoded data removed]",
            "text/plain": [
              "<Figure size 432x288 with 1 Axes>"
            ]
          },
          "metadata": {
            "tags": [],
            "needs_background": "light"
          }
        }
      ]
    },
    {
      "cell_type": "code",
      "metadata": {
        "id": "44xeTClM1cEz"
      },
      "source": [
        "class Bandit_q_optimistic:\n",
        "  def __init__(self, q):\n",
        "    self.q = q\n",
        "    self.q_estimate = q\n",
        "    self.N = 0.\n",
        "\n",
        "  def pull(self):\n",
        "    return np.random.random() < self.q\n",
        "\n",
        "  def update(self, r):\n",
        "    self.N += 1.\n",
        "    self.q_estimate = ((self.N - 1) * self.q_estimate + r) / self.N"
      ],
      "execution_count": 36,
      "outputs": []
    },
    {
      "cell_type": "code",
      "metadata": {
        "colab": {
          "base_uri": "https://localhost:8080/",
          "height": 370
        },
        "id": "f2yaIPfG1hxJ",
        "outputId": "22aaf0cb-f283-4596-88c4-1bd7f62e7447"
      },
      "source": [
        "def experiment_q_optimistic():\n",
        "  bandits = [Bandit_q_optimistic(q) for q in BANDIT_PROBABILITIES]\n",
        "  rewards = np.zeros(NUM_TRIALS)\n",
        "\n",
        "  for i in range(NUM_TRIALS):\n",
        "    j = np.argmax([b.q_estimate for b in bandits])\n",
        "    r = bandits[j].pull()\n",
        "    rewards[i] = r\n",
        "    bandits[j].update(r)\n",
        "\n",
        "  for b in bandits:\n",
        "    print(\"mean estimate:\", b.q_estimate)\n",
        "    \n",
        "  print(\"total reward earned:\", rewards.sum())\n",
        "  print(\"overall win rate:\", rewards.sum() / NUM_TRIALS)\n",
        "  print(\"num times selected each bandit:\", [b.N for b in bandits])\n",
        "\n",
        "  cumulative_rewards = np.cumsum(rewards)\n",
        "  win_rates = cumulative_rewards / (np.arange(NUM_TRIALS) + 1)\n",
        "  plt.ylim([0, 1])\n",
        "  plt.plot(win_rates)\n",
        "  plt.plot(np.ones(NUM_TRIALS)*np.max(BANDIT_PROBABILITIES))\n",
        "  plt.show()\n",
        "\n",
        "if __name__ == \"__main__\":\n",
        "  experiment_q_optimistic()"
      ],
      "execution_count": 37,
      "outputs": [
        {
          "output_type": "stream",
          "text": [
            "mean estimate: 0.2\n",
            "mean estimate: 0.25\n",
            "mean estimate: 0.7500000000000018\n",
            "total reward earned: 7498.0\n",
            "overall win rate: 0.7498\n",
            "num times selected each bandit: [0.0, 4.0, 9996.0]\n"
          ],
          "name": "stdout"
        },
        {
          "output_type": "display_data",
          "data": {
            "image/png": "[encoded data removed]",
            "text/plain": [
              "<Figure size 432x288 with 1 Axes>"
            ]
          },
          "metadata": {
            "tags": [],
            "needs_background": "light"
          }
        }
      ]
    },
    {
      "cell_type": "code",
      "metadata": {
        "id": "1gVoUclN2KMg"
      },
      "source": [
        ""
      ],
      "execution_count": null,
      "outputs": []
    },
    {
      "cell_type": "code",
      "metadata": {
        "colab": {
          "base_uri": "https://localhost:8080/",
          "height": 433
        },
        "id": "GLO73vAc4KWx",
        "outputId": "e1608dd3-3de6-4844-ba13-0de6166d2467"
      },
      "source": [
        "def experiment_epsilon():\n",
        "  bandits = [Bandit_greedy(q) for q in BANDIT_PROBABILITIES]\n",
        "  rewards = np.zeros(NUM_TRIALS)\n",
        "  num_times_explored = 0\n",
        "  num_times_exploited = 0\n",
        "  num_optimal = 0\n",
        "  optimal_bandit = np.argmax([b.q for b in bandits])\n",
        "\n",
        "  print(\"optimal bandit:\", optimal_bandit)\n",
        "\n",
        "\n",
        "\n",
        "  for i in range(NUM_TRIALS):\n",
        "    if np.random.random() < EPSILON:\n",
        "      num_times_explored += 1\n",
        "      j = np.random.randint(len(bandits))\n",
        "\n",
        "    else:\n",
        "      num_times_exploited += 1\n",
        "      j = np.argmax([b.q_estimate for b in bandits])\n",
        "\n",
        "    if j == optimal_bandit:\n",
        "      num_optimal += 1\n",
        "\n",
        "    r = bandits[j].pull()\n",
        "    rewards[i] = r\n",
        "    bandits[j].update(r)\n",
        "\n",
        "  for b in bandits:\n",
        "    print(\"mean estimate:\", b.q_estimate)\n",
        "\n",
        "  print(\"total reward earned:\", rewards.sum())\n",
        "  print(\"overall win rate:\", rewards.sum() / NUM_TRIALS)\n",
        "  print(\"num times selected each bandit:\", [b.N for b in bandits])\n",
        "  print(\"num times selected optimal bandit:\", num_optimal)\n",
        "  print(\"num_times_explored:\", num_times_explored)\n",
        "  print(\"num_times_exploited:\", num_times_exploited)\n",
        "\n",
        "  cumulative_rewards = np.cumsum(rewards)\n",
        "  win_rates = cumulative_rewards / (np.arange(NUM_TRIALS) + 1)\n",
        "  plt.plot(win_rates)\n",
        "  plt.plot(np.ones(NUM_TRIALS)*np.max(BANDIT_PROBABILITIES))\n",
        "  plt.show()\n",
        "\n",
        "if __name__ == \"__main__\":\n",
        "  experiment_epsilon()"
      ],
      "execution_count": 53,
      "outputs": [
        {
          "output_type": "stream",
          "text": [
            "optimal bandit: 2\n",
            "mean estimate: 0.13414634146341461\n",
            "mean estimate: 0.5478260869565218\n",
            "mean estimate: 0.748444353769254\n",
            "total reward earned: 7411.0\n",
            "overall win rate: 0.7411\n",
            "num times selected each bandit: [82.0, 115.0, 9803.0]\n",
            "num times selected optimal bandit: 9803\n",
            "num_times_explored: 254\n",
            "num_times_exploited: 9746\n"
          ],
          "name": "stdout"
        },
        {
          "output_type": "display_data",
          "data": {
            "image/png": "[encoded data removed]",
            "text/plain": [
              "<Figure size 432x288 with 1 Axes>"
            ]
          },
          "metadata": {
            "tags": [],
            "needs_background": "light"
          }
        }
      ]
    },
    {
      "cell_type": "code",
      "metadata": {
        "id": "EG83Z8YV2129"
      },
      "source": [
        ""
      ],
      "execution_count": null,
      "outputs": []
    }
  ]
}