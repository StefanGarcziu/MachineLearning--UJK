{
  "nbformat": 4,
  "nbformat_minor": 0,
  "metadata": {
    "colab": {
      "name": "LAB_9_policy_iteration_value_iteration_SOLUCJA.ipynb",
      "provenance": [],
      "collapsed_sections": []
    },
    "kernelspec": {
      "name": "python3",
      "display_name": "Python 3"
    }
  },
  "cells": [
    {
      "cell_type": "markdown",
      "metadata": {
        "id": "ogbY1kL4kLCT"
      },
      "source": [
        "### **Uczenie Maszynowe, Laboratoria 9 - Programowanie Dynamiczne**\n",
        "### - Iteracja Polityki, Iteracja Funkcji Wartości\n",
        "\n",
        "\n",
        "\n",
        "---\n",
        "\n",
        "\n",
        "*Aut. skryptu: Agnieszka Łysak, 17.05.2021*"
      ]
    },
    {
      "cell_type": "markdown",
      "metadata": {
        "id": "ObIz1St2kpo9"
      },
      "source": [
        "*   Wzór nr 1: Iteracyjne Równanie Bellmana (dla funkcji V):\n",
        " - potrzebne do algorytmu Ewaluacji Polityki (Policy Evaluation)\n",
        "\n",
        "\n",
        "\n",
        "\n",
        "\n"
      ]
    },
    {
      "cell_type": "markdown",
      "metadata": {
        "id": "W2i34ASSl8mH"
      },
      "source": [
        "$$ v(s)_\\pi =  \\sum \\limits _{a} \\pi(a|s) \\sum \\limits _{s'} \\sum \\limits _{r} p(s',r|s,a) [r+\\gamma v_\\pi(s')]$$"
      ]
    },
    {
      "cell_type": "markdown",
      "metadata": {
        "id": "zyQh5efrmPBb"
      },
      "source": [
        "$$↓$$"
      ]
    },
    {
      "cell_type": "markdown",
      "metadata": {
        "id": "BcT9F9ERjsEc"
      },
      "source": [
        "$$ v(s)_{k+1} =  \\sum \\limits _{a} \\pi(a|s) \\sum \\limits _{s'} \\sum \\limits _{r} p(s',r|s,a) [r+\\gamma v_k(s')]$$"
      ]
    },
    {
      "cell_type": "markdown",
      "metadata": {
        "id": "OSS4OPBM7Ncy"
      },
      "source": [
        "*   Wzór nr 2: Obliczanie Delty (różnicy w zmianie wartości v):"
      ]
    },
    {
      "cell_type": "markdown",
      "metadata": {
        "id": "E9_VQSfO6qpe"
      },
      "source": [
        "$$ \\Delta = max_a |v_{k+1}(s) - v_k(s) | $$"
      ]
    },
    {
      "cell_type": "markdown",
      "metadata": {
        "id": "1bl8mTwG4L6l"
      },
      "source": [
        "*   Wzór nr 3: Równanie Bellmana (dla funkcji Q):\n",
        " - potrzebne do algorytmu Iteracji Polityki (Policy Teration) i Iteracji Funkcji Wartości (Value Iteration)"
      ]
    },
    {
      "cell_type": "markdown",
      "metadata": {
        "id": "BX9SDVkC4aGj"
      },
      "source": [
        "$$ q_\\pi(s,a) =  \\sum \\limits _{s'} \\sum \\limits _{r}p(s',r|s,a)[r+\\gamma*v_\\pi(s')]$$"
      ]
    },
    {
      "cell_type": "markdown",
      "metadata": {
        "id": "A4SmOn77AmVc"
      },
      "source": [
        "*   Wzór nr 4: Równanie Optymalności Bellmana:\n",
        " - potrzebne do algorytmu Iteracji Funkcji Wartości (Value Iteration)\n"
      ]
    },
    {
      "cell_type": "markdown",
      "metadata": {
        "id": "8UCH2nqCAtRo"
      },
      "source": [
        "$$ v(s)_ =  \\max \\limits _{a} \\sum \\limits _{s'} \\sum \\limits _{r} p(s',r|s,a) [r+\\gamma v(s')]$$"
      ]
    },
    {
      "cell_type": "code",
      "metadata": {
        "id": "P8wQZLzSyfZS",
        "colab": {
          "base_uri": "https://localhost:8080/"
        },
        "outputId": "f5f3a78f-26b0-46d6-f6c2-1f3f7688aa77"
      },
      "source": [
        "import numpy as np\n",
        "import matplotlib.pyplot as plt\n",
        "%matplotlib inline\n",
        "import seaborn as sns\n",
        "\n",
        "import gym\n",
        "\n",
        "env = gym.make(\"FrozenLake-v0\", is_slippery=True).env\n",
        "env.reset()\n",
        "env.render()"
      ],
      "execution_count": 40,
      "outputs": [
        {
          "output_type": "stream",
          "text": [
            "\n",
            "\u001b[41mS\u001b[0mFFF\n",
            "FHFH\n",
            "FFFH\n",
            "HFFG\n"
          ],
          "name": "stdout"
        }
      ]
    },
    {
      "cell_type": "code",
      "metadata": {
        "colab": {
          "base_uri": "https://localhost:8080/"
        },
        "id": "MiJd5QwWRa4w",
        "outputId": "9561cabb-e99f-4b0c-b431-4ff571fc4a6c"
      },
      "source": [
        "env.action_space"
      ],
      "execution_count": 41,
      "outputs": [
        {
          "output_type": "execute_result",
          "data": {
            "text/plain": [
              "Discrete(4)"
            ]
          },
          "metadata": {
            "tags": []
          },
          "execution_count": 41
        }
      ]
    },
    {
      "cell_type": "code",
      "metadata": {
        "colab": {
          "base_uri": "https://localhost:8080/"
        },
        "id": "5oyQNsx4RdiB",
        "outputId": "00e4b9ff-a0cb-48a6-d372-0c7377e829a6"
      },
      "source": [
        "env.observation_space"
      ],
      "execution_count": 42,
      "outputs": [
        {
          "output_type": "execute_result",
          "data": {
            "text/plain": [
              "Discrete(16)"
            ]
          },
          "metadata": {
            "tags": []
          },
          "execution_count": 42
        }
      ]
    },
    {
      "cell_type": "code",
      "metadata": {
        "id": "aLYVuz1sQt4J"
      },
      "source": [
        "n_states = env.observation_space.n\n",
        "n_actions = env.action_space.n"
      ],
      "execution_count": 43,
      "outputs": []
    },
    {
      "cell_type": "code",
      "metadata": {
        "id": "-ZTvhzCmOpqg"
      },
      "source": [
        "states = list(range(env.observation_space.n))\n",
        "actions = list(range(env.action_space.n))"
      ],
      "execution_count": 44,
      "outputs": []
    },
    {
      "cell_type": "markdown",
      "metadata": {
        "id": "N3zzkIgx-3bY"
      },
      "source": [
        "### 1. Inicjacja Polityki:"
      ]
    },
    {
      "cell_type": "code",
      "metadata": {
        "id": "RTca4pPbVHvb"
      },
      "source": [
        "def initialize_policy(n_states, n_actions):\n",
        "  \n",
        "    policy = np.zeros(shape=(n_states, n_actions)) +  1/n_actions\n",
        "    \n",
        "    return policy\n",
        "\n",
        "policy = initialize_policy(n_states, n_actions)"
      ],
      "execution_count": 45,
      "outputs": []
    },
    {
      "cell_type": "code",
      "metadata": {
        "colab": {
          "base_uri": "https://localhost:8080/",
          "height": 621
        },
        "id": "MiLNjCj-Vi0D",
        "outputId": "cbdaf586-a243-4108-88cd-15b7ab59a370"
      },
      "source": [
        "plt.figure(figsize=(4, 10))\n",
        "sns.heatmap(policy, cmap=\"Blues\", annot=True, cbar=False)\n",
        "plt.title(\"POLICY\")\n",
        "plt.xlabel(\"Actions\")\n",
        "plt.ylabel(\"States\")\n",
        "plt.show()"
      ],
      "execution_count": 46,
      "outputs": [
        {
          "output_type": "display_data",
          "data": {
            "image/png": "[encoded data removed]",
            "text/plain": [
              "<Figure size 288x720 with 1 Axes>"
            ]
          },
          "metadata": {
            "tags": [],
            "needs_background": "light"
          }
        }
      ]
    },
    {
      "cell_type": "code",
      "metadata": {
        "colab": {
          "base_uri": "https://localhost:8080/"
        },
        "id": "LtO2w10s2N4M",
        "outputId": "50667c89-5f00-4653-e56b-015cc9b33fb6"
      },
      "source": [
        "env.P[0][1]"
      ],
      "execution_count": 47,
      "outputs": [
        {
          "output_type": "execute_result",
          "data": {
            "text/plain": [
              "[(0.3333333333333333, 0, 0.0, False),\n",
              " (0.3333333333333333, 4, 0.0, False),\n",
              " (0.3333333333333333, 1, 0.0, False)]"
            ]
          },
          "metadata": {
            "tags": []
          },
          "execution_count": 47
        }
      ]
    },
    {
      "cell_type": "markdown",
      "metadata": {
        "id": "EEQjE4QP-_c3"
      },
      "source": [
        "### 2. Algorytm Ewaluacji Polityki (Policy Evaluation):"
      ]
    },
    {
      "cell_type": "code",
      "metadata": {
        "id": "VzLGK3jQar3q"
      },
      "source": [
        "V = np.zeros(n_states)\n",
        "pi = initialize_policy(n_states, n_actions)\n",
        "gamma = 1\n",
        "theta = 0.0001"
      ],
      "execution_count": 48,
      "outputs": []
    },
    {
      "cell_type": "code",
      "metadata": {
        "id": "W3-8eSltYn4q"
      },
      "source": [
        "def bellman_update(env, V, pi, s, gamma):\n",
        "    v = 0.\n",
        "    for a in actions:\n",
        "        for p, s_, r, done in env.P[s][a]:\n",
        "            v += pi[s][a] * p * (r + gamma * V[s_])\n",
        "    V[s] = v"
      ],
      "execution_count": 49,
      "outputs": []
    },
    {
      "cell_type": "code",
      "metadata": {
        "id": "sKyt6oZSYtVj"
      },
      "source": [
        "def evaluate_policy(env, V, pi, gamma, theta):\n",
        "    delta = float('inf')\n",
        "    while delta > theta:\n",
        "        delta = 0\n",
        "        for s in states:\n",
        "            v = V[s]\n",
        "            bellman_update(env, V, pi, s, gamma)\n",
        "            delta = max(delta, abs(v - V[s]))\n",
        "            \n",
        "    return V"
      ],
      "execution_count": 50,
      "outputs": []
    },
    {
      "cell_type": "code",
      "metadata": {
        "id": "utg2CwK_azO_",
        "colab": {
          "base_uri": "https://localhost:8080/",
          "height": 500
        },
        "outputId": "00f66548-7187-47de-c267-20887131bab2"
      },
      "source": [
        "V_e = evaluate_policy(env, V, pi, gamma, theta)\n",
        "\n",
        "plt.figure(figsize=(8, 8))\n",
        "sns.heatmap(V.reshape(4, 4), cmap=\"Blues\", annot=True, cbar=False)\n",
        "plt.show"
      ],
      "execution_count": 51,
      "outputs": [
        {
          "output_type": "execute_result",
          "data": {
            "text/plain": [
              "<function matplotlib.pyplot.show>"
            ]
          },
          "metadata": {
            "tags": []
          },
          "execution_count": 51
        },
        {
          "output_type": "display_data",
          "data": {
            "image/png": "[encoded data removed]",
            "text/plain": [
              "<Figure size 576x576 with 1 Axes>"
            ]
          },
          "metadata": {
            "tags": [],
            "needs_background": "light"
          }
        }
      ]
    },
    {
      "cell_type": "code",
      "metadata": {
        "colab": {
          "base_uri": "https://localhost:8080/"
        },
        "id": "FEzxJVdU8trA",
        "outputId": "0b05b103-9a8e-4aa0-f475-7b3e67060d68"
      },
      "source": [
        "V"
      ],
      "execution_count": 52,
      "outputs": [
        {
          "output_type": "execute_result",
          "data": {
            "text/plain": [
              "array([0.01362153, 0.01144634, 0.02081586, 0.01037763, 0.01609442,\n",
              "       0.        , 0.04070908, 0.        , 0.03473223, 0.0881362 ,\n",
              "       0.1420284 , 0.        , 0.        , 0.17579915, 0.43927396,\n",
              "       0.        ])"
            ]
          },
          "metadata": {
            "tags": []
          },
          "execution_count": 52
        }
      ]
    },
    {
      "cell_type": "markdown",
      "metadata": {
        "id": "CAJULJ1YuvKe"
      },
      "source": [
        "### 4. Obliczanie funkcji wartości akcji (Q):"
      ]
    },
    {
      "cell_type": "code",
      "metadata": {
        "id": "IjDMZUXNOR7g"
      },
      "source": [
        "def q_value(env, V, gamma, s):\n",
        "  q = np.zeros(n_actions)\n",
        "\n",
        "  for a in actions:\n",
        "    for p, s_, r, done in env.P[s][a]:\n",
        "        q[a] += p * (r + (gamma * V[s_]))\n",
        "  return q"
      ],
      "execution_count": 53,
      "outputs": []
    },
    {
      "cell_type": "code",
      "metadata": {
        "id": "6BI2jPteObvW"
      },
      "source": [
        "Q = np.zeros([n_states, n_actions])\n",
        "\n",
        "for s in states:\n",
        "  Q[s] = q_value(env, V, gamma, s)"
      ],
      "execution_count": 54,
      "outputs": []
    },
    {
      "cell_type": "code",
      "metadata": {
        "colab": {
          "base_uri": "https://localhost:8080/"
        },
        "id": "ld_LJjRgQ5g0",
        "outputId": "dd041e3b-1e86-4295-aef6-d714e8316892"
      },
      "source": [
        "Q"
      ],
      "execution_count": 55,
      "outputs": [
        {
          "output_type": "execute_result",
          "data": {
            "text/plain": [
              "array([[0.01444582, 0.01372076, 0.01372076, 0.01289647],\n",
              "       [0.00835596, 0.01147913, 0.01075407, 0.01529458],\n",
              "       [0.02432376, 0.02084435, 0.02396752, 0.01421328],\n",
              "       [0.01039783, 0.01039783, 0.00691842, 0.01385704],\n",
              "       [0.02148272, 0.01694221, 0.01611792, 0.00990532],\n",
              "       [0.        , 0.        , 0.        , 0.        ],\n",
              "       [0.05428142, 0.0473428 , 0.05428142, 0.00693862],\n",
              "       [0.        , 0.        , 0.        , 0.        ],\n",
              "       [0.01694221, 0.04095614, 0.03474354, 0.04632095],\n",
              "       [0.07017713, 0.11751993, 0.10594252, 0.05892021],\n",
              "       [0.18937308, 0.17580339, 0.15999435, 0.04294843],\n",
              "       [0.        , 0.        , 0.        , 0.        ],\n",
              "       [0.        , 0.        , 0.        , 0.        ],\n",
              "       [0.08797845, 0.20502437, 0.23440311, 0.17580339],\n",
              "       [0.25236717, 0.53835771, 0.52710079, 0.43927585],\n",
              "       [0.        , 0.        , 0.        , 0.        ]])"
            ]
          },
          "metadata": {
            "tags": []
          },
          "execution_count": 55
        }
      ]
    },
    {
      "cell_type": "code",
      "metadata": {
        "colab": {
          "base_uri": "https://localhost:8080/"
        },
        "id": "jMKZTEaezHj3",
        "outputId": "94cda82e-303f-49a7-d7de-144a5887acb9"
      },
      "source": [
        "Q.shape"
      ],
      "execution_count": 56,
      "outputs": [
        {
          "output_type": "execute_result",
          "data": {
            "text/plain": [
              "(16, 4)"
            ]
          },
          "metadata": {
            "tags": []
          },
          "execution_count": 56
        }
      ]
    },
    {
      "cell_type": "code",
      "metadata": {
        "colab": {
          "base_uri": "https://localhost:8080/",
          "height": 607
        },
        "id": "siAPwLOtz7zt",
        "outputId": "631b86c9-9c7c-4a45-bd79-ba8fc5be60c8"
      },
      "source": [
        "plt.figure(figsize=(4, 10))\n",
        "sns.heatmap(Q, cmap=\"Greens\", annot=True, cbar=False)\n",
        "plt.title(\"Q VALUE\")\n",
        "plt.show()"
      ],
      "execution_count": 57,
      "outputs": [
        {
          "output_type": "display_data",
          "data": {
            "image/png": "[encoded data removed]",
            "text/plain": [
              "<Figure size 288x720 with 1 Axes>"
            ]
          },
          "metadata": {
            "tags": [],
            "needs_background": "light"
          }
        }
      ]
    },
    {
      "cell_type": "code",
      "metadata": {
        "colab": {
          "base_uri": "https://localhost:8080/"
        },
        "id": "tnQwAZNj067h",
        "outputId": "1b8f35d2-af83-4a07-8744-9e11a75f50f4"
      },
      "source": [
        "env.P[14]"
      ],
      "execution_count": 58,
      "outputs": [
        {
          "output_type": "execute_result",
          "data": {
            "text/plain": [
              "{0: [(0.3333333333333333, 10, 0.0, False),\n",
              "  (0.3333333333333333, 13, 0.0, False),\n",
              "  (0.3333333333333333, 14, 0.0, False)],\n",
              " 1: [(0.3333333333333333, 13, 0.0, False),\n",
              "  (0.3333333333333333, 14, 0.0, False),\n",
              "  (0.3333333333333333, 15, 1.0, True)],\n",
              " 2: [(0.3333333333333333, 14, 0.0, False),\n",
              "  (0.3333333333333333, 15, 1.0, True),\n",
              "  (0.3333333333333333, 10, 0.0, False)],\n",
              " 3: [(0.3333333333333333, 15, 1.0, True),\n",
              "  (0.3333333333333333, 10, 0.0, False),\n",
              "  (0.3333333333333333, 13, 0.0, False)]}"
            ]
          },
          "metadata": {
            "tags": []
          },
          "execution_count": 58
        }
      ]
    },
    {
      "cell_type": "code",
      "metadata": {
        "colab": {
          "base_uri": "https://localhost:8080/"
        },
        "id": "BrRHH4kv1LYp",
        "outputId": "a4c1439e-e169-4829-fc44-e52028d4918f"
      },
      "source": [
        "env.render()"
      ],
      "execution_count": 59,
      "outputs": [
        {
          "output_type": "stream",
          "text": [
            "\n",
            "\u001b[41mS\u001b[0mFFF\n",
            "FHFH\n",
            "FFFH\n",
            "HFFG\n"
          ],
          "name": "stdout"
        }
      ]
    },
    {
      "cell_type": "code",
      "metadata": {
        "colab": {
          "base_uri": "https://localhost:8080/",
          "height": 624
        },
        "id": "fmdE1Tu41Q0V",
        "outputId": "77a9b8b1-6b5e-4cab-e6e9-05626476d222"
      },
      "source": [
        "fig, ax = plt.subplots(1,2, figsize=(8, 10))\n",
        "sns.heatmap(V.reshape(16, 1), cmap=\"Blues\", annot=True, cbar=False, ax=ax[0])\n",
        "ax[0].set_title('V VALUE')\n",
        "sns.heatmap(Q, cmap=\"Greens\", annot=True, cbar=False, ax=ax[1])\n",
        "ax[1].set_title('Q VALUE')\n",
        "plt.show"
      ],
      "execution_count": 60,
      "outputs": [
        {
          "output_type": "execute_result",
          "data": {
            "text/plain": [
              "<function matplotlib.pyplot.show>"
            ]
          },
          "metadata": {
            "tags": []
          },
          "execution_count": 60
        },
        {
          "output_type": "display_data",
          "data": {
            "image/png": "[encoded data removed]",
            "text/plain": [
              "<Figure size 576x720 with 2 Axes>"
            ]
          },
          "metadata": {
            "tags": [],
            "needs_background": "light"
          }
        }
      ]
    },
    {
      "cell_type": "markdown",
      "metadata": {
        "id": "gZ3CdFsB3zAq"
      },
      "source": [
        "### 5. Algorytm Iteracji Polityki (Policy Iteration)"
      ]
    },
    {
      "cell_type": "code",
      "metadata": {
        "id": "TsvrDjwQ6Ipk"
      },
      "source": [
        "V = np.zeros(n_states)\n",
        "Q = np.zeros([n_states, n_actions])\n",
        "policy = initialize_policy(n_states, n_actions)\n",
        "gamma = 1\n",
        "theta = 0.0001"
      ],
      "execution_count": 61,
      "outputs": []
    },
    {
      "cell_type": "code",
      "metadata": {
        "id": "rcJKEAyLP3iS"
      },
      "source": [
        "def policy_evaluation(env, policy, gamma, theta):\n",
        "  V = np.zeros(n_states)\n",
        "  delta = float('inf')\n",
        "\n",
        "  while delta > theta:\n",
        "        \n",
        "      delta = 0\n",
        "        \n",
        "      for s in states:           \n",
        "          v = 0\n",
        "          for a, p_a in enumerate(policy[s]):\n",
        "              for p, s_, r, done in env.P[s][a]: \n",
        "                  v += p_a * p * (r + gamma * V[s_])\n",
        "                    \n",
        "          delta = max(delta, abs(v - V[s]))\n",
        "            \n",
        "          V[s] = v\n",
        "        \n",
        "  return V"
      ],
      "execution_count": 62,
      "outputs": []
    },
    {
      "cell_type": "code",
      "metadata": {
        "id": "ZzlymAs5OsxM"
      },
      "source": [
        "def q_function(env, V, s, gamma):\n",
        "    q = np.zeros(n_actions)\n",
        "         \n",
        "    for a in actions:\n",
        "        for p, s_, r, done in env.P[s][a]:\n",
        "            q[a] += p * (r + gamma * V[s_])\n",
        "    \n",
        "    return q"
      ],
      "execution_count": 63,
      "outputs": []
    },
    {
      "cell_type": "code",
      "metadata": {
        "id": "x6m7g7CjOlSA"
      },
      "source": [
        "def policy_improvement(env, V, gamma):\n",
        "\n",
        "    policy = np.zeros([n_states, n_actions])   \n",
        "    \n",
        "    for s in states:\n",
        "        \n",
        "        q = q_function(env, V, s, gamma)        \n",
        "        \n",
        "        policy[s][np.argmax(q)] = 1\n",
        "    \n",
        "    return policy"
      ],
      "execution_count": 64,
      "outputs": []
    },
    {
      "cell_type": "code",
      "metadata": {
        "id": "cN-cun0NG1Vk"
      },
      "source": [
        "def policy_iteration(env, gamma, theta):\n",
        "    \n",
        "    policy = initialize_policy(n_states, n_actions)\n",
        "    \n",
        "    while True:\n",
        "\n",
        "        V = policy_evaluation(env, policy, gamma, theta)\n",
        "        \n",
        "        next_policy = policy_improvement(env, V, gamma)\n",
        "        \n",
        "        delta = policy - next_policy\n",
        "        \n",
        "        policy = next_policy\n",
        "        \n",
        "        if delta.all() < theta:\n",
        "            break\n",
        "    \n",
        "    return policy, V"
      ],
      "execution_count": 65,
      "outputs": []
    },
    {
      "cell_type": "code",
      "metadata": {
        "id": "l99AlfrxEWKl"
      },
      "source": [
        "policy_pi, V_pi = policy_iteration(env, gamma, theta)"
      ],
      "execution_count": 66,
      "outputs": []
    },
    {
      "cell_type": "code",
      "metadata": {
        "colab": {
          "base_uri": "https://localhost:8080/"
        },
        "id": "DFG_ushtcmIV",
        "outputId": "4562f30c-8463-467c-c4de-4f8e8165013f"
      },
      "source": [
        "policy_pi"
      ],
      "execution_count": 67,
      "outputs": [
        {
          "output_type": "execute_result",
          "data": {
            "text/plain": [
              "array([[1., 0., 0., 0.],\n",
              "       [0., 0., 0., 1.],\n",
              "       [0., 0., 0., 1.],\n",
              "       [0., 0., 0., 1.],\n",
              "       [1., 0., 0., 0.],\n",
              "       [1., 0., 0., 0.],\n",
              "       [1., 0., 0., 0.],\n",
              "       [1., 0., 0., 0.],\n",
              "       [0., 0., 0., 1.],\n",
              "       [0., 1., 0., 0.],\n",
              "       [1., 0., 0., 0.],\n",
              "       [1., 0., 0., 0.],\n",
              "       [1., 0., 0., 0.],\n",
              "       [0., 0., 1., 0.],\n",
              "       [0., 1., 0., 0.],\n",
              "       [1., 0., 0., 0.]])"
            ]
          },
          "metadata": {
            "tags": []
          },
          "execution_count": 67
        }
      ]
    },
    {
      "cell_type": "code",
      "metadata": {
        "colab": {
          "base_uri": "https://localhost:8080/"
        },
        "id": "UWB2urKhcoZM",
        "outputId": "7281325d-8fd1-43a5-d809-98519bd98fcf"
      },
      "source": [
        "V_pi"
      ],
      "execution_count": 68,
      "outputs": [
        {
          "output_type": "execute_result",
          "data": {
            "text/plain": [
              "array([0.77827429, 0.65672395, 0.53530858, 0.53518635, 0.77855224,\n",
              "       0.        , 0.41397766, 0.        , 0.77898058, 0.77951717,\n",
              "       0.70665339, 0.        , 0.        , 0.85297635, 0.92648056,\n",
              "       0.        ])"
            ]
          },
          "metadata": {
            "tags": []
          },
          "execution_count": 68
        }
      ]
    },
    {
      "cell_type": "code",
      "metadata": {
        "colab": {
          "base_uri": "https://localhost:8080/",
          "height": 621
        },
        "id": "WziCLBolcx7d",
        "outputId": "874f0ff8-27bc-4de8-cd6d-f8455a940724"
      },
      "source": [
        "plt.figure(figsize=(4, 10))\n",
        "sns.heatmap(policy_pi, cmap=\"Blues\", annot=True, cbar=False)\n",
        "plt.title(\"POLICY PI\")\n",
        "plt.xlabel(\"Actions\")\n",
        "plt.ylabel(\"States\")\n",
        "plt.show()"
      ],
      "execution_count": 69,
      "outputs": [
        {
          "output_type": "display_data",
          "data": {
            "image/png": "[encoded data removed]",
            "text/plain": [
              "<Figure size 288x720 with 1 Axes>"
            ]
          },
          "metadata": {
            "tags": [],
            "needs_background": "light"
          }
        }
      ]
    },
    {
      "cell_type": "code",
      "metadata": {
        "colab": {
          "base_uri": "https://localhost:8080/",
          "height": 500
        },
        "id": "hOD815_pcx_G",
        "outputId": "68c68a62-bb67-4a08-a377-cdc248d021e6"
      },
      "source": [
        "plt.figure(figsize=(8, 8))\n",
        "sns.heatmap(V_pi.reshape(4, 4), cmap=\"Blues\", annot=True, cbar=False)\n",
        "plt.show"
      ],
      "execution_count": 70,
      "outputs": [
        {
          "output_type": "execute_result",
          "data": {
            "text/plain": [
              "<function matplotlib.pyplot.show>"
            ]
          },
          "metadata": {
            "tags": []
          },
          "execution_count": 70
        },
        {
          "output_type": "display_data",
          "data": {
            "image/png": "[encoded data removed]",
            "text/plain": [
              "<Figure size 576x576 with 1 Axes>"
            ]
          },
          "metadata": {
            "tags": [],
            "needs_background": "light"
          }
        }
      ]
    },
    {
      "cell_type": "markdown",
      "metadata": {
        "id": "V5hPClK6dTsK"
      },
      "source": [
        "### 6. Algorytm Iteracji Funkcji Wartości (Value Iteration)"
      ]
    },
    {
      "cell_type": "code",
      "metadata": {
        "id": "q6vurZf-BrqH"
      },
      "source": [
        "def value_iteration(env, gamma=1, theta=1e-8):\n",
        "\n",
        "    V = np.zeros(n_states)\n",
        "    \n",
        "    while True:\n",
        "        \n",
        "        delta = 0    \n",
        "       \n",
        "        for s in states:\n",
        "                     \n",
        "            v = V[s]\n",
        "            \n",
        "            q = q_function(env, V, s, gamma)\n",
        "            \n",
        "            V[s] = max(q)\n",
        "            \n",
        "            delta = max(delta, abs(V[s] - v))    \n",
        "\n",
        "        if delta < theta:\n",
        "            break\n",
        "            \n",
        "    policy = policy_improvement(env, V, gamma)   \n",
        "    \n",
        "    return policy, V"
      ],
      "execution_count": 71,
      "outputs": []
    },
    {
      "cell_type": "code",
      "metadata": {
        "id": "xphsJuSO_Sri"
      },
      "source": [
        "policy_vi, V_vi = value_iteration(env, gamma, theta)"
      ],
      "execution_count": 72,
      "outputs": []
    },
    {
      "cell_type": "code",
      "metadata": {
        "colab": {
          "base_uri": "https://localhost:8080/"
        },
        "id": "lfkDO4-LCXH3",
        "outputId": "4bfa48ba-8537-4ba8-bca5-3cd6dd0c680d"
      },
      "source": [
        "policy_vi"
      ],
      "execution_count": 73,
      "outputs": [
        {
          "output_type": "execute_result",
          "data": {
            "text/plain": [
              "array([[1., 0., 0., 0.],\n",
              "       [0., 0., 0., 1.],\n",
              "       [0., 0., 0., 1.],\n",
              "       [0., 0., 0., 1.],\n",
              "       [1., 0., 0., 0.],\n",
              "       [1., 0., 0., 0.],\n",
              "       [1., 0., 0., 0.],\n",
              "       [1., 0., 0., 0.],\n",
              "       [0., 0., 0., 1.],\n",
              "       [0., 1., 0., 0.],\n",
              "       [1., 0., 0., 0.],\n",
              "       [1., 0., 0., 0.],\n",
              "       [1., 0., 0., 0.],\n",
              "       [0., 0., 1., 0.],\n",
              "       [0., 1., 0., 0.],\n",
              "       [1., 0., 0., 0.]])"
            ]
          },
          "metadata": {
            "tags": []
          },
          "execution_count": 73
        }
      ]
    },
    {
      "cell_type": "code",
      "metadata": {
        "colab": {
          "base_uri": "https://localhost:8080/"
        },
        "id": "SU1_UHkLCXKn",
        "outputId": "eb14fb9c-969f-4588-89e8-4237d4f9349c"
      },
      "source": [
        "V_vi"
      ],
      "execution_count": 74,
      "outputs": [
        {
          "output_type": "execute_result",
          "data": {
            "text/plain": [
              "array([0.82182145, 0.82126109, 0.82087163, 0.82067347, 0.82199325,\n",
              "       0.        , 0.52824715, 0.        , 0.82226231, 0.82260733,\n",
              "       0.76389785, 0.        , 0.        , 0.88171208, 0.94085038,\n",
              "       0.        ])"
            ]
          },
          "metadata": {
            "tags": []
          },
          "execution_count": 74
        }
      ]
    },
    {
      "cell_type": "code",
      "metadata": {
        "colab": {
          "base_uri": "https://localhost:8080/",
          "height": 606
        },
        "id": "Lo0HEBFo_SuS",
        "outputId": "74137ed4-5301-4621-959e-a69cb0124c03"
      },
      "source": [
        "plt.figure(figsize=(4, 10))\n",
        "sns.heatmap(policy_vi, cmap=\"Blues\", annot=True, cbar=False)\n",
        "plt.xlabel(\"Actions\")\n",
        "plt.ylabel(\"States\")\n",
        "plt.show()"
      ],
      "execution_count": 75,
      "outputs": [
        {
          "output_type": "display_data",
          "data": {
            "image/png": "[encoded data removed]",
            "text/plain": [
              "<Figure size 288x720 with 1 Axes>"
            ]
          },
          "metadata": {
            "tags": [],
            "needs_background": "light"
          }
        }
      ]
    },
    {
      "cell_type": "code",
      "metadata": {
        "colab": {
          "base_uri": "https://localhost:8080/",
          "height": 497
        },
        "id": "0Vzj_EipFKAT",
        "outputId": "55a28b69-f9cf-4779-84ae-6a9a4a5e5fae"
      },
      "source": [
        "plt.figure(figsize=(8, 8))\n",
        "sns.heatmap(V_vi.reshape(4, 4), cmap=\"Blues\", annot=True, cbar=False)\n",
        "plt.xlabel(\"Actions\")\n",
        "plt.ylabel(\"States\")\n",
        "plt.show()"
      ],
      "execution_count": 76,
      "outputs": [
        {
          "output_type": "display_data",
          "data": {
            "image/png": "[encoded data removed]",
            "text/plain": [
              "<Figure size 576x576 with 1 Axes>"
            ]
          },
          "metadata": {
            "tags": [],
            "needs_background": "light"
          }
        }
      ]
    },
    {
      "cell_type": "code",
      "metadata": {
        "colab": {
          "base_uri": "https://localhost:8080/",
          "height": 624
        },
        "id": "2x14_l3ve7Eb",
        "outputId": "67fc7456-36e1-462d-a6ac-cce98ece409e"
      },
      "source": [
        "fig, ax = plt.subplots(1,3, figsize=(12, 10))\n",
        "sns.heatmap(policy, cmap=\"Blues\", annot=True, cbar=False, ax=ax[0])\n",
        "ax[0].set_title('POLICY - RANDOM')\n",
        "sns.heatmap(policy_pi, cmap=\"Blues\", annot=True, cbar=False, ax=ax[1])\n",
        "ax[1].set_title('POLICY - PI')\n",
        "sns.heatmap(policy_vi, cmap=\"Blues\", annot=True, cbar=False, ax=ax[2])\n",
        "ax[2].set_title('POLICY - VI')\n",
        "plt.show"
      ],
      "execution_count": 77,
      "outputs": [
        {
          "output_type": "execute_result",
          "data": {
            "text/plain": [
              "<function matplotlib.pyplot.show>"
            ]
          },
          "metadata": {
            "tags": []
          },
          "execution_count": 77
        },
        {
          "output_type": "display_data",
          "data": {
            "image/png": "[encoded data removed]",
            "text/plain": [
              "<Figure size 864x720 with 3 Axes>"
            ]
          },
          "metadata": {
            "tags": [],
            "needs_background": "light"
          }
        }
      ]
    },
    {
      "cell_type": "code",
      "metadata": {
        "colab": {
          "base_uri": "https://localhost:8080/",
          "height": 516
        },
        "id": "vfrIcOTrfI3O",
        "outputId": "c1003443-7fb0-4c31-d784-580b6b4bd27b"
      },
      "source": [
        "fig, ax = plt.subplots(1,3, figsize=(24, 8))\n",
        "sns.heatmap(V_e.reshape(4, 4), cmap=\"Blues\", annot=True, cbar=False, ax=ax[0])\n",
        "ax[0].set_title('V - RANDOM')\n",
        "sns.heatmap(V_pi.reshape(4, 4), cmap=\"Blues\", annot=True, cbar=False, ax=ax[1])\n",
        "ax[1].set_title('V - PI')\n",
        "sns.heatmap(V_vi.reshape(4, 4), cmap=\"Blues\", annot=True, cbar=False, ax=ax[2])\n",
        "ax[2].set_title('V - VI')\n",
        "plt.show"
      ],
      "execution_count": 80,
      "outputs": [
        {
          "output_type": "execute_result",
          "data": {
            "text/plain": [
              "<function matplotlib.pyplot.show>"
            ]
          },
          "metadata": {
            "tags": []
          },
          "execution_count": 80
        },
        {
          "output_type": "display_data",
          "data": {
            "image/png": "[encoded data removed]",
            "text/plain": [
              "<Figure size 1728x576 with 3 Axes>"
            ]
          },
          "metadata": {
            "tags": [],
            "needs_background": "light"
          }
        }
      ]
    },
    {
      "cell_type": "code",
      "metadata": {
        "id": "iIK-zFKa9DQO"
      },
      "source": [
        "# Źródła:\n",
        "# [1] Richard S. Sutton, Andrew G. Barto, \"Reinforcement Learning: An Introduction\", second edition, The MIT Press, Cambridge, Massachusetts, London, England, 2018, s. 80, s. 83\n",
        "# [2] Udacity, Machine Learning Nanodegree, \"Dynamic Programming Mini Project\""
      ],
      "execution_count": 81,
      "outputs": []
    }
  ]
}