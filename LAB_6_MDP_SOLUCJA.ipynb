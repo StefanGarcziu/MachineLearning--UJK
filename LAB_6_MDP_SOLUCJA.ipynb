{
  "nbformat": 4,
  "nbformat_minor": 0,
  "metadata": {
    "colab": {
      "name": "LAB_6_MDP_SOLUCJA.ipynb",
      "provenance": [],
      "collapsed_sections": []
    },
    "kernelspec": {
      "name": "python3",
      "display_name": "Python 3"
    }
  },
  "cells": [
    {
      "cell_type": "markdown",
      "metadata": {
        "id": "cNx5HtYkqivz"
      },
      "source": [
        "### **Uczenie Maszynowe, Laboratoria 6 - MDP**\n",
        "### - biblioteka MDP, tworzenie MDP wraz z wizualizacją\n",
        "\n",
        "\n",
        "\n",
        "---\n",
        "\n",
        "\n",
        "*Aut. skryptu: Agnieszka Łysak, 19.04.2021*"
      ]
    },
    {
      "cell_type": "code",
      "metadata": {
        "id": "Q-cBAnFmE-kP"
      },
      "source": [
        "import sys, os\n",
        "if 'google.colab' in sys.modules and not os.path.exists('.setup_complete'):\n",
        "    !wget -q https://raw.githubusercontent.com/yandexdataschool/Practical_RL/coursera/week2_model_based/mdp.py"
      ],
      "execution_count": 1,
      "outputs": []
    },
    {
      "cell_type": "code",
      "metadata": {
        "id": "y9ih63zXKd_j"
      },
      "source": [
        "transition_probs = {\n",
        "    's0': {\n",
        "        'a0': {'s0': 0.5, 's2': 0.5},\n",
        "        'a1': {'s2': 1}\n",
        "    },\n",
        "    's1': {\n",
        "        'a0': {'s0': 0.7, 's1': 0.1, 's2': 0.2},\n",
        "        'a1': {'s1': 0.95, 's2': 0.05}\n",
        "    },\n",
        "    's2': {\n",
        "        'a0': {'s0': 0.4, 's2': 0.6},\n",
        "        'a1': {'s0': 0.3, 's1': 0.3, 's2': 0.4}\n",
        "    }\n",
        "}\n",
        "rewards = {\n",
        "    's1': {'a0': {'s0': +5}},\n",
        "    's2': {'a1': {'s0': -1}},\n",
        "}\n",
        "\n",
        "from mdp import MDP\n",
        "mdp = MDP(transition_probs, rewards, initial_state='s0')"
      ],
      "execution_count": 2,
      "outputs": []
    },
    {
      "cell_type": "code",
      "metadata": {
        "colab": {
          "base_uri": "https://localhost:8080/",
          "height": 35
        },
        "id": "I-7RfFT8LMjC",
        "outputId": "b940adb3-554f-4d52-d823-47521068eac2"
      },
      "source": [
        "mdp.reset()"
      ],
      "execution_count": 11,
      "outputs": [
        {
          "output_type": "execute_result",
          "data": {
            "application/vnd.google.colaboratory.intrinsic+json": {
              "type": "string"
            },
            "text/plain": [
              "'s0'"
            ]
          },
          "metadata": {
            "tags": []
          },
          "execution_count": 11
        }
      ]
    },
    {
      "cell_type": "code",
      "metadata": {
        "colab": {
          "base_uri": "https://localhost:8080/"
        },
        "id": "bUfKScimuoeC",
        "outputId": "53a09964-419d-4ecf-ae08-31a7f3f96fbd"
      },
      "source": [
        "next_state, reward, done, info = mdp.step('a1')\n",
        "print(next_state, reward, done, info)"
      ],
      "execution_count": 13,
      "outputs": [
        {
          "output_type": "stream",
          "text": [
            "s1 0.0 False {}\n"
          ],
          "name": "stdout"
        }
      ]
    },
    {
      "cell_type": "code",
      "metadata": {
        "colab": {
          "base_uri": "https://localhost:8080/"
        },
        "id": "wgM8z4wZuvYB",
        "outputId": "91676b82-e1a1-4fa8-b4f6-912eae6cc699"
      },
      "source": [
        "mdp.get_all_states()"
      ],
      "execution_count": 15,
      "outputs": [
        {
          "output_type": "execute_result",
          "data": {
            "text/plain": [
              "('s0', 's1', 's2')"
            ]
          },
          "metadata": {
            "tags": []
          },
          "execution_count": 15
        }
      ]
    },
    {
      "cell_type": "code",
      "metadata": {
        "colab": {
          "base_uri": "https://localhost:8080/"
        },
        "id": "wbt63nWcuzAh",
        "outputId": "17dc6e2a-6cbb-4069-b37b-6acafad64d04"
      },
      "source": [
        "mdp.get_possible_actions('s1')"
      ],
      "execution_count": 16,
      "outputs": [
        {
          "output_type": "execute_result",
          "data": {
            "text/plain": [
              "('a0', 'a1')"
            ]
          },
          "metadata": {
            "tags": []
          },
          "execution_count": 16
        }
      ]
    },
    {
      "cell_type": "code",
      "metadata": {
        "colab": {
          "base_uri": "https://localhost:8080/"
        },
        "id": "At29ZYvbu01F",
        "outputId": "2f733c9a-91f8-4672-fcdd-ddf89d8da82d"
      },
      "source": [
        "mdp.get_next_states('s1', 'a0')"
      ],
      "execution_count": 17,
      "outputs": [
        {
          "output_type": "execute_result",
          "data": {
            "text/plain": [
              "{'s0': 0.7, 's1': 0.1, 's2': 0.2}"
            ]
          },
          "metadata": {
            "tags": []
          },
          "execution_count": 17
        }
      ]
    },
    {
      "cell_type": "code",
      "metadata": {
        "colab": {
          "base_uri": "https://localhost:8080/"
        },
        "id": "MGRxkukou3HJ",
        "outputId": "b0056a24-5f7d-4fcf-ac7e-062e6f7fec02"
      },
      "source": [
        "mdp.get_reward('s1', 'a0', 's0')"
      ],
      "execution_count": 18,
      "outputs": [
        {
          "output_type": "execute_result",
          "data": {
            "text/plain": [
              "5"
            ]
          },
          "metadata": {
            "tags": []
          },
          "execution_count": 18
        }
      ]
    },
    {
      "cell_type": "code",
      "metadata": {
        "colab": {
          "base_uri": "https://localhost:8080/"
        },
        "id": "V6cZfyERu4Zk",
        "outputId": "6bf71c1e-e22b-4b84-e330-4052c5c0dfe0"
      },
      "source": [
        "mdp.get_transition_prob('s1', 'a0', 's0')"
      ],
      "execution_count": 19,
      "outputs": [
        {
          "output_type": "execute_result",
          "data": {
            "text/plain": [
              "0.7"
            ]
          },
          "metadata": {
            "tags": []
          },
          "execution_count": 19
        }
      ]
    },
    {
      "cell_type": "code",
      "metadata": {
        "id": "UoygVJQtOh7j",
        "colab": {
          "base_uri": "https://localhost:8080/",
          "height": 322
        },
        "outputId": "f21c0947-3da1-487a-8673-22e183e01a3c"
      },
      "source": [
        "from mdp import has_graphviz\n",
        "from IPython.display import display\n",
        "\n",
        "if has_graphviz:\n",
        "    from mdp import plot_graph\n",
        "    display(plot_graph(mdp))"
      ],
      "execution_count": 20,
      "outputs": [
        {
          "output_type": "display_data",
          "data": {
            "text/plain": [
              "<graphviz.dot.Digraph at 0x7fb613072b50>"
            ],
            "image/svg+xml": "<?xml version=\"1.0\" encoding=\"UTF-8\" standalone=\"no\"?>\n<!DOCTYPE svg PUBLIC \"-//W3C//DTD SVG 1.1//EN\"\n \"http://www.w3.org/Graphics/SVG/1.1/DTD/svg11.dtd\">\n<!-- Generated by graphviz version 2.40.1 (20161225.0304)\n -->\n<!-- Title: MDP Pages: 1 -->\n<svg width=\"720pt\" height=\"226pt\"\n viewBox=\"0.00 0.00 720.00 225.64\" xmlns=\"http://www.w3.org/2000/svg\" xmlns:xlink=\"http://www.w3.org/1999/xlink\">\n<g id=\"graph0\" class=\"graph\" transform=\"scale(.7008 .7008) rotate(0) translate(4 318)\">\n<title>MDP</title>\n<polygon fill=\"#ffffff\" stroke=\"transparent\" points=\"-4,4 -4,-318 1023.463,-318 1023.463,4 -4,4\"/>\n<!-- s0 -->\n<g id=\"node1\" class=\"node\">\n<title>s0</title>\n<ellipse fill=\"#85ff75\" stroke=\"#85ff75\" cx=\"40\" cy=\"-116\" rx=\"36\" ry=\"36\"/>\n<ellipse fill=\"none\" stroke=\"#85ff75\" cx=\"40\" cy=\"-116\" rx=\"40\" ry=\"40\"/>\n<text text-anchor=\"middle\" x=\"40\" y=\"-109.8\" font-family=\"Arial\" font-size=\"24.00\" fill=\"#000000\">s0</text>\n</g>\n<!-- s0&#45;a0 -->\n<g id=\"node2\" class=\"node\">\n<title>s0&#45;a0</title>\n<ellipse fill=\"#ffb6c1\" stroke=\"#ffb6c1\" cx=\"193.5772\" cy=\"-160\" rx=\"27.6545\" ry=\"27.6545\"/>\n<text text-anchor=\"middle\" x=\"193.5772\" y=\"-155\" font-family=\"Arial\" font-size=\"20.00\" fill=\"#000000\">a0</text>\n</g>\n<!-- s0&#45;&gt;s0&#45;a0 -->\n<g id=\"edge1\" class=\"edge\">\n<title>s0&#45;&gt;s0&#45;a0</title>\n<path fill=\"none\" stroke=\"#ff0000\" stroke-width=\"2\" d=\"M79.2844,-124.7026C99.8974,-129.5498 125.4811,-136.0095 148,-143 151.327,-144.0328 154.7652,-145.1741 158.1924,-146.3622\"/>\n<polygon fill=\"#ff0000\" stroke=\"#ff0000\" stroke-width=\"2\" points=\"157.1257,-149.698 167.7202,-149.7831 159.4912,-143.1097 157.1257,-149.698\"/>\n</g>\n<!-- s0&#45;a1 -->\n<g id=\"node4\" class=\"node\">\n<title>s0&#45;a1</title>\n<ellipse fill=\"#ffb6c1\" stroke=\"#ffb6c1\" cx=\"193.5772\" cy=\"-233\" rx=\"27.6545\" ry=\"27.6545\"/>\n<text text-anchor=\"middle\" x=\"193.5772\" y=\"-228\" font-family=\"Arial\" font-size=\"20.00\" fill=\"#000000\">a1</text>\n</g>\n<!-- s0&#45;&gt;s0&#45;a1 -->\n<g id=\"edge4\" class=\"edge\">\n<title>s0&#45;&gt;s0&#45;a1</title>\n<path fill=\"none\" stroke=\"#ff0000\" stroke-width=\"2\" d=\"M66.6878,-145.9984C76.104,-155.7862 87.0765,-166.3514 98,-175 117.3546,-190.324 141.0693,-204.7377 160.0344,-215.3632\"/>\n<polygon fill=\"#ff0000\" stroke=\"#ff0000\" stroke-width=\"2\" points=\"158.4757,-218.5005 168.923,-220.2624 161.8547,-212.37 158.4757,-218.5005\"/>\n</g>\n<!-- s0&#45;a0&#45;&gt;s0 -->\n<g id=\"edge2\" class=\"edge\">\n<title>s0&#45;a0&#45;&gt;s0</title>\n<path fill=\"none\" stroke=\"#0000ff\" stroke-dasharray=\"5,2\" d=\"M166.0433,-155.6398C146.7591,-152.2473 120.5165,-146.9481 98,-140 94.1846,-138.8227 90.2733,-137.4907 86.3715,-136.0724\"/>\n<polygon fill=\"#0000ff\" stroke=\"#0000ff\" points=\"87.3439,-132.6975 76.753,-132.4084 84.852,-139.239 87.3439,-132.6975\"/>\n<text text-anchor=\"middle\" x=\"123\" y=\"-158.2\" font-family=\"Arial\" font-size=\"16.00\" fill=\"#000000\">p = 0.5</text>\n</g>\n<!-- s2 -->\n<g id=\"node3\" class=\"node\">\n<title>s2</title>\n<ellipse fill=\"#85ff75\" stroke=\"#85ff75\" cx=\"433.1543\" cy=\"-183\" rx=\"36\" ry=\"36\"/>\n<ellipse fill=\"none\" stroke=\"#85ff75\" cx=\"433.1543\" cy=\"-183\" rx=\"40\" ry=\"40\"/>\n<text text-anchor=\"middle\" x=\"433.1543\" y=\"-176.8\" font-family=\"Arial\" font-size=\"24.00\" fill=\"#000000\">s2</text>\n</g>\n<!-- s0&#45;a0&#45;&gt;s2 -->\n<g id=\"edge3\" class=\"edge\">\n<title>s0&#45;a0&#45;&gt;s2</title>\n<path fill=\"none\" stroke=\"#0000ff\" stroke-dasharray=\"5,2\" d=\"M221.0597,-162.6384C260.5326,-166.4279 333.9353,-173.4747 383.1716,-178.2015\"/>\n<polygon fill=\"#0000ff\" stroke=\"#0000ff\" points=\"383.0017,-181.7012 393.2904,-179.173 383.6707,-174.7333 383.0017,-181.7012\"/>\n<text text-anchor=\"middle\" x=\"307.1543\" y=\"-182.2\" font-family=\"Arial\" font-size=\"16.00\" fill=\"#000000\">p = 0.5</text>\n</g>\n<!-- s2&#45;a0 -->\n<g id=\"node8\" class=\"node\">\n<title>s2&#45;a0</title>\n<ellipse fill=\"#ffb6c1\" stroke=\"#ffb6c1\" cx=\"666.7315\" cy=\"-162\" rx=\"27.6545\" ry=\"27.6545\"/>\n<text text-anchor=\"middle\" x=\"666.7315\" y=\"-157\" font-family=\"Arial\" font-size=\"20.00\" fill=\"#000000\">a0</text>\n</g>\n<!-- s2&#45;&gt;s2&#45;a0 -->\n<g id=\"edge13\" class=\"edge\">\n<title>s2&#45;&gt;s2&#45;a0</title>\n<path fill=\"none\" stroke=\"#ff0000\" stroke-width=\"2\" d=\"M473.2351,-186.9649C511.6217,-189.7355 570.9586,-191.3218 621.1543,-181 624.8123,-180.2478 628.5451,-179.2014 632.2213,-177.9828\"/>\n<polygon fill=\"#ff0000\" stroke=\"#ff0000\" stroke-width=\"2\" points=\"633.5825,-181.2107 641.7302,-174.4383 631.1375,-174.6516 633.5825,-181.2107\"/>\n</g>\n<!-- s2&#45;a1 -->\n<g id=\"node9\" class=\"node\">\n<title>s2&#45;a1</title>\n<ellipse fill=\"#ffb6c1\" stroke=\"#ffb6c1\" cx=\"666.7315\" cy=\"-80\" rx=\"27.6545\" ry=\"27.6545\"/>\n<text text-anchor=\"middle\" x=\"666.7315\" y=\"-75\" font-family=\"Arial\" font-size=\"20.00\" fill=\"#000000\">a1</text>\n</g>\n<!-- s2&#45;&gt;s2&#45;a1 -->\n<g id=\"edge16\" class=\"edge\">\n<title>s2&#45;&gt;s2&#45;a1</title>\n<path fill=\"none\" stroke=\"#ff0000\" stroke-width=\"2\" d=\"M467.3288,-161.7827C475.0423,-157.3286 483.2807,-152.8261 491.1543,-149 538.2751,-126.1024 595.0607,-104.8798 631.0354,-92.179\"/>\n<polygon fill=\"#ff0000\" stroke=\"#ff0000\" stroke-width=\"2\" points=\"632.3234,-95.4365 640.6049,-88.8284 630.0101,-88.8297 632.3234,-95.4365\"/>\n</g>\n<!-- s0&#45;a1&#45;&gt;s2 -->\n<g id=\"edge5\" class=\"edge\">\n<title>s0&#45;a1&#45;&gt;s2</title>\n<path fill=\"none\" stroke=\"#0000ff\" stroke-dasharray=\"5,2\" d=\"M221.1044,-228.5867C256.8082,-222.6933 320.9391,-211.5305 375.1543,-199 378.3093,-198.2708 381.5506,-197.4836 384.8112,-196.6631\"/>\n<polygon fill=\"#0000ff\" stroke=\"#0000ff\" points=\"385.7835,-200.0268 394.5834,-194.1266 384.0248,-193.2513 385.7835,-200.0268\"/>\n<text text-anchor=\"middle\" x=\"307.1543\" y=\"-230.2\" font-family=\"Arial\" font-size=\"16.00\" fill=\"#000000\">p = 1</text>\n</g>\n<!-- s1 -->\n<g id=\"node5\" class=\"node\">\n<title>s1</title>\n<ellipse fill=\"#85ff75\" stroke=\"#85ff75\" cx=\"829.3087\" cy=\"-116\" rx=\"36\" ry=\"36\"/>\n<ellipse fill=\"none\" stroke=\"#85ff75\" cx=\"829.3087\" cy=\"-116\" rx=\"40\" ry=\"40\"/>\n<text text-anchor=\"middle\" x=\"829.3087\" y=\"-109.8\" font-family=\"Arial\" font-size=\"24.00\" fill=\"#000000\">s1</text>\n</g>\n<!-- s1&#45;a0 -->\n<g id=\"node6\" class=\"node\">\n<title>s1&#45;a0</title>\n<ellipse fill=\"#ffb6c1\" stroke=\"#ffb6c1\" cx=\"991.8858\" cy=\"-92\" rx=\"27.6545\" ry=\"27.6545\"/>\n<text text-anchor=\"middle\" x=\"991.8858\" y=\"-87\" font-family=\"Arial\" font-size=\"20.00\" fill=\"#000000\">a0</text>\n</g>\n<!-- s1&#45;&gt;s1&#45;a0 -->\n<g id=\"edge6\" class=\"edge\">\n<title>s1&#45;&gt;s1&#45;a0</title>\n<path fill=\"none\" stroke=\"#ff0000\" stroke-width=\"2\" d=\"M869.2486,-112.1898C891.9249,-109.7844 920.7924,-106.3154 946.3087,-102 949.1542,-101.5187 952.0904,-100.9778 955.0369,-100.403\"/>\n<polygon fill=\"#ff0000\" stroke=\"#ff0000\" stroke-width=\"2\" points=\"955.889,-103.8011 964.9779,-98.3566 954.4775,-96.9449 955.889,-103.8011\"/>\n</g>\n<!-- s1&#45;a1 -->\n<g id=\"node7\" class=\"node\">\n<title>s1&#45;a1</title>\n<ellipse fill=\"#ffb6c1\" stroke=\"#ffb6c1\" cx=\"991.8858\" cy=\"-174\" rx=\"27.6545\" ry=\"27.6545\"/>\n<text text-anchor=\"middle\" x=\"991.8858\" y=\"-169\" font-family=\"Arial\" font-size=\"20.00\" fill=\"#000000\">a1</text>\n</g>\n<!-- s1&#45;&gt;s1&#45;a1 -->\n<g id=\"edge10\" class=\"edge\">\n<title>s1&#45;&gt;s1&#45;a1</title>\n<path fill=\"none\" stroke=\"#ff0000\" stroke-width=\"2\" d=\"M867.494,-127.948C890.4784,-135.3328 920.2423,-145.2373 946.3087,-155 949.8059,-156.3098 953.4327,-157.7241 957.0437,-159.1692\"/>\n<polygon fill=\"#ff0000\" stroke=\"#ff0000\" stroke-width=\"2\" points=\"955.8842,-162.4763 966.4653,-163.0165 958.5305,-155.9957 955.8842,-162.4763\"/>\n</g>\n<!-- s1&#45;a0&#45;&gt;s0 -->\n<g id=\"edge7\" class=\"edge\">\n<title>s1&#45;a0&#45;&gt;s0</title>\n<path fill=\"none\" stroke=\"#0000ff\" stroke-dasharray=\"5,2\" d=\"M972.3647,-72.0374C943.7154,-44.9794 887.3603,0 829.3087,0 193.5772,0 193.5772,0 193.5772,0 142.2271,0 97.1839,-41.8033 69.3807,-75.22\"/>\n<polygon fill=\"#0000ff\" stroke=\"#0000ff\" points=\"66.5993,-73.0932 63.0318,-83.0693 72.0419,-77.4953 66.5993,-73.0932\"/>\n<text text-anchor=\"middle\" x=\"556.1543\" y=\"-5.2\" font-family=\"Arial\" font-size=\"16.00\" fill=\"#000000\">p = 0.7 &#160;reward =5</text>\n</g>\n<!-- s1&#45;a0&#45;&gt;s2 -->\n<g id=\"edge9\" class=\"edge\">\n<title>s1&#45;a0&#45;&gt;s2</title>\n<path fill=\"none\" stroke=\"#0000ff\" stroke-dasharray=\"5,2\" d=\"M976.2683,-115.2719C972.0616,-122.1013 967.7329,-129.6999 964.3087,-137 953.7441,-159.5223 966.2691,-175.1526 946.3087,-190 783.9583,-310.7629 691.4414,-228.7477 491.1543,-200 487.8825,-199.5304 484.5378,-198.919 481.1875,-198.2077\"/>\n<polygon fill=\"#0000ff\" stroke=\"#0000ff\" points=\"481.7276,-194.7383 471.1878,-195.8166 480.0996,-201.5463 481.7276,-194.7383\"/>\n<text text-anchor=\"middle\" x=\"741.8087\" y=\"-258.2\" font-family=\"Arial\" font-size=\"16.00\" fill=\"#000000\">p = 0.2</text>\n</g>\n<!-- s1&#45;a0&#45;&gt;s1 -->\n<g id=\"edge8\" class=\"edge\">\n<title>s1&#45;a0&#45;&gt;s1</title>\n<path fill=\"none\" stroke=\"#0000ff\" stroke-dasharray=\"5,2\" d=\"M965.6405,-83.4352C944.2075,-77.7535 913.319,-72.584 887.3087,-80 881.5406,-81.6446 875.7864,-84.0459 870.2659,-86.8404\"/>\n<polygon fill=\"#0000ff\" stroke=\"#0000ff\" points=\"868.2815,-83.9387 861.2349,-91.8506 871.6774,-90.0599 868.2815,-83.9387\"/>\n<text text-anchor=\"middle\" x=\"916.8087\" y=\"-85.2\" font-family=\"Arial\" font-size=\"16.00\" fill=\"#000000\">p = 0.1</text>\n</g>\n<!-- s1&#45;a1&#45;&gt;s2 -->\n<g id=\"edge12\" class=\"edge\">\n<title>s1&#45;a1&#45;&gt;s2</title>\n<path fill=\"none\" stroke=\"#0000ff\" stroke-dasharray=\"5,2\" d=\"M979.9034,-198.873C972.2373,-211.8113 960.9673,-226.464 946.3087,-234 766.4005,-326.4912 679.6137,-307.5164 491.1543,-234 482.8044,-230.7427 474.8606,-225.7094 467.6802,-220.0496\"/>\n<polygon fill=\"#0000ff\" stroke=\"#0000ff\" points=\"469.5052,-217.0066 459.623,-213.1866 464.9661,-222.3354 469.5052,-217.0066\"/>\n<text text-anchor=\"middle\" x=\"741.8087\" y=\"-301.2\" font-family=\"Arial\" font-size=\"16.00\" fill=\"#000000\">p = 0.05</text>\n</g>\n<!-- s1&#45;a1&#45;&gt;s1 -->\n<g id=\"edge11\" class=\"edge\">\n<title>s1&#45;a1&#45;&gt;s1</title>\n<path fill=\"none\" stroke=\"#0000ff\" stroke-dasharray=\"5,2\" d=\"M964.4796,-170.89C942.9286,-167.8208 912.4497,-162.0831 887.3087,-152 881.8827,-149.8239 876.3943,-147.1497 871.069,-144.2503\"/>\n<polygon fill=\"#0000ff\" stroke=\"#0000ff\" points=\"872.7141,-141.1589 862.3007,-139.2062 869.2235,-147.2265 872.7141,-141.1589\"/>\n<text text-anchor=\"middle\" x=\"916.8087\" y=\"-173.2\" font-family=\"Arial\" font-size=\"16.00\" fill=\"#000000\">p = 0.95</text>\n</g>\n<!-- s2&#45;a0&#45;&gt;s0 -->\n<g id=\"edge14\" class=\"edge\">\n<title>s2&#45;a0&#45;&gt;s0</title>\n<path fill=\"none\" stroke=\"#0000ff\" stroke-dasharray=\"5,2\" d=\"M640.4115,-153.6379C634.1509,-151.8874 627.4576,-150.2085 621.1543,-149 446.1882,-115.4541 399.1567,-130.324 221.1543,-123 177.0766,-121.1864 126.9601,-119.2603 90.6308,-117.8886\"/>\n<polygon fill=\"#0000ff\" stroke=\"#0000ff\" points=\"90.4191,-114.3783 80.2944,-117.4993 90.1556,-121.3733 90.4191,-114.3783\"/>\n<text text-anchor=\"middle\" x=\"307.1543\" y=\"-131.2\" font-family=\"Arial\" font-size=\"16.00\" fill=\"#000000\">p = 0.4</text>\n</g>\n<!-- s2&#45;a0&#45;&gt;s2 -->\n<g id=\"edge15\" class=\"edge\">\n<title>s2&#45;a0&#45;&gt;s2</title>\n<path fill=\"none\" stroke=\"#0000ff\" stroke-dasharray=\"5,2\" d=\"M639.3416,-157.9791C604.5225,-153.6753 542.7351,-148.7496 491.1543,-159 487.066,-159.8125 482.9045,-160.9179 478.7831,-162.2107\"/>\n<polygon fill=\"#0000ff\" stroke=\"#0000ff\" points=\"477.5839,-158.9221 469.2922,-165.5174 479.887,-165.5324 477.5839,-158.9221\"/>\n<text text-anchor=\"middle\" x=\"556.1543\" y=\"-164.2\" font-family=\"Arial\" font-size=\"16.00\" fill=\"#000000\">p = 0.6</text>\n</g>\n<!-- s2&#45;a1&#45;&gt;s0 -->\n<g id=\"edge17\" class=\"edge\">\n<title>s2&#45;a1&#45;&gt;s0</title>\n<path fill=\"none\" stroke=\"#0000ff\" stroke-dasharray=\"5,2\" d=\"M643.5482,-64.3784C636.6374,-60.5416 628.8477,-56.9714 621.1543,-55 456.6448,-12.8443 407.9727,-45.5381 239.1543,-64 175.7418,-70.9348 158.9077,-71.0397 98,-90 93.9106,-91.273 89.7281,-92.7576 85.5746,-94.3605\"/>\n<polygon fill=\"#0000ff\" stroke=\"#0000ff\" points=\"83.9293,-91.2516 75.9933,-98.271 86.5745,-97.7326 83.9293,-91.2516\"/>\n<text text-anchor=\"middle\" x=\"307.1543\" y=\"-69.2\" font-family=\"Arial\" font-size=\"16.00\" fill=\"#000000\">p = 0.3 &#160;reward =&#45;1</text>\n</g>\n<!-- s2&#45;a1&#45;&gt;s2 -->\n<g id=\"edge19\" class=\"edge\">\n<title>s2&#45;a1&#45;&gt;s2</title>\n<path fill=\"none\" stroke=\"#0000ff\" stroke-dasharray=\"5,2\" d=\"M640.4326,-71.0411C604.0521,-60.3658 537.6085,-47.2183 491.1543,-75 469.3384,-88.0469 455.2541,-112.4282 446.4357,-134.7277\"/>\n<polygon fill=\"#0000ff\" stroke=\"#0000ff\" points=\"443.1489,-133.5248 442.9716,-144.1181 449.7163,-135.9475 443.1489,-133.5248\"/>\n<text text-anchor=\"middle\" x=\"556.1543\" y=\"-80.2\" font-family=\"Arial\" font-size=\"16.00\" fill=\"#000000\">p = 0.4</text>\n</g>\n<!-- s2&#45;a1&#45;&gt;s1 -->\n<g id=\"edge18\" class=\"edge\">\n<title>s2&#45;a1&#45;&gt;s1</title>\n<path fill=\"none\" stroke=\"#0000ff\" stroke-dasharray=\"5,2\" d=\"M693.9433,-86.0256C717.3708,-91.2132 751.7657,-98.8294 780.0218,-105.0862\"/>\n<polygon fill=\"#0000ff\" stroke=\"#0000ff\" points=\"779.6023,-108.5781 790.1225,-107.3229 781.1157,-101.7436 779.6023,-108.5781\"/>\n<text text-anchor=\"middle\" x=\"741.8087\" y=\"-108.2\" font-family=\"Arial\" font-size=\"16.00\" fill=\"#000000\">p = 0.3</text>\n</g>\n</g>\n</svg>\n"
          },
          "metadata": {
            "tags": []
          }
        }
      ]
    },
    {
      "cell_type": "code",
      "metadata": {
        "colab": {
          "base_uri": "https://localhost:8080/"
        },
        "id": "haYTue-EP2qZ",
        "outputId": "95cc1203-56b3-437b-d401-6f9282f2a508"
      },
      "source": [
        "import random\n",
        "\n",
        "for t in range(200):\n",
        "  actions = ['a0', 'a1']\n",
        "  action = random.choice(actions)\n",
        "  observation, reward, done, info = mdp.step(action)\n",
        "  print(t, observation, reward, done)"
      ],
      "execution_count": 21,
      "outputs": [
        {
          "output_type": "stream",
          "text": [
            "0 s2 0.0 False\n",
            "1 s2 0.0 False\n",
            "2 s0 0.0 False\n",
            "3 s0 0.0 False\n",
            "4 s0 0.0 False\n",
            "5 s0 0.0 False\n",
            "6 s2 0.0 False\n",
            "7 s1 0.0 False\n",
            "8 s1 0.0 False\n",
            "9 s0 5 False\n",
            "10 s0 0.0 False\n",
            "11 s2 0.0 False\n",
            "12 s0 0.0 False\n",
            "13 s0 0.0 False\n",
            "14 s2 0.0 False\n",
            "15 s2 0.0 False\n",
            "16 s0 0.0 False\n",
            "17 s2 0.0 False\n",
            "18 s2 0.0 False\n",
            "19 s2 0.0 False\n",
            "20 s2 0.0 False\n",
            "21 s0 0.0 False\n",
            "22 s2 0.0 False\n",
            "23 s0 0.0 False\n",
            "24 s2 0.0 False\n",
            "25 s0 -1 False\n",
            "26 s2 0.0 False\n",
            "27 s2 0.0 False\n",
            "28 s0 -1 False\n",
            "29 s2 0.0 False\n",
            "30 s2 0.0 False\n",
            "31 s1 0.0 False\n",
            "32 s1 0.0 False\n",
            "33 s0 5 False\n",
            "34 s2 0.0 False\n",
            "35 s0 0.0 False\n",
            "36 s2 0.0 False\n",
            "37 s0 -1 False\n",
            "38 s2 0.0 False\n",
            "39 s2 0.0 False\n",
            "40 s2 0.0 False\n",
            "41 s2 0.0 False\n",
            "42 s2 0.0 False\n",
            "43 s0 -1 False\n",
            "44 s2 0.0 False\n",
            "45 s1 0.0 False\n",
            "46 s0 5 False\n",
            "47 s0 0.0 False\n",
            "48 s2 0.0 False\n",
            "49 s0 0.0 False\n",
            "50 s2 0.0 False\n",
            "51 s0 -1 False\n",
            "52 s2 0.0 False\n",
            "53 s0 0.0 False\n",
            "54 s2 0.0 False\n",
            "55 s2 0.0 False\n",
            "56 s2 0.0 False\n",
            "57 s1 0.0 False\n",
            "58 s1 0.0 False\n",
            "59 s0 5 False\n",
            "60 s2 0.0 False\n",
            "61 s1 0.0 False\n",
            "62 s0 5 False\n",
            "63 s2 0.0 False\n",
            "64 s2 0.0 False\n",
            "65 s0 0.0 False\n",
            "66 s2 0.0 False\n",
            "67 s1 0.0 False\n",
            "68 s1 0.0 False\n",
            "69 s1 0.0 False\n",
            "70 s1 0.0 False\n",
            "71 s0 5 False\n",
            "72 s2 0.0 False\n",
            "73 s0 -1 False\n",
            "74 s2 0.0 False\n",
            "75 s1 0.0 False\n",
            "76 s0 5 False\n",
            "77 s0 0.0 False\n",
            "78 s2 0.0 False\n",
            "79 s0 0.0 False\n",
            "80 s2 0.0 False\n",
            "81 s2 0.0 False\n",
            "82 s2 0.0 False\n",
            "83 s0 0.0 False\n",
            "84 s2 0.0 False\n",
            "85 s2 0.0 False\n",
            "86 s2 0.0 False\n",
            "87 s2 0.0 False\n",
            "88 s2 0.0 False\n",
            "89 s2 0.0 False\n",
            "90 s1 0.0 False\n",
            "91 s1 0.0 False\n",
            "92 s1 0.0 False\n",
            "93 s1 0.0 False\n",
            "94 s0 5 False\n",
            "95 s2 0.0 False\n",
            "96 s1 0.0 False\n",
            "97 s1 0.0 False\n",
            "98 s0 5 False\n",
            "99 s0 0.0 False\n",
            "100 s2 0.0 False\n",
            "101 s2 0.0 False\n",
            "102 s2 0.0 False\n",
            "103 s0 0.0 False\n",
            "104 s2 0.0 False\n",
            "105 s0 0.0 False\n",
            "106 s0 0.0 False\n",
            "107 s2 0.0 False\n",
            "108 s1 0.0 False\n",
            "109 s1 0.0 False\n",
            "110 s0 5 False\n",
            "111 s2 0.0 False\n",
            "112 s1 0.0 False\n",
            "113 s1 0.0 False\n",
            "114 s1 0.0 False\n",
            "115 s1 0.0 False\n",
            "116 s0 5 False\n",
            "117 s2 0.0 False\n",
            "118 s1 0.0 False\n",
            "119 s1 0.0 False\n",
            "120 s0 5 False\n",
            "121 s0 0.0 False\n",
            "122 s2 0.0 False\n",
            "123 s2 0.0 False\n",
            "124 s2 0.0 False\n",
            "125 s0 -1 False\n",
            "126 s2 0.0 False\n",
            "127 s1 0.0 False\n",
            "128 s1 0.0 False\n",
            "129 s0 5 False\n",
            "130 s2 0.0 False\n",
            "131 s2 0.0 False\n",
            "132 s2 0.0 False\n",
            "133 s1 0.0 False\n",
            "134 s0 5 False\n",
            "135 s2 0.0 False\n",
            "136 s2 0.0 False\n",
            "137 s0 0.0 False\n",
            "138 s0 0.0 False\n",
            "139 s0 0.0 False\n",
            "140 s0 0.0 False\n",
            "141 s2 0.0 False\n",
            "142 s0 0.0 False\n",
            "143 s0 0.0 False\n",
            "144 s2 0.0 False\n",
            "145 s2 0.0 False\n",
            "146 s2 0.0 False\n",
            "147 s0 0.0 False\n",
            "148 s2 0.0 False\n",
            "149 s2 0.0 False\n",
            "150 s2 0.0 False\n",
            "151 s2 0.0 False\n",
            "152 s0 -1 False\n",
            "153 s2 0.0 False\n",
            "154 s2 0.0 False\n",
            "155 s2 0.0 False\n",
            "156 s2 0.0 False\n",
            "157 s2 0.0 False\n",
            "158 s2 0.0 False\n",
            "159 s2 0.0 False\n",
            "160 s2 0.0 False\n",
            "161 s2 0.0 False\n",
            "162 s0 0.0 False\n",
            "163 s2 0.0 False\n",
            "164 s2 0.0 False\n",
            "165 s0 0.0 False\n",
            "166 s0 0.0 False\n",
            "167 s0 0.0 False\n",
            "168 s2 0.0 False\n",
            "169 s0 -1 False\n",
            "170 s2 0.0 False\n",
            "171 s0 0.0 False\n",
            "172 s2 0.0 False\n",
            "173 s2 0.0 False\n",
            "174 s2 0.0 False\n",
            "175 s2 0.0 False\n",
            "176 s2 0.0 False\n",
            "177 s2 0.0 False\n",
            "178 s0 0.0 False\n",
            "179 s2 0.0 False\n",
            "180 s2 0.0 False\n",
            "181 s1 0.0 False\n",
            "182 s1 0.0 False\n",
            "183 s0 5 False\n",
            "184 s2 0.0 False\n",
            "185 s2 0.0 False\n",
            "186 s2 0.0 False\n",
            "187 s2 0.0 False\n",
            "188 s0 0.0 False\n",
            "189 s2 0.0 False\n",
            "190 s2 0.0 False\n",
            "191 s2 0.0 False\n",
            "192 s1 0.0 False\n",
            "193 s1 0.0 False\n",
            "194 s1 0.0 False\n",
            "195 s1 0.0 False\n",
            "196 s1 0.0 False\n",
            "197 s1 0.0 False\n",
            "198 s1 0.0 False\n",
            "199 s1 0.0 False\n"
          ],
          "name": "stdout"
        }
      ]
    },
    {
      "cell_type": "code",
      "metadata": {
        "id": "Lj2v8AunGC3W",
        "colab": {
          "base_uri": "https://localhost:8080/"
        },
        "outputId": "b61bee94-2812-4bad-eac7-6a2605355ef1"
      },
      "source": [
        "state = mdp.reset()\n",
        "\n",
        "for t in range(200):\n",
        "\n",
        "  action = random.choice(mdp.get_possible_actions(state))\n",
        "  observation, reward, done, info = mdp.step(action)\n",
        "  state = observation\n",
        "\n",
        "  print(t, observation, reward, done)"
      ],
      "execution_count": 22,
      "outputs": [
        {
          "output_type": "stream",
          "text": [
            "0 s2 0.0 False\n",
            "1 s2 0.0 False\n",
            "2 s1 0.0 False\n",
            "3 s0 5 False\n",
            "4 s2 0.0 False\n",
            "5 s2 0.0 False\n",
            "6 s0 0.0 False\n",
            "7 s2 0.0 False\n",
            "8 s2 0.0 False\n",
            "9 s0 0.0 False\n",
            "10 s0 0.0 False\n",
            "11 s2 0.0 False\n",
            "12 s0 -1 False\n",
            "13 s0 0.0 False\n",
            "14 s2 0.0 False\n",
            "15 s0 -1 False\n",
            "16 s0 0.0 False\n",
            "17 s2 0.0 False\n",
            "18 s0 -1 False\n",
            "19 s2 0.0 False\n",
            "20 s0 -1 False\n",
            "21 s2 0.0 False\n",
            "22 s0 0.0 False\n",
            "23 s2 0.0 False\n",
            "24 s0 0.0 False\n",
            "25 s0 0.0 False\n",
            "26 s2 0.0 False\n",
            "27 s2 0.0 False\n",
            "28 s0 0.0 False\n",
            "29 s0 0.0 False\n",
            "30 s2 0.0 False\n",
            "31 s2 0.0 False\n",
            "32 s0 0.0 False\n",
            "33 s2 0.0 False\n",
            "34 s2 0.0 False\n",
            "35 s2 0.0 False\n",
            "36 s2 0.0 False\n",
            "37 s1 0.0 False\n",
            "38 s1 0.0 False\n",
            "39 s1 0.0 False\n",
            "40 s1 0.0 False\n",
            "41 s2 0.0 False\n",
            "42 s0 -1 False\n",
            "43 s2 0.0 False\n",
            "44 s2 0.0 False\n",
            "45 s2 0.0 False\n",
            "46 s2 0.0 False\n",
            "47 s0 0.0 False\n",
            "48 s2 0.0 False\n",
            "49 s2 0.0 False\n",
            "50 s0 0.0 False\n",
            "51 s2 0.0 False\n",
            "52 s0 0.0 False\n",
            "53 s0 0.0 False\n",
            "54 s0 0.0 False\n",
            "55 s2 0.0 False\n",
            "56 s2 0.0 False\n",
            "57 s2 0.0 False\n",
            "58 s1 0.0 False\n",
            "59 s0 5 False\n",
            "60 s2 0.0 False\n",
            "61 s2 0.0 False\n",
            "62 s0 -1 False\n",
            "63 s0 0.0 False\n",
            "64 s0 0.0 False\n",
            "65 s2 0.0 False\n",
            "66 s1 0.0 False\n",
            "67 s1 0.0 False\n",
            "68 s1 0.0 False\n",
            "69 s1 0.0 False\n",
            "70 s0 5 False\n",
            "71 s2 0.0 False\n",
            "72 s2 0.0 False\n",
            "73 s0 -1 False\n",
            "74 s2 0.0 False\n",
            "75 s0 0.0 False\n",
            "76 s2 0.0 False\n",
            "77 s0 0.0 False\n",
            "78 s0 0.0 False\n",
            "79 s2 0.0 False\n",
            "80 s0 -1 False\n",
            "81 s2 0.0 False\n",
            "82 s2 0.0 False\n",
            "83 s1 0.0 False\n",
            "84 s1 0.0 False\n",
            "85 s1 0.0 False\n",
            "86 s1 0.0 False\n",
            "87 s0 5 False\n",
            "88 s0 0.0 False\n",
            "89 s2 0.0 False\n",
            "90 s2 0.0 False\n",
            "91 s0 -1 False\n",
            "92 s0 0.0 False\n",
            "93 s2 0.0 False\n",
            "94 s1 0.0 False\n",
            "95 s1 0.0 False\n",
            "96 s0 5 False\n",
            "97 s2 0.0 False\n",
            "98 s0 0.0 False\n",
            "99 s2 0.0 False\n",
            "100 s2 0.0 False\n",
            "101 s2 0.0 False\n",
            "102 s2 0.0 False\n",
            "103 s1 0.0 False\n",
            "104 s1 0.0 False\n",
            "105 s0 5 False\n",
            "106 s0 0.0 False\n",
            "107 s0 0.0 False\n",
            "108 s2 0.0 False\n",
            "109 s1 0.0 False\n",
            "110 s0 5 False\n",
            "111 s2 0.0 False\n",
            "112 s1 0.0 False\n",
            "113 s1 0.0 False\n",
            "114 s0 5 False\n",
            "115 s0 0.0 False\n",
            "116 s2 0.0 False\n",
            "117 s1 0.0 False\n",
            "118 s1 0.0 False\n",
            "119 s2 0.0 False\n",
            "120 s1 0.0 False\n",
            "121 s0 5 False\n",
            "122 s2 0.0 False\n",
            "123 s1 0.0 False\n",
            "124 s1 0.0 False\n",
            "125 s1 0.0 False\n",
            "126 s0 5 False\n",
            "127 s2 0.0 False\n",
            "128 s2 0.0 False\n",
            "129 s0 0.0 False\n",
            "130 s2 0.0 False\n",
            "131 s2 0.0 False\n",
            "132 s2 0.0 False\n",
            "133 s1 0.0 False\n",
            "134 s1 0.0 False\n",
            "135 s0 5 False\n",
            "136 s0 0.0 False\n",
            "137 s0 0.0 False\n",
            "138 s2 0.0 False\n",
            "139 s2 0.0 False\n",
            "140 s1 0.0 False\n",
            "141 s1 0.0 False\n",
            "142 s1 0.0 False\n",
            "143 s1 0.0 False\n",
            "144 s0 5 False\n",
            "145 s2 0.0 False\n",
            "146 s0 0.0 False\n",
            "147 s0 0.0 False\n",
            "148 s2 0.0 False\n",
            "149 s1 0.0 False\n",
            "150 s1 0.0 False\n",
            "151 s1 0.0 False\n",
            "152 s1 0.0 False\n",
            "153 s1 0.0 False\n",
            "154 s0 5 False\n",
            "155 s2 0.0 False\n",
            "156 s2 0.0 False\n",
            "157 s0 -1 False\n",
            "158 s2 0.0 False\n",
            "159 s2 0.0 False\n",
            "160 s2 0.0 False\n",
            "161 s0 -1 False\n",
            "162 s2 0.0 False\n",
            "163 s2 0.0 False\n",
            "164 s1 0.0 False\n",
            "165 s2 0.0 False\n",
            "166 s2 0.0 False\n",
            "167 s2 0.0 False\n",
            "168 s0 -1 False\n",
            "169 s2 0.0 False\n",
            "170 s2 0.0 False\n",
            "171 s0 -1 False\n",
            "172 s0 0.0 False\n",
            "173 s2 0.0 False\n",
            "174 s0 0.0 False\n",
            "175 s2 0.0 False\n",
            "176 s1 0.0 False\n",
            "177 s2 0.0 False\n",
            "178 s2 0.0 False\n",
            "179 s2 0.0 False\n",
            "180 s1 0.0 False\n",
            "181 s0 5 False\n",
            "182 s2 0.0 False\n",
            "183 s1 0.0 False\n",
            "184 s0 5 False\n",
            "185 s0 0.0 False\n",
            "186 s2 0.0 False\n",
            "187 s2 0.0 False\n",
            "188 s2 0.0 False\n",
            "189 s1 0.0 False\n",
            "190 s1 0.0 False\n",
            "191 s1 0.0 False\n",
            "192 s0 5 False\n",
            "193 s2 0.0 False\n",
            "194 s0 0.0 False\n",
            "195 s2 0.0 False\n",
            "196 s2 0.0 False\n",
            "197 s0 0.0 False\n",
            "198 s0 0.0 False\n",
            "199 s0 0.0 False\n"
          ],
          "name": "stdout"
        }
      ]
    },
    {
      "cell_type": "code",
      "metadata": {
        "id": "0qumuj4ZqvNp"
      },
      "source": [
        "# Źródła:\n",
        "# [1] Yandex Data School, \"Markov Decision Process\", Github, https://github.com/yandexdataschool/Practical_RL/blob/master/week01_intro/crossentropy_method.ipynb"
      ],
      "execution_count": 10,
      "outputs": []
    }
  ]
}